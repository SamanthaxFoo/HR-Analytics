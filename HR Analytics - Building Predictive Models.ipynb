{
 "cells": [
  {
   "cell_type": "markdown",
   "metadata": {},
   "source": [
    "## 1. HR Analytics"
   ]
  },
  {
   "cell_type": "code",
   "execution_count": 2,
   "metadata": {},
   "outputs": [],
   "source": [
    "# import the required packages\n",
    "import pandas as pd  \n",
    "import numpy as np  \n",
    "import matplotlib.pyplot as plt  \n",
    "import random\n",
    "import statsmodels.api as sm\n",
    "from sklearn.model_selection import train_test_split \n",
    "from sklearn import metrics\n",
    "from sklearn.model_selection import GridSearchCV\n",
    "%matplotlib inline\n",
    "import time \n",
    "\n",
    "# For logistic and linear regression\n",
    "from sklearn.linear_model import LogisticRegression\n",
    "\n",
    "# For decision tree\n",
    "from sklearn import tree\n",
    "\n",
    "# For ANN\n",
    "from sklearn.neural_network import MLPClassifier\n",
    "\n",
    "# For AdaBoost\n",
    "from sklearn.ensemble import AdaBoostClassifier\n",
    "\n",
    "# For K-folds cross validation\n",
    "from sklearn.model_selection import cross_val_score, cross_validate\n",
    "\n",
    "# Random Forest\n",
    "from sklearn. ensemble import RandomForestClassifier, BaggingClassifier, AdaBoostClassifier, VotingClassifier\n",
    "from sklearn.svm import SVC\n",
    "from sklearn.tree import DecisionTreeClassifier"
   ]
  },
  {
   "cell_type": "code",
   "execution_count": 3,
   "metadata": {},
   "outputs": [],
   "source": [
    "def print_results(results):\n",
    "    print(\"BEST PARAM: {}\\n\".format(results.best_params_))\n",
    "    means = results.cv_results_['mean_test_score']\n",
    "    stds = results.cv_results_['std_test_score']\n",
    "    for mean, std, params in zip(means, stds, results.cv_results_['params']):\n",
    "        print(\"{} (+/1 {}) for {}\".format(round(mean, 3), round(std*2,3), params))\n",
    "        "
   ]
  },
  {
   "cell_type": "markdown",
   "metadata": {},
   "source": [
    "### 1.1 Load and Sample the data"
   ]
  },
  {
   "cell_type": "markdown",
   "metadata": {},
   "source": [
    "#### Loading the HR Data"
   ]
  },
  {
   "cell_type": "code",
   "execution_count": 4,
   "metadata": {},
   "outputs": [],
   "source": [
    "# Load the full dataset\n",
    "df = pd.read_csv('hr_data_new.csv')\n",
    "\n",
    "# Select a subset of colulmns\n",
    "df = df[[\"department\", \"region\", \"education\", \"gender\", \"recruitment_channel\", \n",
    "                  \"no_of_trainings\", \"age\", \"previous_year_rating\", \"length_of_service\", \n",
    "                  \"KPIs_met\", \"awards_won?\", \"avg_training_score\", \"is_promoted\"]]"
   ]
  },
  {
   "cell_type": "code",
   "execution_count": 4,
   "metadata": {},
   "outputs": [
    {
     "data": {
      "text/html": [
       "<div>\n",
       "<style scoped>\n",
       "    .dataframe tbody tr th:only-of-type {\n",
       "        vertical-align: middle;\n",
       "    }\n",
       "\n",
       "    .dataframe tbody tr th {\n",
       "        vertical-align: top;\n",
       "    }\n",
       "\n",
       "    .dataframe thead th {\n",
       "        text-align: right;\n",
       "    }\n",
       "</style>\n",
       "<table border=\"1\" class=\"dataframe\">\n",
       "  <thead>\n",
       "    <tr style=\"text-align: right;\">\n",
       "      <th></th>\n",
       "      <th>department</th>\n",
       "      <th>region</th>\n",
       "      <th>education</th>\n",
       "      <th>gender</th>\n",
       "      <th>recruitment_channel</th>\n",
       "      <th>no_of_trainings</th>\n",
       "      <th>age</th>\n",
       "      <th>previous_year_rating</th>\n",
       "      <th>length_of_service</th>\n",
       "      <th>KPIs_met</th>\n",
       "      <th>awards_won?</th>\n",
       "      <th>avg_training_score</th>\n",
       "      <th>is_promoted</th>\n",
       "    </tr>\n",
       "  </thead>\n",
       "  <tbody>\n",
       "    <tr>\n",
       "      <td>0</td>\n",
       "      <td>5</td>\n",
       "      <td>26</td>\n",
       "      <td>0</td>\n",
       "      <td>0</td>\n",
       "      <td>1</td>\n",
       "      <td>1</td>\n",
       "      <td>0.375</td>\n",
       "      <td>5.0</td>\n",
       "      <td>0</td>\n",
       "      <td>1</td>\n",
       "      <td>0</td>\n",
       "      <td>0</td>\n",
       "      <td>1</td>\n",
       "    </tr>\n",
       "    <tr>\n",
       "      <td>1</td>\n",
       "      <td>5</td>\n",
       "      <td>30</td>\n",
       "      <td>0</td>\n",
       "      <td>1</td>\n",
       "      <td>1</td>\n",
       "      <td>1</td>\n",
       "      <td>0.325</td>\n",
       "      <td>5.0</td>\n",
       "      <td>2</td>\n",
       "      <td>1</td>\n",
       "      <td>0</td>\n",
       "      <td>0</td>\n",
       "      <td>1</td>\n",
       "    </tr>\n",
       "    <tr>\n",
       "      <td>2</td>\n",
       "      <td>5</td>\n",
       "      <td>33</td>\n",
       "      <td>2</td>\n",
       "      <td>1</td>\n",
       "      <td>0</td>\n",
       "      <td>1</td>\n",
       "      <td>0.750</td>\n",
       "      <td>4.0</td>\n",
       "      <td>3</td>\n",
       "      <td>1</td>\n",
       "      <td>0</td>\n",
       "      <td>0</td>\n",
       "      <td>1</td>\n",
       "    </tr>\n",
       "    <tr>\n",
       "      <td>3</td>\n",
       "      <td>4</td>\n",
       "      <td>28</td>\n",
       "      <td>0</td>\n",
       "      <td>1</td>\n",
       "      <td>0</td>\n",
       "      <td>1</td>\n",
       "      <td>0.175</td>\n",
       "      <td>3.0</td>\n",
       "      <td>0</td>\n",
       "      <td>1</td>\n",
       "      <td>1</td>\n",
       "      <td>1</td>\n",
       "      <td>1</td>\n",
       "    </tr>\n",
       "    <tr>\n",
       "      <td>4</td>\n",
       "      <td>5</td>\n",
       "      <td>28</td>\n",
       "      <td>0</td>\n",
       "      <td>1</td>\n",
       "      <td>1</td>\n",
       "      <td>1</td>\n",
       "      <td>0.175</td>\n",
       "      <td>3.0</td>\n",
       "      <td>0</td>\n",
       "      <td>0</td>\n",
       "      <td>0</td>\n",
       "      <td>2</td>\n",
       "      <td>1</td>\n",
       "    </tr>\n",
       "  </tbody>\n",
       "</table>\n",
       "</div>"
      ],
      "text/plain": [
       "   department  region  education  gender  recruitment_channel  \\\n",
       "0           5      26          0       0                    1   \n",
       "1           5      30          0       1                    1   \n",
       "2           5      33          2       1                    0   \n",
       "3           4      28          0       1                    0   \n",
       "4           5      28          0       1                    1   \n",
       "\n",
       "   no_of_trainings    age  previous_year_rating  length_of_service  KPIs_met  \\\n",
       "0                1  0.375                   5.0                  0         1   \n",
       "1                1  0.325                   5.0                  2         1   \n",
       "2                1  0.750                   4.0                  3         1   \n",
       "3                1  0.175                   3.0                  0         1   \n",
       "4                1  0.175                   3.0                  0         0   \n",
       "\n",
       "   awards_won?  avg_training_score  is_promoted  \n",
       "0            0                   0            1  \n",
       "1            0                   0            1  \n",
       "2            0                   0            1  \n",
       "3            1                   1            1  \n",
       "4            0                   2            1  "
      ]
     },
     "execution_count": 4,
     "metadata": {},
     "output_type": "execute_result"
    }
   ],
   "source": [
    "df.head()"
   ]
  },
  {
   "cell_type": "code",
   "execution_count": 5,
   "metadata": {},
   "outputs": [
    {
     "name": "stdout",
     "output_type": "stream",
     "text": [
      "<class 'pandas.core.frame.DataFrame'>\n",
      "RangeIndex: 9336 entries, 0 to 9335\n",
      "Data columns (total 13 columns):\n",
      "department              9336 non-null int64\n",
      "region                  9336 non-null int64\n",
      "education               9336 non-null int64\n",
      "gender                  9336 non-null int64\n",
      "recruitment_channel     9336 non-null int64\n",
      "no_of_trainings         9336 non-null int64\n",
      "age                     9336 non-null float64\n",
      "previous_year_rating    9336 non-null float64\n",
      "length_of_service       9336 non-null int64\n",
      "KPIs_met                9336 non-null int64\n",
      "awards_won?             9336 non-null int64\n",
      "avg_training_score      9336 non-null int64\n",
      "is_promoted             9336 non-null int64\n",
      "dtypes: float64(2), int64(11)\n",
      "memory usage: 948.3 KB\n"
     ]
    }
   ],
   "source": [
    "df.info()"
   ]
  },
  {
   "cell_type": "code",
   "execution_count": 6,
   "metadata": {},
   "outputs": [
    {
     "name": "stdout",
     "output_type": "stream",
     "text": [
      "<class 'pandas.core.frame.DataFrame'>\n",
      "Int64Index: 9336 entries, 0 to 9335\n",
      "Data columns (total 13 columns):\n",
      "department              9336 non-null int64\n",
      "region                  9336 non-null int64\n",
      "education               9336 non-null int64\n",
      "gender                  9336 non-null int64\n",
      "recruitment_channel     9336 non-null int64\n",
      "no_of_trainings         9336 non-null int64\n",
      "age                     9336 non-null float64\n",
      "previous_year_rating    9336 non-null float64\n",
      "length_of_service       9336 non-null int64\n",
      "KPIs_met                9336 non-null int64\n",
      "awards_won?             9336 non-null int64\n",
      "avg_training_score      9336 non-null int64\n",
      "is_promoted             9336 non-null int64\n",
      "dtypes: float64(2), int64(11)\n",
      "memory usage: 1021.1 KB\n"
     ]
    }
   ],
   "source": [
    "# Drop all the rows with NA records\n",
    "df = df.dropna()\n",
    "df.info()"
   ]
  },
  {
   "cell_type": "markdown",
   "metadata": {},
   "source": [
    "#### Sampling the HR Data"
   ]
  },
  {
   "cell_type": "code",
   "execution_count": 5,
   "metadata": {},
   "outputs": [],
   "source": [
    "# Define Model Inputs (X) and Output (y)\n",
    "X = df.drop('is_promoted',axis=1)\n",
    "y = df[\"is_promoted\"]"
   ]
  },
  {
   "cell_type": "code",
   "execution_count": 6,
   "metadata": {},
   "outputs": [],
   "source": [
    "# Split both Inputs (X) and Ouput (y) into training set (70%) and testing set (30%)\n",
    "X_train, X_test, y_train, y_test = train_test_split(X, y, test_size=0.3, random_state=1)"
   ]
  },
  {
   "cell_type": "markdown",
   "metadata": {},
   "source": [
    "### 1.2 Build the Model(s)"
   ]
  },
  {
   "cell_type": "markdown",
   "metadata": {},
   "source": [
    "### 1.2.1 Using Logistic Regression"
   ]
  },
  {
   "cell_type": "markdown",
   "metadata": {},
   "source": [
    "#### Train the Model using testing"
   ]
  },
  {
   "cell_type": "code",
   "execution_count": 41,
   "metadata": {},
   "outputs": [],
   "source": [
    "# Create the model \"lg\"\n",
    "lg = LogisticRegression(solver='lbfgs', # optimization solver, default mode is lbfgs\n",
    "                        max_iter=10000) # maximum iterations: set a big number to make sure the optimization solver will run enough iterations for optimal model converge\n"
   ]
  },
  {
   "cell_type": "code",
   "execution_count": 42,
   "metadata": {},
   "outputs": [
    {
     "data": {
      "text/plain": [
       "LogisticRegression(C=1.0, class_weight=None, dual=False, fit_intercept=True,\n",
       "                   intercept_scaling=1, l1_ratio=None, max_iter=10000,\n",
       "                   multi_class='warn', n_jobs=None, penalty='l2',\n",
       "                   random_state=None, solver='lbfgs', tol=0.0001, verbose=0,\n",
       "                   warm_start=False)"
      ]
     },
     "execution_count": 42,
     "metadata": {},
     "output_type": "execute_result"
    }
   ],
   "source": [
    "# Fit the model to the training set\n",
    "lg.fit(X_train,y_train)"
   ]
  },
  {
   "cell_type": "code",
   "execution_count": 43,
   "metadata": {},
   "outputs": [
    {
     "name": "stdout",
     "output_type": "stream",
     "text": [
      "[[ 0.09909963  0.06236606  0.00790451 -0.22794505 -0.75851193  0.37042613\n",
      "   0.08748277  1.60301058  2.17919155  0.48565619]]\n",
      "[-2.77392505]\n"
     ]
    }
   ],
   "source": [
    "# print out the model coefficients and intercept\n",
    "print(lg.coef_)\n",
    "print(lg.intercept_)"
   ]
  },
  {
   "cell_type": "code",
   "execution_count": 44,
   "metadata": {},
   "outputs": [
    {
     "name": "stdout",
     "output_type": "stream",
     "text": [
      "0.722264728385616 (Train Accuracy)\n"
     ]
    }
   ],
   "source": [
    "# calculated the training accuracy\n",
    "print(lg.score(X_train, y_train), '(Train Accuracy)')"
   ]
  },
  {
   "cell_type": "code",
   "execution_count": 47,
   "metadata": {},
   "outputs": [
    {
     "data": {
      "text/plain": [
       "array([0, 0, 0, ..., 1, 0, 1], dtype=int64)"
      ]
     },
     "execution_count": 47,
     "metadata": {},
     "output_type": "execute_result"
    }
   ],
   "source": [
    "# Calculated the fitted values for training set\n",
    "y_fitted = lg.predict(X_train) # returns 0 or 1\n",
    "y_fitted_prob = lg.predict_proba(X_train)[:,-1] # returns probabilities"
   ]
  },
  {
   "cell_type": "code",
   "execution_count": 48,
   "metadata": {},
   "outputs": [
    {
     "name": "stdout",
     "output_type": "stream",
     "text": [
      "[0 0 0 ... 1 0 1]\n",
      "[0.07642186 0.31747747 0.38106416 ... 0.5507132  0.2763727  0.74078067]\n"
     ]
    }
   ],
   "source": [
    "print(y_fitted)\n",
    "print(y_fitted_prob)"
   ]
  },
  {
   "cell_type": "markdown",
   "metadata": {},
   "source": [
    "#### Evaluate the Model using testing"
   ]
  },
  {
   "cell_type": "code",
   "execution_count": 15,
   "metadata": {
    "scrolled": true
   },
   "outputs": [
    {
     "name": "stdout",
     "output_type": "stream",
     "text": [
      "0.7179578721885042 (Test Accuracy)\n"
     ]
    }
   ],
   "source": [
    "# calculated the testing accuracy\n",
    "print(lg.score(X_test, y_test), '(Test Accuracy)')"
   ]
  },
  {
   "cell_type": "markdown",
   "metadata": {},
   "source": [
    "#### Improving the Model "
   ]
  },
  {
   "cell_type": "code",
   "execution_count": 16,
   "metadata": {},
   "outputs": [
    {
     "name": "stdout",
     "output_type": "stream",
     "text": [
      "Optimization terminated successfully.\n",
      "         Current function value: 0.569040\n",
      "         Iterations 6\n"
     ]
    }
   ],
   "source": [
    "# The lg model refers to sklearn model and lg2 model refers to statsmodel.api model\n",
    "\n",
    "# Create another model lg2 using statsmodel.api: the Logit method and fit function\n",
    "lg2 = sm.Logit(y_train, X_train).fit()"
   ]
  },
  {
   "cell_type": "code",
   "execution_count": 17,
   "metadata": {
    "scrolled": false
   },
   "outputs": [
    {
     "data": {
      "text/html": [
       "<table class=\"simpletable\">\n",
       "<caption>Logit Regression Results</caption>\n",
       "<tr>\n",
       "  <th>Dep. Variable:</th>      <td>is_promoted</td>   <th>  No. Observations:  </th>  <td>  6535</td> \n",
       "</tr>\n",
       "<tr>\n",
       "  <th>Model:</th>                 <td>Logit</td>      <th>  Df Residuals:      </th>  <td>  6523</td> \n",
       "</tr>\n",
       "<tr>\n",
       "  <th>Method:</th>                 <td>MLE</td>       <th>  Df Model:          </th>  <td>    11</td> \n",
       "</tr>\n",
       "<tr>\n",
       "  <th>Date:</th>            <td>Mon, 25 Jan 2021</td> <th>  Pseudo R-squ.:     </th>  <td>0.1790</td> \n",
       "</tr>\n",
       "<tr>\n",
       "  <th>Time:</th>                <td>14:23:19</td>     <th>  Log-Likelihood:    </th> <td> -3718.7</td>\n",
       "</tr>\n",
       "<tr>\n",
       "  <th>converged:</th>             <td>True</td>       <th>  LL-Null:           </th> <td> -4529.7</td>\n",
       "</tr>\n",
       "<tr>\n",
       "  <th>Covariance Type:</th>     <td>nonrobust</td>    <th>  LLR p-value:       </th>  <td> 0.000</td> \n",
       "</tr>\n",
       "</table>\n",
       "<table class=\"simpletable\">\n",
       "<tr>\n",
       "            <td></td>              <th>coef</th>     <th>std err</th>      <th>z</th>      <th>P>|z|</th>  <th>[0.025</th>    <th>0.975]</th>  \n",
       "</tr>\n",
       "<tr>\n",
       "  <th>department</th>           <td>   -0.0219</td> <td>    0.017</td> <td>   -1.308</td> <td> 0.191</td> <td>   -0.055</td> <td>    0.011</td>\n",
       "</tr>\n",
       "<tr>\n",
       "  <th>region</th>               <td>   -0.0017</td> <td>    0.004</td> <td>   -0.450</td> <td> 0.653</td> <td>   -0.009</td> <td>    0.006</td>\n",
       "</tr>\n",
       "<tr>\n",
       "  <th>education</th>            <td>    0.1181</td> <td>    0.034</td> <td>    3.479</td> <td> 0.001</td> <td>    0.052</td> <td>    0.185</td>\n",
       "</tr>\n",
       "<tr>\n",
       "  <th>gender</th>               <td>   -0.2595</td> <td>    0.061</td> <td>   -4.222</td> <td> 0.000</td> <td>   -0.380</td> <td>   -0.139</td>\n",
       "</tr>\n",
       "<tr>\n",
       "  <th>recruitment_channel</th>  <td>   -0.1543</td> <td>    0.051</td> <td>   -3.027</td> <td> 0.002</td> <td>   -0.254</td> <td>   -0.054</td>\n",
       "</tr>\n",
       "<tr>\n",
       "  <th>no_of_trainings</th>      <td>   -0.6654</td> <td>    0.053</td> <td>  -12.602</td> <td> 0.000</td> <td>   -0.769</td> <td>   -0.562</td>\n",
       "</tr>\n",
       "<tr>\n",
       "  <th>age</th>                  <td>   -1.9150</td> <td>    0.185</td> <td>  -10.332</td> <td> 0.000</td> <td>   -2.278</td> <td>   -1.552</td>\n",
       "</tr>\n",
       "<tr>\n",
       "  <th>previous_year_rating</th> <td>    0.1028</td> <td>    0.024</td> <td>    4.345</td> <td> 0.000</td> <td>    0.056</td> <td>    0.149</td>\n",
       "</tr>\n",
       "<tr>\n",
       "  <th>length_of_service</th>    <td>    0.0789</td> <td>    0.029</td> <td>    2.767</td> <td> 0.006</td> <td>    0.023</td> <td>    0.135</td>\n",
       "</tr>\n",
       "<tr>\n",
       "  <th>KPIs_met</th>             <td>    1.4905</td> <td>    0.059</td> <td>   25.062</td> <td> 0.000</td> <td>    1.374</td> <td>    1.607</td>\n",
       "</tr>\n",
       "<tr>\n",
       "  <th>awards_won?</th>          <td>    2.1780</td> <td>    0.165</td> <td>   13.183</td> <td> 0.000</td> <td>    1.854</td> <td>    2.502</td>\n",
       "</tr>\n",
       "<tr>\n",
       "  <th>avg_training_score</th>   <td>    0.3162</td> <td>    0.032</td> <td>   10.031</td> <td> 0.000</td> <td>    0.254</td> <td>    0.378</td>\n",
       "</tr>\n",
       "</table>"
      ],
      "text/plain": [
       "<class 'statsmodels.iolib.summary.Summary'>\n",
       "\"\"\"\n",
       "                           Logit Regression Results                           \n",
       "==============================================================================\n",
       "Dep. Variable:            is_promoted   No. Observations:                 6535\n",
       "Model:                          Logit   Df Residuals:                     6523\n",
       "Method:                           MLE   Df Model:                           11\n",
       "Date:                Mon, 25 Jan 2021   Pseudo R-squ.:                  0.1790\n",
       "Time:                        14:23:19   Log-Likelihood:                -3718.7\n",
       "converged:                       True   LL-Null:                       -4529.7\n",
       "Covariance Type:            nonrobust   LLR p-value:                     0.000\n",
       "========================================================================================\n",
       "                           coef    std err          z      P>|z|      [0.025      0.975]\n",
       "----------------------------------------------------------------------------------------\n",
       "department              -0.0219      0.017     -1.308      0.191      -0.055       0.011\n",
       "region                  -0.0017      0.004     -0.450      0.653      -0.009       0.006\n",
       "education                0.1181      0.034      3.479      0.001       0.052       0.185\n",
       "gender                  -0.2595      0.061     -4.222      0.000      -0.380      -0.139\n",
       "recruitment_channel     -0.1543      0.051     -3.027      0.002      -0.254      -0.054\n",
       "no_of_trainings         -0.6654      0.053    -12.602      0.000      -0.769      -0.562\n",
       "age                     -1.9150      0.185    -10.332      0.000      -2.278      -1.552\n",
       "previous_year_rating     0.1028      0.024      4.345      0.000       0.056       0.149\n",
       "length_of_service        0.0789      0.029      2.767      0.006       0.023       0.135\n",
       "KPIs_met                 1.4905      0.059     25.062      0.000       1.374       1.607\n",
       "awards_won?              2.1780      0.165     13.183      0.000       1.854       2.502\n",
       "avg_training_score       0.3162      0.032     10.031      0.000       0.254       0.378\n",
       "========================================================================================\n",
       "\"\"\""
      ]
     },
     "execution_count": 17,
     "metadata": {},
     "output_type": "execute_result"
    }
   ],
   "source": [
    "# Print out the Model Summary\n",
    "lg2.summary()"
   ]
  },
  {
   "cell_type": "markdown",
   "metadata": {},
   "source": [
    "From the above model summary, we can see that `gender`, `no_of_trainings`, `age`, `previous_year_rating`, `KPIs_met`, `awards_won?`,`education`, `recruitment_channel` and `avg_training_score` have close to ZERO **p-value** (i.e. the column `P>|z|`). It means we have very high confidence on the coefficients of these features, or say these features are the most strong indicators to predict `is_promoted`. \n",
    "\n",
    "On the other hand,  `department`,`region` and `length_of_service` have very high **p-value**. It means we have very low confidence on the coeficients of these features and these features may not be the good indicators to predict `is_promoted`. \n",
    "\n",
    "We will utilize **p-value** to improve the model below."
   ]
  },
  {
   "cell_type": "markdown",
   "metadata": {},
   "source": [
    "##### (i) By dropping features with P|z|>0.05"
   ]
  },
  {
   "cell_type": "markdown",
   "metadata": {},
   "source": [
    "I will attempt to utilize the **p-value** obtained from the above Stats Model (the column `P>|z|`) and adjust the model inputs accordingly. Features with a P-value greater than `0.05`are considered weak predictors of the null hypothesis. These features tend to have little correlation to our target variable. Hence, we cannot reject that a non-zero correlation exists. With that said, I will remove these features, then train and evaluate the adjusted model to see whether I can improve the model performance by reducing the RMSE. "
   ]
  },
  {
   "cell_type": "code",
   "execution_count": 18,
   "metadata": {},
   "outputs": [],
   "source": [
    "# Define Model Inputs (X) and Output (y)\n",
    "X = df.drop(['department','region','length_of_service','is_promoted'],axis=1) \n",
    "y = df[\"is_promoted\"] "
   ]
  },
  {
   "cell_type": "code",
   "execution_count": 19,
   "metadata": {},
   "outputs": [],
   "source": [
    "# Split both Inputs (X) and Ouput (y) into training set (70%) and testing set (30%)\n",
    "X_train, X_test, y_train, y_test = train_test_split(X, y, test_size=0.3, random_state=1)"
   ]
  },
  {
   "cell_type": "code",
   "execution_count": 20,
   "metadata": {},
   "outputs": [
    {
     "name": "stdout",
     "output_type": "stream",
     "text": [
      "[[ 0.10642993  0.06025472  0.00886578 -0.22976113 -0.47835031  0.37368162\n",
      "   1.59385364  2.15764405  0.48439371]]\n",
      "[-2.76447397]\n"
     ]
    }
   ],
   "source": [
    "# Create and Train the Logistic Regression Model\n",
    "\n",
    "# Create the model \"lg\"\n",
    "lg = LogisticRegression(solver='lbfgs', # optimization solver, default mode is lbfgs\n",
    "                        max_iter=10000) # maximum iterations: set a big number to make sure the optimization solver will run enough iterations for optimal model converge\n",
    "\n",
    "# Fit the model to the training set\n",
    "lg.fit(X_train,y_train)\n",
    "\n",
    "# print out the model coefficients and intercept\n",
    "print(lg.coef_)\n",
    "print(lg.intercept_)"
   ]
  },
  {
   "cell_type": "code",
   "execution_count": 21,
   "metadata": {},
   "outputs": [
    {
     "name": "stdout",
     "output_type": "stream",
     "text": [
      "0.7213465952563122 (Train Accuracy)\n"
     ]
    }
   ],
   "source": [
    "# Calculate the training accuracy\n",
    "print(lg.score(X_train, y_train), '(Train Accuracy)')\n",
    "\n",
    "# Calculate the fitted values for training set\n",
    "y_fitted = lg.predict(X_train) # returns 0 or 1\n",
    "y_fitted_prob = lg.predict_proba(X_train)[:,0] # returns probabilities"
   ]
  },
  {
   "cell_type": "code",
   "execution_count": 22,
   "metadata": {},
   "outputs": [
    {
     "name": "stdout",
     "output_type": "stream",
     "text": [
      "0.7097465191003213 (Test Accuracy)\n"
     ]
    }
   ],
   "source": [
    "# Calculated the testing accuracy\n",
    "print(lg.score(X_test, y_test), '(Test Accuracy)')"
   ]
  },
  {
   "cell_type": "code",
   "execution_count": 23,
   "metadata": {
    "scrolled": false
   },
   "outputs": [
    {
     "name": "stdout",
     "output_type": "stream",
     "text": [
      "Optimization terminated successfully.\n",
      "         Current function value: 0.569830\n",
      "         Iterations 6\n"
     ]
    },
    {
     "data": {
      "text/html": [
       "<table class=\"simpletable\">\n",
       "<caption>Logit Regression Results</caption>\n",
       "<tr>\n",
       "  <th>Dep. Variable:</th>      <td>is_promoted</td>   <th>  No. Observations:  </th>  <td>  6535</td> \n",
       "</tr>\n",
       "<tr>\n",
       "  <th>Model:</th>                 <td>Logit</td>      <th>  Df Residuals:      </th>  <td>  6526</td> \n",
       "</tr>\n",
       "<tr>\n",
       "  <th>Method:</th>                 <td>MLE</td>       <th>  Df Model:          </th>  <td>     8</td> \n",
       "</tr>\n",
       "<tr>\n",
       "  <th>Date:</th>            <td>Mon, 25 Jan 2021</td> <th>  Pseudo R-squ.:     </th>  <td>0.1779</td> \n",
       "</tr>\n",
       "<tr>\n",
       "  <th>Time:</th>                <td>14:23:19</td>     <th>  Log-Likelihood:    </th> <td> -3723.8</td>\n",
       "</tr>\n",
       "<tr>\n",
       "  <th>converged:</th>             <td>True</td>       <th>  LL-Null:           </th> <td> -4529.7</td>\n",
       "</tr>\n",
       "<tr>\n",
       "  <th>Covariance Type:</th>     <td>nonrobust</td>    <th>  LLR p-value:       </th>  <td> 0.000</td> \n",
       "</tr>\n",
       "</table>\n",
       "<table class=\"simpletable\">\n",
       "<tr>\n",
       "            <td></td>              <th>coef</th>     <th>std err</th>      <th>z</th>      <th>P>|z|</th>  <th>[0.025</th>    <th>0.975]</th>  \n",
       "</tr>\n",
       "<tr>\n",
       "  <th>education</th>            <td>    0.1238</td> <td>    0.034</td> <td>    3.679</td> <td> 0.000</td> <td>    0.058</td> <td>    0.190</td>\n",
       "</tr>\n",
       "<tr>\n",
       "  <th>gender</th>               <td>   -0.2886</td> <td>    0.058</td> <td>   -4.933</td> <td> 0.000</td> <td>   -0.403</td> <td>   -0.174</td>\n",
       "</tr>\n",
       "<tr>\n",
       "  <th>recruitment_channel</th>  <td>   -0.1621</td> <td>    0.051</td> <td>   -3.208</td> <td> 0.001</td> <td>   -0.261</td> <td>   -0.063</td>\n",
       "</tr>\n",
       "<tr>\n",
       "  <th>no_of_trainings</th>      <td>   -0.6937</td> <td>    0.050</td> <td>  -13.870</td> <td> 0.000</td> <td>   -0.792</td> <td>   -0.596</td>\n",
       "</tr>\n",
       "<tr>\n",
       "  <th>age</th>                  <td>   -1.7002</td> <td>    0.154</td> <td>  -11.063</td> <td> 0.000</td> <td>   -2.001</td> <td>   -1.399</td>\n",
       "</tr>\n",
       "<tr>\n",
       "  <th>previous_year_rating</th> <td>    0.0896</td> <td>    0.021</td> <td>    4.238</td> <td> 0.000</td> <td>    0.048</td> <td>    0.131</td>\n",
       "</tr>\n",
       "<tr>\n",
       "  <th>KPIs_met</th>             <td>    1.4854</td> <td>    0.059</td> <td>   25.196</td> <td> 0.000</td> <td>    1.370</td> <td>    1.601</td>\n",
       "</tr>\n",
       "<tr>\n",
       "  <th>awards_won?</th>          <td>    2.1432</td> <td>    0.165</td> <td>   13.003</td> <td> 0.000</td> <td>    1.820</td> <td>    2.466</td>\n",
       "</tr>\n",
       "<tr>\n",
       "  <th>avg_training_score</th>   <td>    0.3370</td> <td>    0.025</td> <td>   13.385</td> <td> 0.000</td> <td>    0.288</td> <td>    0.386</td>\n",
       "</tr>\n",
       "</table>"
      ],
      "text/plain": [
       "<class 'statsmodels.iolib.summary.Summary'>\n",
       "\"\"\"\n",
       "                           Logit Regression Results                           \n",
       "==============================================================================\n",
       "Dep. Variable:            is_promoted   No. Observations:                 6535\n",
       "Model:                          Logit   Df Residuals:                     6526\n",
       "Method:                           MLE   Df Model:                            8\n",
       "Date:                Mon, 25 Jan 2021   Pseudo R-squ.:                  0.1779\n",
       "Time:                        14:23:19   Log-Likelihood:                -3723.8\n",
       "converged:                       True   LL-Null:                       -4529.7\n",
       "Covariance Type:            nonrobust   LLR p-value:                     0.000\n",
       "========================================================================================\n",
       "                           coef    std err          z      P>|z|      [0.025      0.975]\n",
       "----------------------------------------------------------------------------------------\n",
       "education                0.1238      0.034      3.679      0.000       0.058       0.190\n",
       "gender                  -0.2886      0.058     -4.933      0.000      -0.403      -0.174\n",
       "recruitment_channel     -0.1621      0.051     -3.208      0.001      -0.261      -0.063\n",
       "no_of_trainings         -0.6937      0.050    -13.870      0.000      -0.792      -0.596\n",
       "age                     -1.7002      0.154    -11.063      0.000      -2.001      -1.399\n",
       "previous_year_rating     0.0896      0.021      4.238      0.000       0.048       0.131\n",
       "KPIs_met                 1.4854      0.059     25.196      0.000       1.370       1.601\n",
       "awards_won?              2.1432      0.165     13.003      0.000       1.820       2.466\n",
       "avg_training_score       0.3370      0.025     13.385      0.000       0.288       0.386\n",
       "========================================================================================\n",
       "\"\"\""
      ]
     },
     "execution_count": 23,
     "metadata": {},
     "output_type": "execute_result"
    }
   ],
   "source": [
    "# Use Stats Model to evaluate the p-value of each coefficient\n",
    "lg2 = sm.Logit(y_train, X_train).fit()\n",
    "# Print out the Model Summary\n",
    "lg2.summary()"
   ]
  },
  {
   "cell_type": "markdown",
   "metadata": {},
   "source": [
    "#### Comments on the Performance"
   ]
  },
  {
   "cell_type": "markdown",
   "metadata": {},
   "source": [
    "The model performance of the training and testing accuracy did not improve after removing features with `P>|z|` > 0.05\\\n",
    "0.7323641928079572 (Train Accuracy) --> 0.7228768171384851 (Train Accuracy)\\\n",
    "0.7179578721885042 (Test Accuracy) --> 0.7097465191003213 (Test Accuracy)"
   ]
  },
  {
   "cell_type": "markdown",
   "metadata": {},
   "source": [
    "##### (ii) By adding back features from dataset"
   ]
  },
  {
   "cell_type": "code",
   "execution_count": 24,
   "metadata": {},
   "outputs": [],
   "source": [
    "# Load the full dataset\n",
    "df_new = pd.read_csv('hr_data_new.csv')\n",
    "\n",
    "# Select a subset of colulmns\n",
    "df_new = df_new[[\"department\", \"region\", \"education\", \"gender\", \"recruitment_channel\", \n",
    "                  \"no_of_trainings\", \"age\", \"previous_year_rating\", \"length_of_service\", \n",
    "                  \"KPIs_met\", \"awards_won?\", \"avg_training_score\", \"is_promoted\"]]"
   ]
  },
  {
   "cell_type": "code",
   "execution_count": 25,
   "metadata": {},
   "outputs": [],
   "source": [
    "# Define Model Inputs (X) and Output (y)\n",
    "X = df_new.drop(['department','region','is_promoted'],axis=1) #drop is_promoted\n",
    "y = df_new[\"is_promoted\"] "
   ]
  },
  {
   "cell_type": "code",
   "execution_count": 26,
   "metadata": {},
   "outputs": [],
   "source": [
    "# Split both Inputs (X) and Ouput (y) into training set (70%) and testing set (30%)\n",
    "X_train, X_test, y_train, y_test = train_test_split(X, y, test_size=0.3, random_state=1)"
   ]
  },
  {
   "cell_type": "code",
   "execution_count": 27,
   "metadata": {},
   "outputs": [
    {
     "name": "stdout",
     "output_type": "stream",
     "text": [
      "[[ 0.09909963  0.06236606  0.00790451 -0.22794505 -0.75851193  0.37042613\n",
      "   0.08748277  1.60301058  2.17919155  0.48565619]]\n",
      "[-2.77392505]\n"
     ]
    }
   ],
   "source": [
    "# Create and Train the Logistic Regression Model\n",
    "\n",
    "# Create the model \"lg\"\n",
    "lg = LogisticRegression(solver='lbfgs', # optimization solver, default mode is lbfgs\n",
    "                        max_iter=10000) # maximum iterations: set a big number to make sure the optimization solver will run enough iterations for optimal model converge\n",
    "\n",
    "# Fit the model to the training set\n",
    "lg.fit(X_train,y_train)\n",
    "\n",
    "# print out the model coefficients and intercept\n",
    "print(lg.coef_)\n",
    "print(lg.intercept_)"
   ]
  },
  {
   "cell_type": "code",
   "execution_count": 28,
   "metadata": {},
   "outputs": [
    {
     "name": "stdout",
     "output_type": "stream",
     "text": [
      "0.722264728385616 (Train Accuracy)\n"
     ]
    }
   ],
   "source": [
    "# Calculate the training accuracy\n",
    "print(lg.score(X_train, y_train), '(Train Accuracy)')\n",
    "\n",
    "# Calculate the fitted values for training set\n",
    "y_fitted = lg.predict(X_train) # returns 0 or 1\n",
    "y_fitted_prob = lg.predict_proba(X_train)[:,0] # returns probabilities"
   ]
  },
  {
   "cell_type": "code",
   "execution_count": 29,
   "metadata": {
    "scrolled": true
   },
   "outputs": [
    {
     "name": "stdout",
     "output_type": "stream",
     "text": [
      "0.7129596572652624 (Test Accuracy)\n"
     ]
    }
   ],
   "source": [
    "# Calculated the testing accuracy\n",
    "print(lg.score(X_test, y_test), '(Test Accuracy)')"
   ]
  },
  {
   "cell_type": "code",
   "execution_count": 30,
   "metadata": {
    "scrolled": false
   },
   "outputs": [
    {
     "name": "stdout",
     "output_type": "stream",
     "text": [
      "Optimization terminated successfully.\n",
      "         Current function value: 0.569237\n",
      "         Iterations 6\n"
     ]
    },
    {
     "data": {
      "text/html": [
       "<table class=\"simpletable\">\n",
       "<caption>Logit Regression Results</caption>\n",
       "<tr>\n",
       "  <th>Dep. Variable:</th>      <td>is_promoted</td>   <th>  No. Observations:  </th>  <td>  6535</td> \n",
       "</tr>\n",
       "<tr>\n",
       "  <th>Model:</th>                 <td>Logit</td>      <th>  Df Residuals:      </th>  <td>  6525</td> \n",
       "</tr>\n",
       "<tr>\n",
       "  <th>Method:</th>                 <td>MLE</td>       <th>  Df Model:          </th>  <td>     9</td> \n",
       "</tr>\n",
       "<tr>\n",
       "  <th>Date:</th>            <td>Mon, 25 Jan 2021</td> <th>  Pseudo R-squ.:     </th>  <td>0.1788</td> \n",
       "</tr>\n",
       "<tr>\n",
       "  <th>Time:</th>                <td>14:23:20</td>     <th>  Log-Likelihood:    </th> <td> -3720.0</td>\n",
       "</tr>\n",
       "<tr>\n",
       "  <th>converged:</th>             <td>True</td>       <th>  LL-Null:           </th> <td> -4529.7</td>\n",
       "</tr>\n",
       "<tr>\n",
       "  <th>Covariance Type:</th>     <td>nonrobust</td>    <th>  LLR p-value:       </th>  <td> 0.000</td> \n",
       "</tr>\n",
       "</table>\n",
       "<table class=\"simpletable\">\n",
       "<tr>\n",
       "            <td></td>              <th>coef</th>     <th>std err</th>      <th>z</th>      <th>P>|z|</th>  <th>[0.025</th>    <th>0.975]</th>  \n",
       "</tr>\n",
       "<tr>\n",
       "  <th>education</th>            <td>    0.1180</td> <td>    0.034</td> <td>    3.497</td> <td> 0.000</td> <td>    0.052</td> <td>    0.184</td>\n",
       "</tr>\n",
       "<tr>\n",
       "  <th>gender</th>               <td>   -0.2886</td> <td>    0.059</td> <td>   -4.930</td> <td> 0.000</td> <td>   -0.403</td> <td>   -0.174</td>\n",
       "</tr>\n",
       "<tr>\n",
       "  <th>recruitment_channel</th>  <td>   -0.1632</td> <td>    0.051</td> <td>   -3.228</td> <td> 0.001</td> <td>   -0.262</td> <td>   -0.064</td>\n",
       "</tr>\n",
       "<tr>\n",
       "  <th>no_of_trainings</th>      <td>   -0.6925</td> <td>    0.050</td> <td>  -13.848</td> <td> 0.000</td> <td>   -0.790</td> <td>   -0.594</td>\n",
       "</tr>\n",
       "<tr>\n",
       "  <th>age</th>                  <td>   -1.9679</td> <td>    0.182</td> <td>  -10.805</td> <td> 0.000</td> <td>   -2.325</td> <td>   -1.611</td>\n",
       "</tr>\n",
       "<tr>\n",
       "  <th>previous_year_rating</th> <td>    0.0863</td> <td>    0.021</td> <td>    4.072</td> <td> 0.000</td> <td>    0.045</td> <td>    0.128</td>\n",
       "</tr>\n",
       "<tr>\n",
       "  <th>length_of_service</th>    <td>    0.0793</td> <td>    0.029</td> <td>    2.781</td> <td> 0.005</td> <td>    0.023</td> <td>    0.135</td>\n",
       "</tr>\n",
       "<tr>\n",
       "  <th>KPIs_met</th>             <td>    1.4937</td> <td>    0.059</td> <td>   25.269</td> <td> 0.000</td> <td>    1.378</td> <td>    1.610</td>\n",
       "</tr>\n",
       "<tr>\n",
       "  <th>awards_won?</th>          <td>    2.1655</td> <td>    0.165</td> <td>   13.118</td> <td> 0.000</td> <td>    1.842</td> <td>    2.489</td>\n",
       "</tr>\n",
       "<tr>\n",
       "  <th>avg_training_score</th>   <td>    0.3376</td> <td>    0.025</td> <td>   13.402</td> <td> 0.000</td> <td>    0.288</td> <td>    0.387</td>\n",
       "</tr>\n",
       "</table>"
      ],
      "text/plain": [
       "<class 'statsmodels.iolib.summary.Summary'>\n",
       "\"\"\"\n",
       "                           Logit Regression Results                           \n",
       "==============================================================================\n",
       "Dep. Variable:            is_promoted   No. Observations:                 6535\n",
       "Model:                          Logit   Df Residuals:                     6525\n",
       "Method:                           MLE   Df Model:                            9\n",
       "Date:                Mon, 25 Jan 2021   Pseudo R-squ.:                  0.1788\n",
       "Time:                        14:23:20   Log-Likelihood:                -3720.0\n",
       "converged:                       True   LL-Null:                       -4529.7\n",
       "Covariance Type:            nonrobust   LLR p-value:                     0.000\n",
       "========================================================================================\n",
       "                           coef    std err          z      P>|z|      [0.025      0.975]\n",
       "----------------------------------------------------------------------------------------\n",
       "education                0.1180      0.034      3.497      0.000       0.052       0.184\n",
       "gender                  -0.2886      0.059     -4.930      0.000      -0.403      -0.174\n",
       "recruitment_channel     -0.1632      0.051     -3.228      0.001      -0.262      -0.064\n",
       "no_of_trainings         -0.6925      0.050    -13.848      0.000      -0.790      -0.594\n",
       "age                     -1.9679      0.182    -10.805      0.000      -2.325      -1.611\n",
       "previous_year_rating     0.0863      0.021      4.072      0.000       0.045       0.128\n",
       "length_of_service        0.0793      0.029      2.781      0.005       0.023       0.135\n",
       "KPIs_met                 1.4937      0.059     25.269      0.000       1.378       1.610\n",
       "awards_won?              2.1655      0.165     13.118      0.000       1.842       2.489\n",
       "avg_training_score       0.3376      0.025     13.402      0.000       0.288       0.387\n",
       "========================================================================================\n",
       "\"\"\""
      ]
     },
     "execution_count": 30,
     "metadata": {},
     "output_type": "execute_result"
    }
   ],
   "source": [
    "# Use Stats Model to evaluate the p-value of each coefficient\n",
    "lg2 = sm.Logit(y_train, X_train).fit()\n",
    "# Print out the Model Summary\n",
    "lg2.summary()"
   ]
  },
  {
   "cell_type": "code",
   "execution_count": 31,
   "metadata": {},
   "outputs": [
    {
     "name": "stderr",
     "output_type": "stream",
     "text": [
      "C:\\Users\\sammi\\Anaconda3\\lib\\site-packages\\sklearn\\linear_model\\logistic.py:432: FutureWarning: Default solver will be changed to 'lbfgs' in 0.22. Specify a solver to silence this warning.\n",
      "  FutureWarning)\n",
      "C:\\Users\\sammi\\Anaconda3\\lib\\site-packages\\sklearn\\linear_model\\logistic.py:432: FutureWarning: Default solver will be changed to 'lbfgs' in 0.22. Specify a solver to silence this warning.\n",
      "  FutureWarning)\n",
      "C:\\Users\\sammi\\Anaconda3\\lib\\site-packages\\sklearn\\linear_model\\logistic.py:432: FutureWarning: Default solver will be changed to 'lbfgs' in 0.22. Specify a solver to silence this warning.\n",
      "  FutureWarning)\n",
      "C:\\Users\\sammi\\Anaconda3\\lib\\site-packages\\sklearn\\linear_model\\logistic.py:432: FutureWarning: Default solver will be changed to 'lbfgs' in 0.22. Specify a solver to silence this warning.\n",
      "  FutureWarning)\n",
      "C:\\Users\\sammi\\Anaconda3\\lib\\site-packages\\sklearn\\linear_model\\logistic.py:432: FutureWarning: Default solver will be changed to 'lbfgs' in 0.22. Specify a solver to silence this warning.\n",
      "  FutureWarning)\n",
      "C:\\Users\\sammi\\Anaconda3\\lib\\site-packages\\sklearn\\linear_model\\logistic.py:432: FutureWarning: Default solver will be changed to 'lbfgs' in 0.22. Specify a solver to silence this warning.\n",
      "  FutureWarning)\n",
      "C:\\Users\\sammi\\Anaconda3\\lib\\site-packages\\sklearn\\linear_model\\logistic.py:432: FutureWarning: Default solver will be changed to 'lbfgs' in 0.22. Specify a solver to silence this warning.\n",
      "  FutureWarning)\n",
      "C:\\Users\\sammi\\Anaconda3\\lib\\site-packages\\sklearn\\linear_model\\logistic.py:432: FutureWarning: Default solver will be changed to 'lbfgs' in 0.22. Specify a solver to silence this warning.\n",
      "  FutureWarning)\n",
      "C:\\Users\\sammi\\Anaconda3\\lib\\site-packages\\sklearn\\linear_model\\logistic.py:432: FutureWarning: Default solver will be changed to 'lbfgs' in 0.22. Specify a solver to silence this warning.\n",
      "  FutureWarning)\n",
      "C:\\Users\\sammi\\Anaconda3\\lib\\site-packages\\sklearn\\linear_model\\logistic.py:432: FutureWarning: Default solver will be changed to 'lbfgs' in 0.22. Specify a solver to silence this warning.\n",
      "  FutureWarning)\n",
      "C:\\Users\\sammi\\Anaconda3\\lib\\site-packages\\sklearn\\linear_model\\logistic.py:432: FutureWarning: Default solver will be changed to 'lbfgs' in 0.22. Specify a solver to silence this warning.\n",
      "  FutureWarning)\n",
      "C:\\Users\\sammi\\Anaconda3\\lib\\site-packages\\sklearn\\linear_model\\logistic.py:432: FutureWarning: Default solver will be changed to 'lbfgs' in 0.22. Specify a solver to silence this warning.\n",
      "  FutureWarning)\n",
      "C:\\Users\\sammi\\Anaconda3\\lib\\site-packages\\sklearn\\linear_model\\logistic.py:432: FutureWarning: Default solver will be changed to 'lbfgs' in 0.22. Specify a solver to silence this warning.\n",
      "  FutureWarning)\n",
      "C:\\Users\\sammi\\Anaconda3\\lib\\site-packages\\sklearn\\linear_model\\logistic.py:432: FutureWarning: Default solver will be changed to 'lbfgs' in 0.22. Specify a solver to silence this warning.\n",
      "  FutureWarning)\n",
      "C:\\Users\\sammi\\Anaconda3\\lib\\site-packages\\sklearn\\linear_model\\logistic.py:432: FutureWarning: Default solver will be changed to 'lbfgs' in 0.22. Specify a solver to silence this warning.\n",
      "  FutureWarning)\n",
      "C:\\Users\\sammi\\Anaconda3\\lib\\site-packages\\sklearn\\linear_model\\logistic.py:432: FutureWarning: Default solver will be changed to 'lbfgs' in 0.22. Specify a solver to silence this warning.\n",
      "  FutureWarning)\n",
      "C:\\Users\\sammi\\Anaconda3\\lib\\site-packages\\sklearn\\linear_model\\logistic.py:432: FutureWarning: Default solver will be changed to 'lbfgs' in 0.22. Specify a solver to silence this warning.\n",
      "  FutureWarning)\n",
      "C:\\Users\\sammi\\Anaconda3\\lib\\site-packages\\sklearn\\linear_model\\logistic.py:432: FutureWarning: Default solver will be changed to 'lbfgs' in 0.22. Specify a solver to silence this warning.\n",
      "  FutureWarning)\n",
      "C:\\Users\\sammi\\Anaconda3\\lib\\site-packages\\sklearn\\linear_model\\logistic.py:432: FutureWarning: Default solver will be changed to 'lbfgs' in 0.22. Specify a solver to silence this warning.\n",
      "  FutureWarning)\n",
      "C:\\Users\\sammi\\Anaconda3\\lib\\site-packages\\sklearn\\linear_model\\logistic.py:432: FutureWarning: Default solver will be changed to 'lbfgs' in 0.22. Specify a solver to silence this warning.\n",
      "  FutureWarning)\n",
      "C:\\Users\\sammi\\Anaconda3\\lib\\site-packages\\sklearn\\linear_model\\logistic.py:432: FutureWarning: Default solver will be changed to 'lbfgs' in 0.22. Specify a solver to silence this warning.\n",
      "  FutureWarning)\n",
      "C:\\Users\\sammi\\Anaconda3\\lib\\site-packages\\sklearn\\linear_model\\logistic.py:432: FutureWarning: Default solver will be changed to 'lbfgs' in 0.22. Specify a solver to silence this warning.\n",
      "  FutureWarning)\n",
      "C:\\Users\\sammi\\Anaconda3\\lib\\site-packages\\sklearn\\linear_model\\logistic.py:432: FutureWarning: Default solver will be changed to 'lbfgs' in 0.22. Specify a solver to silence this warning.\n",
      "  FutureWarning)\n",
      "C:\\Users\\sammi\\Anaconda3\\lib\\site-packages\\sklearn\\linear_model\\logistic.py:432: FutureWarning: Default solver will be changed to 'lbfgs' in 0.22. Specify a solver to silence this warning.\n",
      "  FutureWarning)\n",
      "C:\\Users\\sammi\\Anaconda3\\lib\\site-packages\\sklearn\\linear_model\\logistic.py:432: FutureWarning: Default solver will be changed to 'lbfgs' in 0.22. Specify a solver to silence this warning.\n",
      "  FutureWarning)\n",
      "C:\\Users\\sammi\\Anaconda3\\lib\\site-packages\\sklearn\\linear_model\\logistic.py:432: FutureWarning: Default solver will be changed to 'lbfgs' in 0.22. Specify a solver to silence this warning.\n",
      "  FutureWarning)\n",
      "C:\\Users\\sammi\\Anaconda3\\lib\\site-packages\\sklearn\\linear_model\\logistic.py:432: FutureWarning: Default solver will be changed to 'lbfgs' in 0.22. Specify a solver to silence this warning.\n",
      "  FutureWarning)\n",
      "C:\\Users\\sammi\\Anaconda3\\lib\\site-packages\\sklearn\\linear_model\\logistic.py:432: FutureWarning: Default solver will be changed to 'lbfgs' in 0.22. Specify a solver to silence this warning.\n",
      "  FutureWarning)\n"
     ]
    },
    {
     "name": "stdout",
     "output_type": "stream",
     "text": [
      "BEST PARAM: {'C': 0.1}\n",
      "\n",
      "0.683 (+/1 0.016) for {'C': 0.001}\n",
      "0.716 (+/1 0.021) for {'C': 0.01}\n",
      "0.723 (+/1 0.016) for {'C': 0.1}\n",
      "0.722 (+/1 0.01) for {'C': 1}\n",
      "0.723 (+/1 0.011) for {'C': 10}\n",
      "0.723 (+/1 0.011) for {'C': 100}\n",
      "0.723 (+/1 0.011) for {'C': 1000}\n",
      "training accuracy is:  0.7237949502677888\n",
      "testing accuracy is:  0.7122456265619421\n"
     ]
    },
    {
     "name": "stderr",
     "output_type": "stream",
     "text": [
      "C:\\Users\\sammi\\Anaconda3\\lib\\site-packages\\sklearn\\linear_model\\logistic.py:432: FutureWarning: Default solver will be changed to 'lbfgs' in 0.22. Specify a solver to silence this warning.\n",
      "  FutureWarning)\n",
      "C:\\Users\\sammi\\Anaconda3\\lib\\site-packages\\sklearn\\linear_model\\logistic.py:432: FutureWarning: Default solver will be changed to 'lbfgs' in 0.22. Specify a solver to silence this warning.\n",
      "  FutureWarning)\n",
      "C:\\Users\\sammi\\Anaconda3\\lib\\site-packages\\sklearn\\linear_model\\logistic.py:432: FutureWarning: Default solver will be changed to 'lbfgs' in 0.22. Specify a solver to silence this warning.\n",
      "  FutureWarning)\n",
      "C:\\Users\\sammi\\Anaconda3\\lib\\site-packages\\sklearn\\linear_model\\logistic.py:432: FutureWarning: Default solver will be changed to 'lbfgs' in 0.22. Specify a solver to silence this warning.\n",
      "  FutureWarning)\n",
      "C:\\Users\\sammi\\Anaconda3\\lib\\site-packages\\sklearn\\linear_model\\logistic.py:432: FutureWarning: Default solver will be changed to 'lbfgs' in 0.22. Specify a solver to silence this warning.\n",
      "  FutureWarning)\n",
      "C:\\Users\\sammi\\Anaconda3\\lib\\site-packages\\sklearn\\linear_model\\logistic.py:432: FutureWarning: Default solver will be changed to 'lbfgs' in 0.22. Specify a solver to silence this warning.\n",
      "  FutureWarning)\n",
      "C:\\Users\\sammi\\Anaconda3\\lib\\site-packages\\sklearn\\linear_model\\logistic.py:432: FutureWarning: Default solver will be changed to 'lbfgs' in 0.22. Specify a solver to silence this warning.\n",
      "  FutureWarning)\n",
      "C:\\Users\\sammi\\Anaconda3\\lib\\site-packages\\sklearn\\linear_model\\logistic.py:432: FutureWarning: Default solver will be changed to 'lbfgs' in 0.22. Specify a solver to silence this warning.\n",
      "  FutureWarning)\n"
     ]
    }
   ],
   "source": [
    "# With removal of Department Head, region and is_promoted\n",
    "lg = LogisticRegression()\n",
    "parameters = {\n",
    "    'C': [0.001, 0.01, 0.1, 1, 10, 100, 1000]\n",
    "}\n",
    "cv = GridSearchCV(lg, parameters, cv = 5)\n",
    "cv.fit(X_train,y_train)\n",
    "print_results(cv)\n",
    "print('training accuracy is: ', cv.score(X_train,y_train))\n",
    "print('testing accuracy is: ', cv.score(X_test, y_test))"
   ]
  },
  {
   "cell_type": "markdown",
   "metadata": {},
   "source": [
    "#### Comments on the Performance"
   ]
  },
  {
   "cell_type": "markdown",
   "metadata": {},
   "source": [
    "The model performance of the training and testing accuracy **did not improve** after removing features with `P>|z|` > 0.05\\\n",
    "\n",
    "**Before Removing any features**\\\n",
    "0.732 (Train Accuracy)\\\n",
    "0.718 (Test Accuracy)\n",
    "\n",
    "**After Removing 'department','region','length_of_service','is_promoted'**\\\n",
    "0.732 (Train Accuracy) --> 0.723 (Train Accuracy)\\\n",
    "0.718 (Test Accuracy) --> 0.710 (Test Accuracy) \\\n",
    "After removing all the features that had a P-value more than 0.05, which are insignificant predictors of the is_promoted variable, he training and testing accuracy dropped by 1.3% and 1.14% respectively. This shows that removing the less signiificant features did not help improve the model's accuracy.\n",
    "\n",
    "**After Removing 'department','region','is_promoted'**\\\n",
    "0.732 (Train Accuracy) --> 0.722 (Train Accuracy)\\\n",
    "0.718 (Test Accuracy) --> 0.713 (Test Accuracy)\\\n",
    "Since length_of_service has a P-value slightly above the threshold of 0.05, i.e. 0.06, we will add it back into the model. After adding back length_of_service feature into the model, the training and testing accuracy improved marginally by 0.127% and 0.451% respectively from the earlier method. \n",
    "\n",
    "**After using GridSearch**\\\n",
    "0.724 (Train Accuracy)\\\n",
    "0.723 (Test Accuracy) --> improved by 1.83% when {'C': 0.1}"
   ]
  },
  {
   "cell_type": "markdown",
   "metadata": {},
   "source": [
    "### 1.2.2 Using Decision Trees"
   ]
  },
  {
   "cell_type": "code",
   "execution_count": 4,
   "metadata": {},
   "outputs": [],
   "source": [
    "df_new = pd.read_csv('hr_data_new.csv')"
   ]
  },
  {
   "cell_type": "code",
   "execution_count": 5,
   "metadata": {},
   "outputs": [],
   "source": [
    "# Define Model Inputs (X) and Output (y)\n",
    "X = df_new.drop('is_promoted',axis=1)\n",
    "y = df_new[\"is_promoted\"]"
   ]
  },
  {
   "cell_type": "code",
   "execution_count": 6,
   "metadata": {},
   "outputs": [],
   "source": [
    "# Split both Inputs (X) and Ouput (y) into training set (70%) and testing set (30%)\n",
    "X_train, X_test, y_train, y_test = train_test_split(X, y, test_size=0.3, random_state=1)"
   ]
  },
  {
   "cell_type": "markdown",
   "metadata": {},
   "source": [
    "#### Train the Model"
   ]
  },
  {
   "cell_type": "code",
   "execution_count": 7,
   "metadata": {},
   "outputs": [
    {
     "data": {
      "text/plain": [
       "DecisionTreeClassifier(class_weight=None, criterion='gini', max_depth=2,\n",
       "                       max_features=None, max_leaf_nodes=None,\n",
       "                       min_impurity_decrease=0.0, min_impurity_split=None,\n",
       "                       min_samples_leaf=1, min_samples_split=2,\n",
       "                       min_weight_fraction_leaf=0.0, presort=False,\n",
       "                       random_state=None, splitter='best')"
      ]
     },
     "execution_count": 7,
     "metadata": {},
     "output_type": "execute_result"
    }
   ],
   "source": [
    "# Create Decision Tree Model\n",
    "decision_tree = tree.DecisionTreeClassifier(max_depth = 2)\n",
    "decision_tree.fit(X_train, y_train)"
   ]
  },
  {
   "cell_type": "code",
   "execution_count": 9,
   "metadata": {},
   "outputs": [
    {
     "data": {
      "image/png": "[encoded data removed]",
      "text/plain": [
       "<Figure size 1800x720 with 1 Axes>"
      ]
     },
     "metadata": {
      "needs_background": "light"
     },
     "output_type": "display_data"
    }
   ],
   "source": [
    "plt.figure(figsize=(25,10))\n",
    "tree.plot_tree(decision_tree,\n",
    "              feature_names = list(df_new.drop(['is_promoted'], axis=1)),\n",
    "                class_names = ['Not Promoted', 'Promoted'],\n",
    "                rounded = True,\n",
    "                filled= True)\n",
    "plt.savefig('assignment2_tree_before.png',format='png')\n",
    "plt.show()             \n",
    "\n",
    "#Note that the decision tree on Jupyter looks through each colun e.g. title, age, gender.. \n",
    "#to determine which is the most important variable with the most reduction in gini impurity."
   ]
  },
  {
   "cell_type": "markdown",
   "metadata": {},
   "source": [
    "#### Evaluate the Model using testing"
   ]
  },
  {
   "cell_type": "markdown",
   "metadata": {},
   "source": [
    "(i) By `score` function"
   ]
  },
  {
   "cell_type": "code",
   "execution_count": 10,
   "metadata": {},
   "outputs": [
    {
     "name": "stdout",
     "output_type": "stream",
     "text": [
      "the training accuracy is:  0.6936495791889824\n"
     ]
    }
   ],
   "source": [
    "#training acc\n",
    "train_acc = decision_tree.score(X_train, y_train)\n",
    "print('the training accuracy is: ', train_acc)"
   ]
  },
  {
   "cell_type": "code",
   "execution_count": 11,
   "metadata": {
    "scrolled": true
   },
   "outputs": [
    {
     "name": "stdout",
     "output_type": "stream",
     "text": [
      "the testing accuracy is:  0.682256337022492\n"
     ]
    }
   ],
   "source": [
    "#testing acc\n",
    "test_acc = decision_tree.score(X_test, y_test)\n",
    "print('the testing accuracy is: ', test_acc)"
   ]
  },
  {
   "cell_type": "markdown",
   "metadata": {},
   "source": [
    "(ii) By `K-folds cross validation` function"
   ]
  },
  {
   "cell_type": "code",
   "execution_count": 12,
   "metadata": {},
   "outputs": [
    {
     "name": "stdout",
     "output_type": "stream",
     "text": [
      "train_score:  0.6902313485328566\n",
      "test_score:  0.6902311394479368\n"
     ]
    }
   ],
   "source": [
    "from sklearn.model_selection import cross_val_score, cross_validate\n",
    "\n",
    "# Evaluate the Model using K-folds Cross validation\n",
    "results  = cross_validate(decision_tree, X, y, scoring='accuracy', cv=5, return_train_score = True)\n",
    "print('train_score: ', np.mean(results['train_score']))\n",
    "print('test_score: ', np.mean(results['test_score']))"
   ]
  },
  {
   "cell_type": "markdown",
   "metadata": {},
   "source": [
    "#### Improving the Model (By hyper tuning)"
   ]
  },
  {
   "cell_type": "code",
   "execution_count": 13,
   "metadata": {},
   "outputs": [
    {
     "name": "stdout",
     "output_type": "stream",
     "text": [
      "Best training score:  0.7764345830145372\n",
      "{'criterion': 'entropy', 'max_depth': 7, 'min_samples_leaf': 1, 'min_samples_split': 10}\n"
     ]
    }
   ],
   "source": [
    "# Use GridSearch to find the best combination of model hyperparameters\n",
    "\n",
    "dt = tree.DecisionTreeClassifier(max_depth = 2)\n",
    "\n",
    "param_grid = { \"criterion\" : [\"gini\", \"entropy\"], \"min_samples_leaf\" : [1, 5, 10], \"min_samples_split\" : [2, 4, 10], 'max_depth' : [2,3,4,5,6,7]}\n",
    "\n",
    "gs = GridSearchCV(dt, param_grid=param_grid, scoring='accuracy', cv= 5, n_jobs=-1)\n",
    "# cv: number of partitions for cross validation\n",
    "# n_jobs: number of jobs to run in parallel, -1 means using all processors\n",
    "\n",
    "gs = gs.fit(X_train, y_train) \n",
    "\n",
    "print(\"Best training score: \",gs.best_score_)\n",
    "print(gs.best_params_)"
   ]
  },
  {
   "cell_type": "code",
   "execution_count": 11,
   "metadata": {
    "scrolled": true
   },
   "outputs": [
    {
     "name": "stdout",
     "output_type": "stream",
     "text": [
      "BEST PARAM: {'criterion': 'entropy', 'max_depth': 7, 'min_samples_leaf': 1, 'min_samples_split': 10}\n",
      "\n",
      "0.694 (+/1 0.023) for {'criterion': 'gini', 'max_depth': 2, 'min_samples_leaf': 1, 'min_samples_split': 2}\n",
      "0.694 (+/1 0.023) for {'criterion': 'gini', 'max_depth': 2, 'min_samples_leaf': 1, 'min_samples_split': 4}\n",
      "0.694 (+/1 0.023) for {'criterion': 'gini', 'max_depth': 2, 'min_samples_leaf': 1, 'min_samples_split': 10}\n",
      "0.694 (+/1 0.023) for {'criterion': 'gini', 'max_depth': 2, 'min_samples_leaf': 5, 'min_samples_split': 2}\n",
      "0.694 (+/1 0.023) for {'criterion': 'gini', 'max_depth': 2, 'min_samples_leaf': 5, 'min_samples_split': 4}\n",
      "0.694 (+/1 0.023) for {'criterion': 'gini', 'max_depth': 2, 'min_samples_leaf': 5, 'min_samples_split': 10}\n",
      "0.694 (+/1 0.023) for {'criterion': 'gini', 'max_depth': 2, 'min_samples_leaf': 10, 'min_samples_split': 2}\n",
      "0.694 (+/1 0.023) for {'criterion': 'gini', 'max_depth': 2, 'min_samples_leaf': 10, 'min_samples_split': 4}\n",
      "0.694 (+/1 0.023) for {'criterion': 'gini', 'max_depth': 2, 'min_samples_leaf': 10, 'min_samples_split': 10}\n",
      "0.744 (+/1 0.027) for {'criterion': 'gini', 'max_depth': 3, 'min_samples_leaf': 1, 'min_samples_split': 2}\n",
      "0.744 (+/1 0.027) for {'criterion': 'gini', 'max_depth': 3, 'min_samples_leaf': 1, 'min_samples_split': 4}\n",
      "0.744 (+/1 0.027) for {'criterion': 'gini', 'max_depth': 3, 'min_samples_leaf': 1, 'min_samples_split': 10}\n",
      "0.744 (+/1 0.027) for {'criterion': 'gini', 'max_depth': 3, 'min_samples_leaf': 5, 'min_samples_split': 2}\n",
      "0.744 (+/1 0.027) for {'criterion': 'gini', 'max_depth': 3, 'min_samples_leaf': 5, 'min_samples_split': 4}\n",
      "0.744 (+/1 0.027) for {'criterion': 'gini', 'max_depth': 3, 'min_samples_leaf': 5, 'min_samples_split': 10}\n",
      "0.743 (+/1 0.027) for {'criterion': 'gini', 'max_depth': 3, 'min_samples_leaf': 10, 'min_samples_split': 2}\n",
      "0.743 (+/1 0.027) for {'criterion': 'gini', 'max_depth': 3, 'min_samples_leaf': 10, 'min_samples_split': 4}\n",
      "0.743 (+/1 0.027) for {'criterion': 'gini', 'max_depth': 3, 'min_samples_leaf': 10, 'min_samples_split': 10}\n",
      "0.757 (+/1 0.025) for {'criterion': 'gini', 'max_depth': 4, 'min_samples_leaf': 1, 'min_samples_split': 2}\n",
      "0.757 (+/1 0.025) for {'criterion': 'gini', 'max_depth': 4, 'min_samples_leaf': 1, 'min_samples_split': 4}\n",
      "0.757 (+/1 0.025) for {'criterion': 'gini', 'max_depth': 4, 'min_samples_leaf': 1, 'min_samples_split': 10}\n",
      "0.757 (+/1 0.025) for {'criterion': 'gini', 'max_depth': 4, 'min_samples_leaf': 5, 'min_samples_split': 2}\n",
      "0.757 (+/1 0.025) for {'criterion': 'gini', 'max_depth': 4, 'min_samples_leaf': 5, 'min_samples_split': 4}\n",
      "0.757 (+/1 0.025) for {'criterion': 'gini', 'max_depth': 4, 'min_samples_leaf': 5, 'min_samples_split': 10}\n",
      "0.756 (+/1 0.025) for {'criterion': 'gini', 'max_depth': 4, 'min_samples_leaf': 10, 'min_samples_split': 2}\n",
      "0.756 (+/1 0.025) for {'criterion': 'gini', 'max_depth': 4, 'min_samples_leaf': 10, 'min_samples_split': 4}\n",
      "0.756 (+/1 0.025) for {'criterion': 'gini', 'max_depth': 4, 'min_samples_leaf': 10, 'min_samples_split': 10}\n",
      "0.766 (+/1 0.026) for {'criterion': 'gini', 'max_depth': 5, 'min_samples_leaf': 1, 'min_samples_split': 2}\n",
      "0.766 (+/1 0.026) for {'criterion': 'gini', 'max_depth': 5, 'min_samples_leaf': 1, 'min_samples_split': 4}\n",
      "0.766 (+/1 0.025) for {'criterion': 'gini', 'max_depth': 5, 'min_samples_leaf': 1, 'min_samples_split': 10}\n",
      "0.766 (+/1 0.025) for {'criterion': 'gini', 'max_depth': 5, 'min_samples_leaf': 5, 'min_samples_split': 2}\n",
      "0.766 (+/1 0.025) for {'criterion': 'gini', 'max_depth': 5, 'min_samples_leaf': 5, 'min_samples_split': 4}\n",
      "0.766 (+/1 0.025) for {'criterion': 'gini', 'max_depth': 5, 'min_samples_leaf': 5, 'min_samples_split': 10}\n",
      "0.764 (+/1 0.024) for {'criterion': 'gini', 'max_depth': 5, 'min_samples_leaf': 10, 'min_samples_split': 2}\n",
      "0.764 (+/1 0.024) for {'criterion': 'gini', 'max_depth': 5, 'min_samples_leaf': 10, 'min_samples_split': 4}\n",
      "0.764 (+/1 0.024) for {'criterion': 'gini', 'max_depth': 5, 'min_samples_leaf': 10, 'min_samples_split': 10}\n",
      "0.774 (+/1 0.029) for {'criterion': 'gini', 'max_depth': 6, 'min_samples_leaf': 1, 'min_samples_split': 2}\n",
      "0.773 (+/1 0.029) for {'criterion': 'gini', 'max_depth': 6, 'min_samples_leaf': 1, 'min_samples_split': 4}\n",
      "0.774 (+/1 0.029) for {'criterion': 'gini', 'max_depth': 6, 'min_samples_leaf': 1, 'min_samples_split': 10}\n",
      "0.774 (+/1 0.032) for {'criterion': 'gini', 'max_depth': 6, 'min_samples_leaf': 5, 'min_samples_split': 2}\n",
      "0.774 (+/1 0.032) for {'criterion': 'gini', 'max_depth': 6, 'min_samples_leaf': 5, 'min_samples_split': 4}\n",
      "0.774 (+/1 0.032) for {'criterion': 'gini', 'max_depth': 6, 'min_samples_leaf': 5, 'min_samples_split': 10}\n",
      "0.77 (+/1 0.028) for {'criterion': 'gini', 'max_depth': 6, 'min_samples_leaf': 10, 'min_samples_split': 2}\n",
      "0.77 (+/1 0.028) for {'criterion': 'gini', 'max_depth': 6, 'min_samples_leaf': 10, 'min_samples_split': 4}\n",
      "0.77 (+/1 0.028) for {'criterion': 'gini', 'max_depth': 6, 'min_samples_leaf': 10, 'min_samples_split': 10}\n",
      "0.772 (+/1 0.026) for {'criterion': 'gini', 'max_depth': 7, 'min_samples_leaf': 1, 'min_samples_split': 2}\n",
      "0.772 (+/1 0.029) for {'criterion': 'gini', 'max_depth': 7, 'min_samples_leaf': 1, 'min_samples_split': 4}\n",
      "0.772 (+/1 0.026) for {'criterion': 'gini', 'max_depth': 7, 'min_samples_leaf': 1, 'min_samples_split': 10}\n",
      "0.773 (+/1 0.027) for {'criterion': 'gini', 'max_depth': 7, 'min_samples_leaf': 5, 'min_samples_split': 2}\n",
      "0.773 (+/1 0.026) for {'criterion': 'gini', 'max_depth': 7, 'min_samples_leaf': 5, 'min_samples_split': 4}\n",
      "0.773 (+/1 0.026) for {'criterion': 'gini', 'max_depth': 7, 'min_samples_leaf': 5, 'min_samples_split': 10}\n",
      "0.774 (+/1 0.026) for {'criterion': 'gini', 'max_depth': 7, 'min_samples_leaf': 10, 'min_samples_split': 2}\n",
      "0.774 (+/1 0.026) for {'criterion': 'gini', 'max_depth': 7, 'min_samples_leaf': 10, 'min_samples_split': 4}\n",
      "0.774 (+/1 0.026) for {'criterion': 'gini', 'max_depth': 7, 'min_samples_leaf': 10, 'min_samples_split': 10}\n",
      "0.694 (+/1 0.023) for {'criterion': 'entropy', 'max_depth': 2, 'min_samples_leaf': 1, 'min_samples_split': 2}\n",
      "0.694 (+/1 0.023) for {'criterion': 'entropy', 'max_depth': 2, 'min_samples_leaf': 1, 'min_samples_split': 4}\n",
      "0.694 (+/1 0.023) for {'criterion': 'entropy', 'max_depth': 2, 'min_samples_leaf': 1, 'min_samples_split': 10}\n",
      "0.694 (+/1 0.023) for {'criterion': 'entropy', 'max_depth': 2, 'min_samples_leaf': 5, 'min_samples_split': 2}\n",
      "0.694 (+/1 0.023) for {'criterion': 'entropy', 'max_depth': 2, 'min_samples_leaf': 5, 'min_samples_split': 4}\n",
      "0.694 (+/1 0.023) for {'criterion': 'entropy', 'max_depth': 2, 'min_samples_leaf': 5, 'min_samples_split': 10}\n",
      "0.694 (+/1 0.023) for {'criterion': 'entropy', 'max_depth': 2, 'min_samples_leaf': 10, 'min_samples_split': 2}\n",
      "0.694 (+/1 0.023) for {'criterion': 'entropy', 'max_depth': 2, 'min_samples_leaf': 10, 'min_samples_split': 4}\n",
      "0.694 (+/1 0.023) for {'criterion': 'entropy', 'max_depth': 2, 'min_samples_leaf': 10, 'min_samples_split': 10}\n",
      "0.744 (+/1 0.027) for {'criterion': 'entropy', 'max_depth': 3, 'min_samples_leaf': 1, 'min_samples_split': 2}\n",
      "0.744 (+/1 0.027) for {'criterion': 'entropy', 'max_depth': 3, 'min_samples_leaf': 1, 'min_samples_split': 4}\n",
      "0.744 (+/1 0.027) for {'criterion': 'entropy', 'max_depth': 3, 'min_samples_leaf': 1, 'min_samples_split': 10}\n",
      "0.744 (+/1 0.027) for {'criterion': 'entropy', 'max_depth': 3, 'min_samples_leaf': 5, 'min_samples_split': 2}\n",
      "0.744 (+/1 0.027) for {'criterion': 'entropy', 'max_depth': 3, 'min_samples_leaf': 5, 'min_samples_split': 4}\n",
      "0.744 (+/1 0.027) for {'criterion': 'entropy', 'max_depth': 3, 'min_samples_leaf': 5, 'min_samples_split': 10}\n",
      "0.744 (+/1 0.027) for {'criterion': 'entropy', 'max_depth': 3, 'min_samples_leaf': 10, 'min_samples_split': 2}\n",
      "0.744 (+/1 0.027) for {'criterion': 'entropy', 'max_depth': 3, 'min_samples_leaf': 10, 'min_samples_split': 4}\n",
      "0.744 (+/1 0.027) for {'criterion': 'entropy', 'max_depth': 3, 'min_samples_leaf': 10, 'min_samples_split': 10}\n",
      "0.754 (+/1 0.028) for {'criterion': 'entropy', 'max_depth': 4, 'min_samples_leaf': 1, 'min_samples_split': 2}\n",
      "0.754 (+/1 0.028) for {'criterion': 'entropy', 'max_depth': 4, 'min_samples_leaf': 1, 'min_samples_split': 4}\n",
      "0.754 (+/1 0.028) for {'criterion': 'entropy', 'max_depth': 4, 'min_samples_leaf': 1, 'min_samples_split': 10}\n",
      "0.755 (+/1 0.029) for {'criterion': 'entropy', 'max_depth': 4, 'min_samples_leaf': 5, 'min_samples_split': 2}\n",
      "0.755 (+/1 0.029) for {'criterion': 'entropy', 'max_depth': 4, 'min_samples_leaf': 5, 'min_samples_split': 4}\n",
      "0.755 (+/1 0.029) for {'criterion': 'entropy', 'max_depth': 4, 'min_samples_leaf': 5, 'min_samples_split': 10}\n",
      "0.754 (+/1 0.029) for {'criterion': 'entropy', 'max_depth': 4, 'min_samples_leaf': 10, 'min_samples_split': 2}\n",
      "0.754 (+/1 0.029) for {'criterion': 'entropy', 'max_depth': 4, 'min_samples_leaf': 10, 'min_samples_split': 4}\n",
      "0.754 (+/1 0.029) for {'criterion': 'entropy', 'max_depth': 4, 'min_samples_leaf': 10, 'min_samples_split': 10}\n",
      "0.763 (+/1 0.028) for {'criterion': 'entropy', 'max_depth': 5, 'min_samples_leaf': 1, 'min_samples_split': 2}\n",
      "0.763 (+/1 0.028) for {'criterion': 'entropy', 'max_depth': 5, 'min_samples_leaf': 1, 'min_samples_split': 4}\n",
      "0.763 (+/1 0.028) for {'criterion': 'entropy', 'max_depth': 5, 'min_samples_leaf': 1, 'min_samples_split': 10}\n",
      "0.762 (+/1 0.026) for {'criterion': 'entropy', 'max_depth': 5, 'min_samples_leaf': 5, 'min_samples_split': 2}\n",
      "0.762 (+/1 0.026) for {'criterion': 'entropy', 'max_depth': 5, 'min_samples_leaf': 5, 'min_samples_split': 4}\n",
      "0.762 (+/1 0.026) for {'criterion': 'entropy', 'max_depth': 5, 'min_samples_leaf': 5, 'min_samples_split': 10}\n",
      "0.762 (+/1 0.026) for {'criterion': 'entropy', 'max_depth': 5, 'min_samples_leaf': 10, 'min_samples_split': 2}\n",
      "0.762 (+/1 0.026) for {'criterion': 'entropy', 'max_depth': 5, 'min_samples_leaf': 10, 'min_samples_split': 4}\n",
      "0.762 (+/1 0.026) for {'criterion': 'entropy', 'max_depth': 5, 'min_samples_leaf': 10, 'min_samples_split': 10}\n",
      "0.775 (+/1 0.03) for {'criterion': 'entropy', 'max_depth': 6, 'min_samples_leaf': 1, 'min_samples_split': 2}\n",
      "0.775 (+/1 0.03) for {'criterion': 'entropy', 'max_depth': 6, 'min_samples_leaf': 1, 'min_samples_split': 4}\n",
      "0.775 (+/1 0.03) for {'criterion': 'entropy', 'max_depth': 6, 'min_samples_leaf': 1, 'min_samples_split': 10}\n",
      "0.774 (+/1 0.03) for {'criterion': 'entropy', 'max_depth': 6, 'min_samples_leaf': 5, 'min_samples_split': 2}\n",
      "0.774 (+/1 0.03) for {'criterion': 'entropy', 'max_depth': 6, 'min_samples_leaf': 5, 'min_samples_split': 4}\n",
      "0.774 (+/1 0.03) for {'criterion': 'entropy', 'max_depth': 6, 'min_samples_leaf': 5, 'min_samples_split': 10}\n",
      "0.772 (+/1 0.026) for {'criterion': 'entropy', 'max_depth': 6, 'min_samples_leaf': 10, 'min_samples_split': 2}\n",
      "0.772 (+/1 0.026) for {'criterion': 'entropy', 'max_depth': 6, 'min_samples_leaf': 10, 'min_samples_split': 4}\n",
      "0.772 (+/1 0.026) for {'criterion': 'entropy', 'max_depth': 6, 'min_samples_leaf': 10, 'min_samples_split': 10}\n",
      "0.776 (+/1 0.028) for {'criterion': 'entropy', 'max_depth': 7, 'min_samples_leaf': 1, 'min_samples_split': 2}\n",
      "0.775 (+/1 0.029) for {'criterion': 'entropy', 'max_depth': 7, 'min_samples_leaf': 1, 'min_samples_split': 4}\n",
      "0.777 (+/1 0.029) for {'criterion': 'entropy', 'max_depth': 7, 'min_samples_leaf': 1, 'min_samples_split': 10}\n",
      "0.773 (+/1 0.026) for {'criterion': 'entropy', 'max_depth': 7, 'min_samples_leaf': 5, 'min_samples_split': 2}\n",
      "0.773 (+/1 0.026) for {'criterion': 'entropy', 'max_depth': 7, 'min_samples_leaf': 5, 'min_samples_split': 4}\n",
      "0.773 (+/1 0.026) for {'criterion': 'entropy', 'max_depth': 7, 'min_samples_leaf': 5, 'min_samples_split': 10}\n",
      "0.774 (+/1 0.025) for {'criterion': 'entropy', 'max_depth': 7, 'min_samples_leaf': 10, 'min_samples_split': 2}\n",
      "0.774 (+/1 0.025) for {'criterion': 'entropy', 'max_depth': 7, 'min_samples_leaf': 10, 'min_samples_split': 4}\n",
      "0.774 (+/1 0.025) for {'criterion': 'entropy', 'max_depth': 7, 'min_samples_leaf': 10, 'min_samples_split': 10}\n",
      "Execution time: 4.80 seconds.\n"
     ]
    }
   ],
   "source": [
    "# Use GridSearch to find the best combination of model hyperparameters\n",
    "\n",
    "dt = tree.DecisionTreeClassifier(max_depth = 2)\n",
    "\n",
    "param_grid = { \"criterion\" : [\"gini\", \"entropy\"], \"min_samples_leaf\" : [1, 5, 10], \"min_samples_split\" : [2, 4, 10], 'max_depth' : [2,3,4,5,6,7]}\n",
    "start = time.time()\n",
    "gs = GridSearchCV(dt, param_grid=param_grid, scoring='accuracy', cv= 5, n_jobs=-1)\n",
    "# cv: number of partitions for cross validation\n",
    "# n_jobs: number of jobs to run in parallel, -1 means using all processors\n",
    "\n",
    "gs = gs.fit(X_train, y_train) \n",
    "print_results(gs)\n",
    "print('Execution time: {0:.2f} seconds.'.format(time.time() - start))"
   ]
  },
  {
   "cell_type": "code",
   "execution_count": 14,
   "metadata": {},
   "outputs": [
    {
     "data": {
      "text/plain": [
       "DecisionTreeClassifier(class_weight=None, criterion='entropy', max_depth=7,\n",
       "                       max_features=None, max_leaf_nodes=None,\n",
       "                       min_impurity_decrease=0.0, min_impurity_split=None,\n",
       "                       min_samples_leaf=1, min_samples_split=10,\n",
       "                       min_weight_fraction_leaf=0.0, presort=False,\n",
       "                       random_state=2, splitter='best')"
      ]
     },
     "execution_count": 14,
     "metadata": {},
     "output_type": "execute_result"
    }
   ],
   "source": [
    "# Create Decision Tree using the best hyperparameters\n",
    "decision_tree = tree.DecisionTreeClassifier(criterion='entropy', max_depth = 7, min_samples_leaf = 1, min_samples_split = 10, random_state=2)\n",
    "decision_tree.fit(X_train, y_train)"
   ]
  },
  {
   "cell_type": "code",
   "execution_count": 17,
   "metadata": {},
   "outputs": [
    {
     "data": {
      "image/png": "[encoded data removed]",
      "text/plain": [
       "<Figure size 1800x720 with 1 Axes>"
      ]
     },
     "metadata": {
      "needs_background": "light"
     },
     "output_type": "display_data"
    }
   ],
   "source": [
    "plt.figure(figsize=(25,10)) \n",
    "tree.plot_tree(decision_tree,\n",
    "              feature_names = list(df_new.drop(['is_promoted'], axis=1)),\n",
    "                class_names = ['Not Promoted', 'Promoted'],\n",
    "                rounded = True,\n",
    "                filled= True)\n",
    "plt.savefig('assignment2_tree_after.png',format='png')\n",
    "plt.show() "
   ]
  },
  {
   "cell_type": "markdown",
   "metadata": {},
   "source": [
    "(i) By `score` function"
   ]
  },
  {
   "cell_type": "code",
   "execution_count": 18,
   "metadata": {},
   "outputs": [
    {
     "name": "stdout",
     "output_type": "stream",
     "text": [
      "the training accuracy is:  0.7891354246365723\n"
     ]
    }
   ],
   "source": [
    "#training acc\n",
    "train_acc = decision_tree.score(X_train, y_train)\n",
    "print('the training accuracy is: ', train_acc)"
   ]
  },
  {
   "cell_type": "code",
   "execution_count": 19,
   "metadata": {
    "scrolled": true
   },
   "outputs": [
    {
     "name": "stdout",
     "output_type": "stream",
     "text": [
      "the testing accuracy is:  0.7672259907176009\n"
     ]
    }
   ],
   "source": [
    "#testing acc\n",
    "test_acc = decision_tree.score(X_test, y_test)\n",
    "print('the testing accuracy is: ', test_acc)"
   ]
  },
  {
   "cell_type": "markdown",
   "metadata": {},
   "source": [
    "(ii) By `K-folds cross validation` function"
   ]
  },
  {
   "cell_type": "code",
   "execution_count": 20,
   "metadata": {},
   "outputs": [
    {
     "name": "stdout",
     "output_type": "stream",
     "text": [
      "train_score:  0.7844097977340535\n",
      "test_score:  0.7727075974671284\n"
     ]
    }
   ],
   "source": [
    "from sklearn.model_selection import cross_val_score, cross_validate\n",
    "\n",
    "# Evaluate the Model using K-folds Cross validation\n",
    "results  = cross_validate(decision_tree, X, y, scoring='accuracy', cv=5, return_train_score = True)\n",
    "print('train_score: ', np.mean(results['train_score']))\n",
    "print('test_score: ', np.mean(results['test_score']))"
   ]
  },
  {
   "cell_type": "markdown",
   "metadata": {},
   "source": [
    "#### Comments on the Performance"
   ]
  },
  {
   "cell_type": "markdown",
   "metadata": {},
   "source": [
    "The `DecisionTreeClassifier` has a few model hyperparameters which restrict the shape of Decision Tree, e.g:\n",
    "* `criterion`: the metrics used to measure the impurity of each node (e.g. gini, entropy and etc.);\n",
    "* `min_samples_leaf`: the minimum number of samples a leaf node must have;\n",
    "* `min_samples_split`: the minimum number of samples a node must have before it can be split;\n",
    "* `max_depth`: the maximum depth of the tree.\n",
    "\n",
    "**Before GridSearch** \n",
    "<br>\n",
    "(i) By score\n",
    "* train_score:  0.694\n",
    "* test_score:  0.682\n",
    "\n",
    "(ii) By K-folds cross validation\n",
    "* train_score:  0.690\n",
    "* test_score:  0.690\n",
    "\n",
    "**After GridSearch**<br>\n",
    "In Section One, we only adjusted `max_depth` but since we want to adjust all the above mentioned hyperparameters, we will use Scikit-Learn's `GridSearchCV` to search for the optimal parameter values. \n",
    "* train_score:  0.789 <br>\n",
    "* test_score:  0.767 <br>\n",
    "* {'criterion': 'entropy', 'max_depth': 7, 'min_samples_leaf': 1, 'min_samples_split': 10}\n",
    "\n",
    "After using GridSearch, I have successfully improveed the training and testing accuracy of the CLassification Model by 8-9%."
   ]
  },
  {
   "cell_type": "code",
   "execution_count": 9,
   "metadata": {},
   "outputs": [
    {
     "name": "stdout",
     "output_type": "stream",
     "text": [
      "Best training score:  0.6936495791889824\n",
      "{'max_depth': 2}\n"
     ]
    }
   ],
   "source": [
    "# Use GridSearch to find the best combination of model hyperparameters\n",
    "\n",
    "dt = tree.DecisionTreeClassifier(max_depth = 2)\n",
    "\n",
    "param_grid = { 'max_depth' : [2]}\n",
    "\n",
    "gs = GridSearchCV(dt, param_grid=param_grid, scoring='accuracy', cv= 5, n_jobs=-1)\n",
    "# cv: number of partitions for cross validation\n",
    "# n_jobs: number of jobs to run in parallel, -1 means using all processors\n",
    "\n",
    "gs = gs.fit(X_train, y_train) \n",
    "\n",
    "print(\"Best training score: \",gs.best_score_)\n",
    "print(gs.best_params_)"
   ]
  },
  {
   "cell_type": "code",
   "execution_count": 10,
   "metadata": {
    "scrolled": true
   },
   "outputs": [
    {
     "data": {
      "text/plain": [
       "[('KPIs_met', 0.6133467837065198),\n",
       " ('avg_training_score', 0.357278871875371),\n",
       " ('awards_won?', 0.029374344418109183),\n",
       " ('department', 0.0),\n",
       " ('region', 0.0),\n",
       " ('education', 0.0),\n",
       " ('gender', 0.0),\n",
       " ('recruitment_channel', 0.0),\n",
       " ('no_of_trainings', 0.0),\n",
       " ('age', 0.0),\n",
       " ('previous_year_rating', 0.0),\n",
       " ('length_of_service', 0.0)]"
      ]
     },
     "execution_count": 10,
     "metadata": {},
     "output_type": "execute_result"
    }
   ],
   "source": [
    "sorted(dict(zip(X_train.columns, gs.best_estimator_.feature_importances_)).items(), key=lambda x: x[1], reverse=True)"
   ]
  },
  {
   "cell_type": "code",
   "execution_count": 11,
   "metadata": {},
   "outputs": [
    {
     "data": {
      "image/png": "[encoded data removed]",
      "text/plain": [
       "<Figure size 432x288 with 1 Axes>"
      ]
     },
     "metadata": {},
     "output_type": "display_data"
    }
   ],
   "source": [
    "import seaborn as sns\n",
    "sns.set_style('darkgrid')\n",
    "features = X_train.columns\n",
    "importances = gs.best_estimator_.feature_importances_\n",
    "indices = np.argsort(importances)\n",
    "\n",
    "plt.title('Feature Importances')\n",
    "plt.barh(range(len(indices)), importances[indices], color='b', align='center')\n",
    "plt.yticks(range(len(indices)), [features[i] for i in indices])\n",
    "plt.xlabel('Relative Importance')\n",
    "plt.show()"
   ]
  },
  {
   "cell_type": "markdown",
   "metadata": {},
   "source": [
    "### 1.2.3 Using Artificial Neural Network"
   ]
  },
  {
   "cell_type": "markdown",
   "metadata": {},
   "source": [
    "#### Train the Model using testing"
   ]
  },
  {
   "cell_type": "code",
   "execution_count": 13,
   "metadata": {},
   "outputs": [
    {
     "data": {
      "text/plain": [
       "MLPClassifier(activation='logistic', alpha=0.0001, batch_size='auto',\n",
       "              beta_1=0.9, beta_2=0.999, early_stopping=False, epsilon=1e-08,\n",
       "              hidden_layer_sizes=(10,), learning_rate='constant',\n",
       "              learning_rate_init=0.001, max_iter=2000, momentum=0.9,\n",
       "              n_iter_no_change=10, nesterovs_momentum=True, power_t=0.5,\n",
       "              random_state=3, shuffle=True, solver='sgd', tol=0.0001,\n",
       "              validation_fraction=0.1, verbose=False, warm_start=False)"
      ]
     },
     "execution_count": 13,
     "metadata": {},
     "output_type": "execute_result"
    }
   ],
   "source": [
    "# Create the ann model\n",
    "mlp = MLPClassifier(activation ='logistic', hidden_layer_sizes=(10,), max_iter= 2000, solver = 'sgd', random_state=3)\n",
    "# Fit the model to the training set\n",
    "mlp.fit(X_train,y_train)"
   ]
  },
  {
   "cell_type": "code",
   "execution_count": 175,
   "metadata": {
    "scrolled": true
   },
   "outputs": [
    {
     "name": "stdout",
     "output_type": "stream",
     "text": [
      "[array([[ 1.53066251e-02,  2.01547737e-01,  4.20202011e-02,\n",
      "        -9.31597282e-02,  3.82425393e-01,  3.29099517e-01,\n",
      "        -2.44051883e-01, -2.89268331e-01, -4.25207511e-01,\n",
      "        -1.89560358e-01],\n",
      "       [-8.45283146e-02, -2.39480354e-02,  1.05504736e-02,\n",
      "        -3.05946389e-01,  4.18422043e-01, -1.18078153e-01,\n",
      "        -3.17517016e-01, -2.58865992e-01,  4.00178416e-02,\n",
      "         3.49777259e-02],\n",
      "       [-1.02253136e-01,  1.09593631e-01,  3.15378675e-02,\n",
      "        -2.14507803e-01,  3.92450967e-02,  1.34855932e-01,\n",
      "        -1.18511424e-01, -1.75231599e-01, -1.31888624e-01,\n",
      "         5.47946974e-02],\n",
      "       [ 4.15279585e-01, -1.11587966e-01,  1.26502314e-01,\n",
      "         1.83411781e-01, -1.45588176e-02, -1.42521230e-01,\n",
      "         8.69997256e-02,  6.44217841e-03, -1.53268221e-02,\n",
      "         8.41872343e-02],\n",
      "       [ 1.22719852e-02, -5.57075842e-02, -1.30939310e-01,\n",
      "        -1.38651464e-01,  9.57955002e-03,  2.04592372e-01,\n",
      "         4.90475354e-02, -1.46488335e-01, -8.86378543e-02,\n",
      "         2.16988447e-02],\n",
      "       [ 4.81094744e-02, -4.09671180e-01, -1.42295870e-01,\n",
      "        -2.85528933e-01,  8.43601092e-02,  1.24525468e-01,\n",
      "         1.15962599e-01,  9.78545513e-02,  1.97057419e-01,\n",
      "         3.08538835e-01],\n",
      "       [ 9.21733975e-02, -2.74970772e-01, -2.53380173e-01,\n",
      "         3.37537499e-02, -8.21146832e-02,  6.80696881e-02,\n",
      "        -2.66509427e-01, -1.67572335e-01,  4.30953702e-01,\n",
      "         3.16762734e-01],\n",
      "       [ 2.38360294e-01,  2.53809625e-01,  2.33451446e-01,\n",
      "        -8.79046354e-02,  2.07128952e-01, -2.10885167e-01,\n",
      "        -2.73981652e-01, -2.49592764e-01, -3.14375440e-01,\n",
      "        -2.09803869e-01],\n",
      "       [-1.72612456e-01,  7.52983773e-02, -5.36035141e-02,\n",
      "         2.30705419e-01,  1.82975762e-01,  4.03117023e-02,\n",
      "         1.16625118e-01, -1.80512051e-01,  1.49001241e-01,\n",
      "         3.65906690e-02],\n",
      "       [-3.38193748e-01,  1.35291637e+00,  7.82495382e-01,\n",
      "         1.58886735e-01,  7.00021939e-02, -2.49366730e-01,\n",
      "         8.18891968e-02, -6.03537367e-02, -3.57601438e-01,\n",
      "        -2.27832704e+00],\n",
      "       [-6.51251396e-01,  8.81117419e-01,  5.62455692e-01,\n",
      "         2.90537622e-01,  1.95530905e-01, -2.92972725e-01,\n",
      "        -2.46976606e-01,  8.91178284e-04, -1.07968243e-01,\n",
      "        -7.90335155e-01],\n",
      "       [-1.75427152e-01,  4.96353488e-01,  1.58295133e-01,\n",
      "        -2.27146916e-01, -1.15888236e-01,  2.76632252e-02,\n",
      "         7.35748344e-02, -2.55680215e-01, -1.32942347e-01,\n",
      "        -1.07254556e+00]]), array([[-1.53984727],\n",
      "       [ 2.1084683 ],\n",
      "       [ 1.10657821],\n",
      "       [ 0.01729625],\n",
      "       [-0.60489996],\n",
      "       [-1.19037735],\n",
      "       [-0.09240589],\n",
      "       [ 0.15160992],\n",
      "       [-1.12973215],\n",
      "       [-3.43784744]])]\n"
     ]
    }
   ],
   "source": [
    "# print out the model coefficients and intercept\n",
    "print(mlp.coefs_) #connecction weights"
   ]
  },
  {
   "cell_type": "markdown",
   "metadata": {},
   "source": [
    "We have 13 attributes (input columns) and that is fully connected to all 10 neurons of the first layer (11 x 10)\n",
    "problem with neural networks --> you have built this model but you are not able to understand how the numbers help make decisions"
   ]
  },
  {
   "cell_type": "code",
   "execution_count": 176,
   "metadata": {},
   "outputs": [
    {
     "name": "stdout",
     "output_type": "stream",
     "text": [
      "[array([ 0.27721996, -0.73426894, -0.31101626, -0.04507396, -0.05638737,\n",
      "        0.40546912,  0.26810768, -0.07811114,  0.05681984,  0.96956311]), array([-0.32132121])]\n"
     ]
    }
   ],
   "source": [
    "print(mlp.intercepts_) #bias value (we have 10 bias for the 10 neurons in the hidden layer)"
   ]
  },
  {
   "cell_type": "code",
   "execution_count": 177,
   "metadata": {},
   "outputs": [
    {
     "name": "stdout",
     "output_type": "stream",
     "text": [
      "0.7472073450650344 (Train Accuracy)\n"
     ]
    }
   ],
   "source": [
    "# calculated the training accuracy\n",
    "print(mlp.score(X_train, y_train), '(Train Accuracy)')"
   ]
  },
  {
   "cell_type": "code",
   "execution_count": 178,
   "metadata": {},
   "outputs": [],
   "source": [
    "# Calculated the fitted values for training set\n",
    "y_fitted = mlp.predict(X_train) # retaurns 0 or 1\n",
    "y_fitted_prob = mlp.predict_proba(X_train)[:,0] # returns probabilities"
   ]
  },
  {
   "cell_type": "code",
   "execution_count": 179,
   "metadata": {},
   "outputs": [
    {
     "name": "stdout",
     "output_type": "stream",
     "text": [
      "[0 0 1 ... 1 0 1]\n"
     ]
    }
   ],
   "source": [
    "# prediction model for the training sample\n",
    "print(y_fitted)\n",
    "\n",
    "#output layer is logistic function"
   ]
  },
  {
   "cell_type": "code",
   "execution_count": 180,
   "metadata": {
    "scrolled": true
   },
   "outputs": [
    {
     "name": "stdout",
     "output_type": "stream",
     "text": [
      "[0.95501313 0.74206136 0.47008087 ... 0.30190136 0.80244853 0.34272034]\n"
     ]
    }
   ],
   "source": [
    "print(y_fitted_prob)"
   ]
  },
  {
   "cell_type": "markdown",
   "metadata": {},
   "source": [
    "#### Evaluate the Model using testing"
   ]
  },
  {
   "cell_type": "code",
   "execution_count": 181,
   "metadata": {},
   "outputs": [
    {
     "name": "stdout",
     "output_type": "stream",
     "text": [
      "0.7311674401999286 (Test Accuracy)\n"
     ]
    }
   ],
   "source": [
    "# calculated the testing accuracy\n",
    "print(mlp.score(X_test, y_test), '(Test Accuracy)')"
   ]
  },
  {
   "cell_type": "markdown",
   "metadata": {},
   "source": [
    "#### Improving the Model (By adjusting the hyperparameters"
   ]
  },
  {
   "cell_type": "code",
   "execution_count": 182,
   "metadata": {},
   "outputs": [
    {
     "name": "stdout",
     "output_type": "stream",
     "text": [
      "0.7666411629686305\n",
      "{'activation': 'tanh', 'hidden_layer_sizes': (11, 11), 'max_iter': 200, 'random_state': 3, 'solver': 'adam'}\n"
     ]
    },
    {
     "name": "stderr",
     "output_type": "stream",
     "text": [
      "C:\\Users\\sammi\\Anaconda3\\lib\\site-packages\\sklearn\\neural_network\\multilayer_perceptron.py:566: ConvergenceWarning: Stochastic Optimizer: Maximum iterations (200) reached and the optimization hasn't converged yet.\n",
      "  % self.max_iter, ConvergenceWarning)\n"
     ]
    }
   ],
   "source": [
    "# Task 1: Use GridSearch to find the best combination of model hyperparameters\n",
    "param_grid = { \"activation\" : ['logistic', 'tanh', 'relu'], \n",
    "                \"hidden_layer_sizes\" : ((10,), (5,), (10,10), (11,11)), \n",
    "                \"max_iter\" : [200, 200, 200], \n",
    "                \"solver\" : ['lbfgs', 'sgd', 'adam'], \n",
    "                \"random_state\" : [3]}\n",
    "\n",
    "gs = GridSearchCV(mlp, param_grid=param_grid, scoring='accuracy', cv= 10, n_jobs=-1)\n",
    "# cv: number of partitions for cross validation\n",
    "# n_jobs: number of jobs to run in parallel, -1 means using all processors\n",
    "\n",
    "gs = gs.fit(X_train, y_train) \n",
    "\n",
    "print(gs.best_score_)\n",
    "print(gs.best_params_)"
   ]
  },
  {
   "cell_type": "code",
   "execution_count": 183,
   "metadata": {
    "scrolled": true
   },
   "outputs": [
    {
     "name": "stdout",
     "output_type": "stream",
     "text": [
      "[array([[-2.08785675e-02, -5.15552652e-03, -3.79054314e-01,\n",
      "         4.91590015e-03,  1.54414551e-02,  3.07825289e-01,\n",
      "         2.27797888e-03, -2.61659850e-01, -2.79242656e-01,\n",
      "        -7.40824446e-02, -4.69239665e-01],\n",
      "       [-3.86762650e-02,  3.29411953e-02, -4.30331162e-01,\n",
      "         1.83871470e-02,  3.85292496e-02, -4.76088709e-01,\n",
      "         1.77408167e-01,  2.35565244e-02,  9.51145829e-04,\n",
      "        -4.42809379e-02,  5.11396738e-02],\n",
      "       [-5.14762172e-02,  9.50488588e-02, -3.82839867e-02,\n",
      "         1.27338733e-01,  1.13395558e-01, -9.65105938e-01,\n",
      "         9.18117185e-02,  2.06525004e-02, -2.43302591e-02,\n",
      "        -1.37896095e-02,  9.82423907e-02],\n",
      "       [ 6.40378510e-01,  4.06778068e-02, -2.45071953e-01,\n",
      "        -8.37560360e-02, -5.30649553e-01, -5.18612673e-01,\n",
      "         1.20645878e-01,  4.79682874e-02, -8.65556581e-02,\n",
      "        -4.16551126e-01, -3.00976178e-03],\n",
      "       [-1.70179698e-01,  2.91892988e-02, -5.19344008e-02,\n",
      "        -3.87673930e-01, -2.50875238e-01,  1.80943026e-01,\n",
      "         6.48130973e-02,  1.48785029e-02,  9.82458470e-02,\n",
      "        -3.32084537e-01,  1.17496105e-01],\n",
      "       [-2.13017611e-01,  7.00703500e-02, -2.03216368e-01,\n",
      "         3.17140954e-01, -7.50350312e-03, -3.04415892e-01,\n",
      "         4.75288546e-01, -9.00001379e-02,  1.51139248e-02,\n",
      "        -3.60802757e-02,  1.00914906e-01],\n",
      "       [-2.14540486e-01, -4.33056358e-01, -4.55903281e-02,\n",
      "        -2.56213555e-01, -1.85609805e-01,  5.46198214e-03,\n",
      "         5.20372317e-01, -3.62591824e-02,  3.81444232e-01,\n",
      "        -2.73292859e-01, -6.15550779e-02],\n",
      "       [-3.20438507e-01, -1.27436901e-01, -6.05388112e-01,\n",
      "        -3.82297988e-01,  1.97706662e-01, -3.94800164e-01,\n",
      "         7.87864825e-01,  4.86452796e-02, -6.22194871e-02,\n",
      "         1.60437779e-01,  1.55513223e-01],\n",
      "       [ 6.60852894e-01,  6.18303483e-02, -1.14302172e-01,\n",
      "        -1.32866803e-01, -3.10482986e-02,  5.31981494e-01,\n",
      "         2.84506489e-01,  1.39234819e-01, -3.76969367e-03,\n",
      "        -1.37773966e+00,  2.10051619e-02],\n",
      "       [ 2.37886305e-01, -1.29715150e+00, -3.58397519e-02,\n",
      "        -6.21631437e-01,  5.89408411e-01,  1.01851325e+00,\n",
      "         3.47791049e-01, -2.13698051e+00, -1.17595155e+00,\n",
      "         1.13996306e+00,  1.72021862e+00],\n",
      "       [-1.38280750e+00,  1.10356068e+00,  7.50142482e-04,\n",
      "        -3.56564249e-01,  1.46107124e+00, -2.19860673e-01,\n",
      "         9.80831035e-02, -4.44048409e-01, -1.67082010e-01,\n",
      "        -9.83169645e-01,  5.19983415e-01],\n",
      "       [-4.71001228e-01,  1.63728160e-01, -4.36270064e-01,\n",
      "         1.01666555e-01, -2.22784807e-01,  7.11161419e-01,\n",
      "         3.84498665e-01, -8.64173167e-01, -7.29839399e-01,\n",
      "        -1.13784414e+00,  1.13295265e+00]]), array([[-4.88704233e-01,  3.42220916e-01,  1.48613269e-01,\n",
      "         1.80716924e-01, -4.33851738e-01, -7.31369429e-02,\n",
      "        -5.06147527e-02,  1.19934870e-01,  2.90139239e-01,\n",
      "         8.66104584e-01, -5.73592126e-01],\n",
      "       [ 6.44097566e-01,  5.50554875e-01,  7.13833393e-01,\n",
      "        -6.33632733e-02, -6.39332653e-01, -3.33056340e-01,\n",
      "         2.07085748e-01,  3.16875087e-02, -6.10153835e-02,\n",
      "        -2.42612586e-01, -5.02414642e-01],\n",
      "       [ 1.36027614e-01,  5.43580546e-01, -7.16820096e-01,\n",
      "        -3.96764473e-01,  6.91026115e-02,  4.79987721e-02,\n",
      "         1.38950678e-01,  1.79373492e-01,  2.74596861e-01,\n",
      "         1.63948738e-01, -6.61671596e-01],\n",
      "       [ 8.72608830e-01, -1.35590213e-01,  3.97892403e-01,\n",
      "         1.73724476e-01,  6.69763491e-01,  3.03875819e-01,\n",
      "        -3.49931678e-01, -7.65810686e-02,  1.31559912e-01,\n",
      "         1.79156747e-01, -2.21175843e-01],\n",
      "       [-6.39350503e-01,  2.80927273e-01, -9.41320391e-01,\n",
      "        -1.57658781e-01, -3.66004814e-01,  6.75004618e-01,\n",
      "        -8.43279683e-02,  2.84436320e-01, -4.62178943e-01,\n",
      "        -1.08634055e-01, -4.53067570e-01],\n",
      "       [ 4.59594161e-01, -1.38912192e-01, -3.70683495e-01,\n",
      "        -2.78514090e-01, -3.42299118e-02, -7.08443956e-01,\n",
      "        -3.34095828e-01, -1.11655498e-01, -2.88746367e-02,\n",
      "        -8.18711563e-04,  7.73241598e-02],\n",
      "       [ 2.74870633e-02,  1.23268085e-02, -1.83339984e-01,\n",
      "        -1.93151348e-01,  5.60438027e-01, -7.94903419e-02,\n",
      "        -5.84729783e-01, -5.85442952e-01, -4.18679291e-01,\n",
      "        -6.78824949e-01, -2.96597309e-01],\n",
      "       [ 2.78549538e-01, -3.78695761e-01,  7.09223040e-01,\n",
      "         6.45918210e-01,  8.62480884e-02,  5.31861286e-01,\n",
      "        -2.82234547e-01, -7.24144864e-01,  6.65936092e-02,\n",
      "        -1.22714315e-01,  1.20236452e-01],\n",
      "       [ 4.05167870e-01, -6.56867410e-01,  1.50092524e+00,\n",
      "         7.75922624e-01,  2.33509213e-01,  1.21148524e+00,\n",
      "        -8.83413470e-01, -1.46760252e+00,  1.92249729e-01,\n",
      "         1.39334425e-02,  4.94842271e-01],\n",
      "       [-6.78246754e-01,  1.24862273e-01, -7.88671362e-01,\n",
      "        -4.21916590e-01, -9.38234127e-02, -8.17942229e-01,\n",
      "         1.92211563e-01,  9.32042056e-01,  7.87682171e-01,\n",
      "         8.99497841e-02, -2.21050863e-02],\n",
      "       [-3.13580767e-01,  1.50563993e-01, -2.88543169e-01,\n",
      "        -6.00974691e-01,  6.47207724e-02, -7.79100829e-01,\n",
      "         5.45349071e-01,  5.39096651e-01, -1.09419738e-01,\n",
      "         1.81308536e-01, -2.53336940e-01]]), array([[-0.63084272],\n",
      "       [ 1.46983012],\n",
      "       [-0.76562641],\n",
      "       [-0.5723585 ],\n",
      "       [-0.76358441],\n",
      "       [-1.02943665],\n",
      "       [ 1.15366227],\n",
      "       [ 0.8715474 ],\n",
      "       [ 0.70883156],\n",
      "       [ 0.8931502 ],\n",
      "       [-0.90679515]])]\n",
      "[array([-0.2217015 ,  0.07825209, -0.93590025,  0.35085415, -0.3465091 ,\n",
      "        0.43379701,  0.26706912,  0.52103153,  1.31251338, -0.29451659,\n",
      "        0.29077393]), array([ 0.50531878, -0.55893167,  0.30075088,  0.48910763,  0.72410159,\n",
      "        0.02372639, -0.59164201,  0.01147432, -0.50853753, -0.58572545,\n",
      "        0.46408343]), array([0.27666751])]\n"
     ]
    },
    {
     "name": "stderr",
     "output_type": "stream",
     "text": [
      "C:\\Users\\sammi\\Anaconda3\\lib\\site-packages\\sklearn\\neural_network\\multilayer_perceptron.py:566: ConvergenceWarning: Stochastic Optimizer: Maximum iterations (200) reached and the optimization hasn't converged yet.\n",
      "  % self.max_iter, ConvergenceWarning)\n"
     ]
    }
   ],
   "source": [
    "# Task 2: Build the model using the above suggested hyperparameter values\n",
    "mlp = MLPClassifier(activation ='tanh', hidden_layer_sizes=(11, 11), max_iter= 200, solver = 'adam', random_state=3)\n",
    "# Fit the model to the training set\n",
    "mlp.fit(X_train,y_train)\n",
    "\n",
    "# print out the model coefficients and intercept\n",
    "print(mlp.coefs_) #connecction weights\n",
    "\n",
    "print(mlp.intercepts_)"
   ]
  },
  {
   "cell_type": "code",
   "execution_count": 184,
   "metadata": {},
   "outputs": [
    {
     "name": "stdout",
     "output_type": "stream",
     "text": [
      "0.7744452945677123 (Train Accuracy)\n"
     ]
    }
   ],
   "source": [
    "# calculated the training accuracy\n",
    "print(mlp.score(X_train, y_train), '(Train Accuracy)')"
   ]
  },
  {
   "cell_type": "code",
   "execution_count": 185,
   "metadata": {},
   "outputs": [],
   "source": [
    "# Calculated the fitted values for training set\n",
    "y_fitted = mlp.predict(X_train) # returns 0 or 1\n",
    "y_fitted_prob = mlp.predict_proba(X_train)[:,0] # returns probabilities"
   ]
  },
  {
   "cell_type": "code",
   "execution_count": 186,
   "metadata": {
    "scrolled": true
   },
   "outputs": [
    {
     "name": "stdout",
     "output_type": "stream",
     "text": [
      "[0 0 1 ... 1 0 1]\n"
     ]
    }
   ],
   "source": [
    "# prediction model for the training sample\n",
    "print(y_fitted)"
   ]
  },
  {
   "cell_type": "code",
   "execution_count": 187,
   "metadata": {
    "scrolled": true
   },
   "outputs": [
    {
     "name": "stdout",
     "output_type": "stream",
     "text": [
      "[0.99958735 0.94685754 0.43929057 ... 0.33614702 0.88684519 0.42446516]\n"
     ]
    }
   ],
   "source": [
    "print(y_fitted_prob)"
   ]
  },
  {
   "cell_type": "code",
   "execution_count": 188,
   "metadata": {
    "scrolled": true
   },
   "outputs": [
    {
     "name": "stdout",
     "output_type": "stream",
     "text": [
      "0.7565155301677973 (Test Accuracy)\n"
     ]
    }
   ],
   "source": [
    "# Task 3: Evaluate the model: train acc & test acc\n",
    "print(mlp.score(X_test, y_test), '(Test Accuracy)')"
   ]
  },
  {
   "cell_type": "markdown",
   "metadata": {},
   "source": [
    "#### Comments on the Performance"
   ]
  },
  {
   "cell_type": "markdown",
   "metadata": {},
   "source": [
    "**Before tuning**\n",
    "* 0.747 (Train Accuracy)\n",
    "* 0.731 (Test Accuracy)\n",
    "\n",
    "**After tuning of hyperparameters**\n",
    "* {'activation': 'tanh', 'hidden_layer_sizes': (11, 11), 'max_iter': 200, 'random_state': 3, 'solver': 'adam'}\n",
    "* 0.774 (Train Accuracy)\n",
    "* 0.757 (Test Accuracy)\n",
    "\n",
    "After tuning the hyperparameters, I have managed to increase the testing accuracy from 0.750 to 0.774 (3s.f.) with the cost of a higher training accuracy. "
   ]
  },
  {
   "cell_type": "markdown",
   "metadata": {},
   "source": [
    "### 1.2.4 Using Ensemble Models"
   ]
  },
  {
   "cell_type": "markdown",
   "metadata": {},
   "source": [
    "#### Train the Model"
   ]
  },
  {
   "cell_type": "code",
   "execution_count": 7,
   "metadata": {
    "scrolled": true
   },
   "outputs": [
    {
     "name": "stdout",
     "output_type": "stream",
     "text": [
      "training accuracy is:  0.9964804896710023\n",
      "testing accuracy is:  0.711888611210282\n"
     ]
    }
   ],
   "source": [
    "# Build Descision tree Model and Evaluate both training and testing accuracy\n",
    "dt = DecisionTreeClassifier()\n",
    "dt.fit(X_train,y_train)\n",
    "\n",
    "print('training accuracy is: ', dt.score(X_train,y_train))\n",
    "print('testing accuracy is: ', dt.score(X_test,y_test))"
   ]
  },
  {
   "cell_type": "markdown",
   "metadata": {},
   "source": [
    "#### Improve the Overfitted Model's Testing Accuracy"
   ]
  },
  {
   "cell_type": "markdown",
   "metadata": {},
   "source": [
    "#### 1. Random Forest - Ensemble of Descision Trees  <a id='rf' />"
   ]
  },
  {
   "cell_type": "code",
   "execution_count": 14,
   "metadata": {
    "scrolled": false
   },
   "outputs": [
    {
     "data": {
      "text/plain": [
       "RandomForestClassifier(bootstrap=True, class_weight=None, criterion='gini',\n",
       "                       max_depth=4, max_features='auto', max_leaf_nodes=None,\n",
       "                       min_impurity_decrease=0.0, min_impurity_split=None,\n",
       "                       min_samples_leaf=1, min_samples_split=2,\n",
       "                       min_weight_fraction_leaf=0.0, n_estimators=10,\n",
       "                       n_jobs=None, oob_score=False, random_state=None,\n",
       "                       verbose=0, warm_start=False)"
      ]
     },
     "execution_count": 14,
     "metadata": {},
     "output_type": "execute_result"
    }
   ],
   "source": [
    "#Task 1: Build Random Forest Model and Evaluate both training and testing accuracy (helps improve accuracy)\n",
    "rf = RandomForestClassifier(n_estimators = 10, max_depth = 4) #n_estimators: The number of decision tree models in the forest.\n",
    "rf.fit(X_train, y_train)"
   ]
  },
  {
   "cell_type": "markdown",
   "metadata": {},
   "source": [
    "Random forest is bagging (not boosting) and it uses decision trees by default."
   ]
  },
  {
   "cell_type": "code",
   "execution_count": 37,
   "metadata": {
    "scrolled": true
   },
   "outputs": [
    {
     "name": "stdout",
     "output_type": "stream",
     "text": [
      "training accuracy is:  0.7608263198163734\n",
      "testing accuracy is:  0.7483041770796144\n"
     ]
    }
   ],
   "source": [
    "print('training accuracy is: ', rf.score(X_train, y_train))\n",
    "print('testing accuracy is: ', rf.score(X_test, y_test))\n",
    "\n",
    "#note: an increase of the number of estimators can help improve accuracy\n",
    "#the accuracy improved from 0.7988826815642458 to 0.8156424581005587 when I changed n_predictors from 10 to 20"
   ]
  },
  {
   "cell_type": "markdown",
   "metadata": {},
   "source": [
    "#### 1.1 Attempt to improve model by increasing n_estimators"
   ]
  },
  {
   "cell_type": "code",
   "execution_count": 89,
   "metadata": {
    "scrolled": false
   },
   "outputs": [
    {
     "data": {
      "text/plain": [
       "RandomForestClassifier(bootstrap=True, class_weight=None, criterion='gini',\n",
       "                       max_depth=4, max_features='auto', max_leaf_nodes=None,\n",
       "                       min_impurity_decrease=0.0, min_impurity_split=None,\n",
       "                       min_samples_leaf=1, min_samples_split=2,\n",
       "                       min_weight_fraction_leaf=0.0, n_estimators=15,\n",
       "                       n_jobs=None, oob_score=False, random_state=None,\n",
       "                       verbose=0, warm_start=False)"
      ]
     },
     "execution_count": 89,
     "metadata": {},
     "output_type": "execute_result"
    }
   ],
   "source": [
    "#Task 2: Build Random Forest Model and Evaluate both training and testing accuracy (helps improve accuracy)\n",
    "rf = RandomForestClassifier(n_estimators = 15, max_depth = 4) #n_estimators: The number of decision tree models in the forest.\n",
    "rf.fit(X_train, y_train)"
   ]
  },
  {
   "cell_type": "code",
   "execution_count": 90,
   "metadata": {},
   "outputs": [
    {
     "name": "stdout",
     "output_type": "stream",
     "text": [
      "training accuracy is:  0.76327467482785\n",
      "testing accuracy is:  0.7540164227061764\n"
     ]
    }
   ],
   "source": [
    "print('training accuracy is: ', rf.score(X_train, y_train))\n",
    "print('testing accuracy is: ', rf.score(X_test, y_test))\n",
    "\n",
    "#note: an increase of the number of estimators can help improve accuracy\n",
    "#the accuracy improved from 0.7988826815642458 to 0.8156424581005587 when I changed n_predictors from 10 to 20"
   ]
  },
  {
   "cell_type": "markdown",
   "metadata": {},
   "source": [
    "By definition, \"n_estimators\" is the number of trees we want to build before taking the maximum voting or averages of predictions. In this segment, I have tuned the hyperparamter \"n_estimators\" up to a number high enough since a higher number of trees give us better performance. However, we do not want the value to be too high as that may slow down the procesing speed \n",
    "\n",
    "You should choose as high value as your processor can handle because this makes your predictions stronger and more stable. When n_estimators is at 10 instead of 15, training accuracy is:  0.7605202754399388 and testing accuracy is:  0.7447340235630132 which is smaller in acccuracy.  \n",
    "\n",
    "Based on my observations, for n_estimators more than 15, the testing accuracy is observed to drop. For example, when n_estimators is equal to 16, the testing accuracy is observed to be 0.7493. Hence, a value of 15 is optimal as my testing accuracy if 0.754."
   ]
  },
  {
   "cell_type": "markdown",
   "metadata": {},
   "source": [
    "#### 1.2 Attempt to improve model by increasing max_depth"
   ]
  },
  {
   "cell_type": "code",
   "execution_count": 101,
   "metadata": {
    "scrolled": false
   },
   "outputs": [
    {
     "data": {
      "text/plain": [
       "RandomForestClassifier(bootstrap=True, class_weight=None, criterion='gini',\n",
       "                       max_depth=8, max_features='auto', max_leaf_nodes=None,\n",
       "                       min_impurity_decrease=0.0, min_impurity_split=None,\n",
       "                       min_samples_leaf=1, min_samples_split=2,\n",
       "                       min_weight_fraction_leaf=0.0, n_estimators=15,\n",
       "                       n_jobs=None, oob_score=False, random_state=None,\n",
       "                       verbose=0, warm_start=False)"
      ]
     },
     "execution_count": 101,
     "metadata": {},
     "output_type": "execute_result"
    }
   ],
   "source": [
    "rf = RandomForestClassifier(n_estimators = 15, max_depth = 8) #n_estimators: The number of decision tree models in the forest.\n",
    "rf.fit(X_train, y_train)"
   ]
  },
  {
   "cell_type": "code",
   "execution_count": 102,
   "metadata": {},
   "outputs": [
    {
     "name": "stdout",
     "output_type": "stream",
     "text": [
      "training accuracy is:  0.7969395562356542\n",
      "testing accuracy is:  0.7632988218493395\n"
     ]
    }
   ],
   "source": [
    "print('training accuracy is: ', rf.score(X_train, y_train))\n",
    "print('testing accuracy is: ', rf.score(X_test, y_test))\n",
    "\n",
    "#note: an increase of the number of estimators can help improve accuracy\n",
    "#the accuracy improved from 0.7988826815642458 to 0.8156424581005587 when I changed n_predictors from 10 to 20"
   ]
  },
  {
   "cell_type": "markdown",
   "metadata": {},
   "source": [
    "When max_depth is set to 9, I observe that the results of the model's performance shows overfitting since the training accuracy is comparatively higher than the testing accuracy.\n",
    "training accuracy is:  0.8100994644223413\n",
    "testing accuracy is:  0.7554444841128168\n",
    "\n",
    "When max_depth is set to 8, I observe that the results of the model's performance is better as the testing accuracy is higher than that of the model when max_depth is 9. Moreover, the training and testing accuracies are fairly marginal in difference and this is a good sign as the model is likely not overfitted.  \n",
    "training accuracy is:  0.7969395562356542\n",
    "testing accuracy is:  0.7632988218493395"
   ]
  },
  {
   "cell_type": "markdown",
   "metadata": {},
   "source": [
    "#### 1.3 Attempt to improve model by increasing min_sample_leaf"
   ]
  },
  {
   "cell_type": "code",
   "execution_count": 105,
   "metadata": {
    "scrolled": true
   },
   "outputs": [
    {
     "name": "stdout",
     "output_type": "stream",
     "text": [
      "0.77061973986228\n",
      "{'max_depth': 8, 'min_samples_leaf': 10, 'n_estimators': 15}\n"
     ]
    }
   ],
   "source": [
    "# Task 1: Use GridSearch to find the best combination of model hyperparameters\n",
    "param_grid = { \"n_estimators\" : [15], \"max_depth\" : [8], \"min_samples_leaf\" : [10,20,30,40,50,60]}\n",
    "\n",
    "gs = GridSearchCV(rf, param_grid=param_grid, scoring='accuracy', cv= 10, n_jobs=-1)\n",
    "# cv: number of partitions for cross validation\n",
    "# n_jobs: number of jobs to run in parallel, -1 means using all processors\n",
    "\n",
    "gs = gs.fit(X_train, y_train) \n",
    "\n",
    "print(gs.best_score_)\n",
    "print(gs.best_params_)"
   ]
  },
  {
   "cell_type": "code",
   "execution_count": 119,
   "metadata": {},
   "outputs": [
    {
     "data": {
      "text/plain": [
       "RandomForestClassifier(bootstrap=True, class_weight=None, criterion='gini',\n",
       "                       max_depth=8, max_features='auto', max_leaf_nodes=None,\n",
       "                       min_impurity_decrease=0.0, min_impurity_split=None,\n",
       "                       min_samples_leaf=10, min_samples_split=2,\n",
       "                       min_weight_fraction_leaf=0.0, n_estimators=15,\n",
       "                       n_jobs=None, oob_score=False, random_state=None,\n",
       "                       verbose=0, warm_start=False)"
      ]
     },
     "execution_count": 119,
     "metadata": {},
     "output_type": "execute_result"
    }
   ],
   "source": [
    "rf = RandomForestClassifier(n_estimators = 15, max_depth = 8, min_samples_leaf = 10) #n_estimators: The number of decision tree models in the forest.\n",
    "rf.fit(X_train, y_train)"
   ]
  },
  {
   "cell_type": "code",
   "execution_count": 120,
   "metadata": {},
   "outputs": [
    {
     "name": "stdout",
     "output_type": "stream",
     "text": [
      "training accuracy is:  0.7784238714613619\n",
      "testing accuracy is:  0.7636558372009996\n"
     ]
    }
   ],
   "source": [
    "print('training accuracy is: ', rf.score(X_train, y_train))\n",
    "print('testing accuracy is: ', rf.score(X_test, y_test))"
   ]
  },
  {
   "cell_type": "markdown",
   "metadata": {},
   "source": [
    "When the min samples leaf is 10, there is a slight improvement in the testing accuracy by 0.0468%. The best improvement comes when min_samples_leaf is set to 10. Although marginal in improvement, there is an improvement made."
   ]
  },
  {
   "cell_type": "code",
   "execution_count": 122,
   "metadata": {
    "scrolled": true
   },
   "outputs": [
    {
     "data": {
      "text/plain": [
       "0.04675081813931543"
      ]
     },
     "execution_count": 122,
     "metadata": {},
     "output_type": "execute_result"
    }
   ],
   "source": [
    "((0.7636558372009996 - 0.7632988218493395)/0.7636558372009996)*100"
   ]
  },
  {
   "cell_type": "markdown",
   "metadata": {},
   "source": [
    "#### 2. Ada Boost <a id='adb' />"
   ]
  },
  {
   "cell_type": "code",
   "execution_count": 17,
   "metadata": {
    "scrolled": true
   },
   "outputs": [
    {
     "data": {
      "text/plain": [
       "AdaBoostClassifier(algorithm='SAMME.R',\n",
       "                   base_estimator=DecisionTreeClassifier(class_weight=None,\n",
       "                                                         criterion='gini',\n",
       "                                                         max_depth=None,\n",
       "                                                         max_features=None,\n",
       "                                                         max_leaf_nodes=None,\n",
       "                                                         min_impurity_decrease=0.0,\n",
       "                                                         min_impurity_split=None,\n",
       "                                                         min_samples_leaf=1,\n",
       "                                                         min_samples_split=2,\n",
       "                                                         min_weight_fraction_leaf=0.0,\n",
       "                                                         presort=False,\n",
       "                                                         random_state=None,\n",
       "                                                         splitter='best'),\n",
       "                   learning_rate=1, n_estimators=5, random_state=None)"
      ]
     },
     "execution_count": 17,
     "metadata": {},
     "output_type": "execute_result"
    }
   ],
   "source": [
    "#Task 2: Build Ada Boost Model and Evaluate both training and testing accuracy\n",
    "# if accuracy is 1, means no error since 100% no error\n",
    "# if classifer does not overfit data (usually decision tree lead to overfitting) ada boost can improve the accuracy of model by a large amount\n",
    "# Boosting helps reduce overfitting and varience of model\n",
    "# learning rate tells you how the model will address the wrongly classified values\n",
    "# n_estimators are the number of models\n",
    "\n",
    "adb = AdaBoostClassifier(DecisionTreeClassifier(), n_estimators=5, learning_rate=1)\n",
    "adb.fit(X_test, y_test)"
   ]
  },
  {
   "cell_type": "code",
   "execution_count": 39,
   "metadata": {},
   "outputs": [
    {
     "name": "stdout",
     "output_type": "stream",
     "text": [
      "training accuracy by k-folds cross-validation is:  0.9963849972286933\n",
      "testing accuracy by k-folds cross-validation is: :  0.7189378969087308\n"
     ]
    }
   ],
   "source": [
    "from sklearn.model_selection import cross_val_score, cross_validate\n",
    "\n",
    "# Evaluate the Model using K-folds Cross validation\n",
    "results  = cross_validate(adb, X, y, scoring='accuracy', cv=5, return_train_score = True)\n",
    "print('training accuracy by k-folds cross-validation is: ', np.mean(results['train_score']))\n",
    "print('testing accuracy by k-folds cross-validation is: ', np.mean(results['test_score']))"
   ]
  },
  {
   "cell_type": "code",
   "execution_count": 5,
   "metadata": {},
   "outputs": [
    {
     "data": {
      "text/plain": [
       "2.086246682552846"
      ]
     },
     "execution_count": 5,
     "metadata": {},
     "output_type": "execute_result"
    }
   ],
   "source": [
    "((0.7339367149326044 - 0.7189378969087308)/ 0.7189378969087308)*100"
   ]
  },
  {
   "cell_type": "markdown",
   "metadata": {},
   "source": [
    "When using the Ada Boost score function to determine the training and testing accuracies of the model, I realised that the model has an extremely high and almost perfect testing accuracy. It may be an indication that I did not have enough samples in my dataset for the model to identify the errors in the model. Hence, I decided to use K-folds cross validation to ascertain the accuracy scores."
   ]
  },
  {
   "cell_type": "code",
   "execution_count": 40,
   "metadata": {},
   "outputs": [
    {
     "name": "stdout",
     "output_type": "stream",
     "text": [
      "training accuracy is:  0.7008416220351951\n",
      "testing accuracy is:  0.9989289539450197\n"
     ]
    }
   ],
   "source": [
    "print('training accuracy is: ', adb.score(X_train,y_train))\n",
    "print('testing accuracy is: ', adb.score(X_test, y_test))"
   ]
  },
  {
   "cell_type": "markdown",
   "metadata": {},
   "source": [
    "#### 2.1 Attempt to improve model by increasing n_estimators"
   ]
  },
  {
   "cell_type": "markdown",
   "metadata": {},
   "source": [
    "1. n_estimators=45, learning_rate=1"
   ]
  },
  {
   "cell_type": "code",
   "execution_count": 9,
   "metadata": {
    "scrolled": true
   },
   "outputs": [
    {
     "data": {
      "text/plain": [
       "AdaBoostClassifier(algorithm='SAMME.R',\n",
       "                   base_estimator=DecisionTreeClassifier(class_weight=None,\n",
       "                                                         criterion='gini',\n",
       "                                                         max_depth=None,\n",
       "                                                         max_features=None,\n",
       "                                                         max_leaf_nodes=None,\n",
       "                                                         min_impurity_decrease=0.0,\n",
       "                                                         min_impurity_split=None,\n",
       "                                                         min_samples_leaf=1,\n",
       "                                                         min_samples_split=2,\n",
       "                                                         min_weight_fraction_leaf=0.0,\n",
       "                                                         presort=False,\n",
       "                                                         random_state=None,\n",
       "                                                         splitter='best'),\n",
       "                   learning_rate=1, n_estimators=45, random_state=None)"
      ]
     },
     "execution_count": 9,
     "metadata": {},
     "output_type": "execute_result"
    }
   ],
   "source": [
    "adb = AdaBoostClassifier(DecisionTreeClassifier(), n_estimators=45, learning_rate=1)\n",
    "adb.fit(X_test, y_test)"
   ]
  },
  {
   "cell_type": "code",
   "execution_count": 42,
   "metadata": {
    "scrolled": false
   },
   "outputs": [
    {
     "name": "stdout",
     "output_type": "stream",
     "text": [
      "training accuracy by k-folds cross-validation is:  0.9963849972286933\n",
      "testing accuracy by k-folds cross-validation is:  0.733186102714873\n"
     ]
    }
   ],
   "source": [
    "# Evaluate the Model using K-folds Cross validation\n",
    "results  = cross_validate(adb, X, y, scoring='accuracy', cv=5, return_train_score = True)\n",
    "print('training accuracy by k-folds cross-validation is: ', np.mean(results['train_score']))\n",
    "print('testing accuracy by k-folds cross-validation is: ', np.mean(results['test_score']))"
   ]
  },
  {
   "cell_type": "markdown",
   "metadata": {},
   "source": [
    "2. n_estimators=45, learning_rate=0.01"
   ]
  },
  {
   "cell_type": "code",
   "execution_count": 15,
   "metadata": {
    "scrolled": false
   },
   "outputs": [
    {
     "name": "stdout",
     "output_type": "stream",
     "text": [
      "0.729609793420046\n",
      "{'learning_rate': 0.01, 'n_estimators': 45}\n"
     ]
    }
   ],
   "source": [
    "# Task 1: Use GridSearch to find the best combination of model hyperparameters\n",
    "param_grid = {\"n_estimators\" : [15,30,45,60,75,90],\n",
    "             \"learning_rate\" : [0.0001, 0.001, 0.01, 0.1]}\n",
    "\n",
    "gs = GridSearchCV(adb, param_grid=param_grid, scoring='accuracy', cv= 10, n_jobs=-1)\n",
    "# cv: number of partitions for cross validation\n",
    "# n_jobs: number of jobs to run in parallel, -1 means using all processors\n",
    "\n",
    "gs = gs.fit(X_train, y_train) \n",
    "\n",
    "print(gs.best_score_)\n",
    "print(gs.best_params_)"
   ]
  },
  {
   "cell_type": "code",
   "execution_count": 26,
   "metadata": {
    "scrolled": true
   },
   "outputs": [
    {
     "data": {
      "text/plain": [
       "AdaBoostClassifier(algorithm='SAMME.R',\n",
       "                   base_estimator=DecisionTreeClassifier(class_weight=None,\n",
       "                                                         criterion='gini',\n",
       "                                                         max_depth=None,\n",
       "                                                         max_features=None,\n",
       "                                                         max_leaf_nodes=None,\n",
       "                                                         min_impurity_decrease=0.0,\n",
       "                                                         min_impurity_split=None,\n",
       "                                                         min_samples_leaf=1,\n",
       "                                                         min_samples_split=2,\n",
       "                                                         min_weight_fraction_leaf=0.0,\n",
       "                                                         presort=False,\n",
       "                                                         random_state=None,\n",
       "                                                         splitter='best'),\n",
       "                   learning_rate=0.01, n_estimators=45, random_state=None)"
      ]
     },
     "execution_count": 26,
     "metadata": {},
     "output_type": "execute_result"
    }
   ],
   "source": [
    "adb = AdaBoostClassifier(DecisionTreeClassifier(), n_estimators=45, learning_rate=0.01)\n",
    "adb.fit(X_test, y_test)"
   ]
  },
  {
   "cell_type": "code",
   "execution_count": 27,
   "metadata": {},
   "outputs": [
    {
     "name": "stdout",
     "output_type": "stream",
     "text": [
      "training accuracy by k-folds cross-validation is:  0.9963849972286933\n",
      "testing accuracy by k-folds cross-validation is:  0.7339367149326044\n"
     ]
    }
   ],
   "source": [
    "# Evaluate the Model using K-folds Cross validation\n",
    "results  = cross_validate(adb, X, y, scoring='accuracy', cv=5, return_train_score = True)\n",
    "print('training accuracy by k-folds cross-validation is: ', np.mean(results['train_score']))\n",
    "print('testing accuracy by k-folds cross-validation is: ', np.mean(results['test_score']))"
   ]
  },
  {
   "cell_type": "markdown",
   "metadata": {},
   "source": [
    "#### 2.2 Removing Outliers"
   ]
  },
  {
   "cell_type": "markdown",
   "metadata": {},
   "source": [
    "Below shows how the impact of removing the outliers in my dataset on the training and testing accuracy\n",
    "\n",
    "* training accuracy by k-folds cross-validation is:  0.9978514653997742 --> the training accuracy improved, more overfit\n",
    "* testing accuracy by k-folds cross-validation is:  0.7072116932428746 --> the testing accuracy dropped slightly\n",
    "\n",
    "Hence, removing outliers did not help me with improving the accuracies"
   ]
  },
  {
   "cell_type": "code",
   "execution_count": 252,
   "metadata": {},
   "outputs": [],
   "source": [
    "df_copy = pd.read_csv('hr_data_new.csv')"
   ]
  },
  {
   "cell_type": "code",
   "execution_count": 253,
   "metadata": {
    "scrolled": true
   },
   "outputs": [
    {
     "data": {
      "image/png": "[encoded data removed]",
      "text/plain": [
       "<Figure size 432x288 with 1 Axes>"
      ]
     },
     "metadata": {
      "needs_background": "light"
     },
     "output_type": "display_data"
    }
   ],
   "source": [
    "# Boxplot (Before Treatment)\n",
    "plt.boxplot(df_copy['no_of_trainings'])\n",
    "plt.title('Boxplot of No. of Trainings (Before Treatment)')\n",
    "\n",
    "plt.show()"
   ]
  },
  {
   "cell_type": "code",
   "execution_count": 254,
   "metadata": {
    "scrolled": true
   },
   "outputs": [
    {
     "data": {
      "text/plain": [
       "count    9336.000000\n",
       "mean        1.228685\n",
       "std         0.567723\n",
       "min         1.000000\n",
       "25%         1.000000\n",
       "50%         1.000000\n",
       "75%         1.000000\n",
       "max         7.000000\n",
       "Name: no_of_trainings, dtype: float64"
      ]
     },
     "execution_count": 254,
     "metadata": {},
     "output_type": "execute_result"
    }
   ],
   "source": [
    "df_copy['no_of_trainings'].describe()"
   ]
  },
  {
   "cell_type": "code",
   "execution_count": 255,
   "metadata": {},
   "outputs": [
    {
     "name": "stdout",
     "output_type": "stream",
     "text": [
      "Minimum value: 1\n",
      "Maximum value: 1\n"
     ]
    }
   ],
   "source": [
    "Q1 = 1.000000\n",
    "Q3 = 1.000000\n",
    "IQR = Q3 - Q1\n",
    "Min_value = Q1 - (IQR*1.5)\n",
    "Max_value = Q3 + (IQR*1.5)\n",
    "print(\"Minimum value: {}\".format(round(Min_value)))\n",
    "print(\"Maximum value: {}\".format(round(Max_value)))"
   ]
  },
  {
   "cell_type": "code",
   "execution_count": 256,
   "metadata": {},
   "outputs": [],
   "source": [
    "#Removing the outliers\n",
    "df_copy = df_copy.drop(df_copy[df_copy.no_of_trainings == 1].index)"
   ]
  },
  {
   "cell_type": "code",
   "execution_count": 257,
   "metadata": {
    "scrolled": true
   },
   "outputs": [
    {
     "data": {
      "image/png": "[encoded data removed]",
      "text/plain": [
       "<Figure size 432x288 with 1 Axes>"
      ]
     },
     "metadata": {
      "needs_background": "light"
     },
     "output_type": "display_data"
    }
   ],
   "source": [
    "# Boxplot (After Treatment)\n",
    "plt.boxplot(df_copy['no_of_trainings'])\n",
    "plt.title('Boxplot of No. of Trainings (After Treatment)')\n",
    "\n",
    "plt.show()"
   ]
  },
  {
   "cell_type": "code",
   "execution_count": 258,
   "metadata": {
    "scrolled": true
   },
   "outputs": [
    {
     "data": {
      "image/png": "[encoded data removed]",
      "text/plain": [
       "<Figure size 432x288 with 1 Axes>"
      ]
     },
     "metadata": {
      "needs_background": "light"
     },
     "output_type": "display_data"
    }
   ],
   "source": [
    "# Boxplot (Before Treatment)\n",
    "plt.boxplot(df_copy['age'])\n",
    "plt.title('Boxplot of Age (Before Treatment)')\n",
    "\n",
    "plt.show()"
   ]
  },
  {
   "cell_type": "code",
   "execution_count": 259,
   "metadata": {
    "scrolled": true
   },
   "outputs": [
    {
     "data": {
      "text/plain": [
       "count    1629.000000\n",
       "mean        0.335727\n",
       "std         0.170784\n",
       "min         0.025000\n",
       "25%         0.225000\n",
       "50%         0.300000\n",
       "75%         0.400000\n",
       "max         1.000000\n",
       "Name: age, dtype: float64"
      ]
     },
     "execution_count": 259,
     "metadata": {},
     "output_type": "execute_result"
    }
   ],
   "source": [
    "df_copy['age'].describe()"
   ]
  },
  {
   "cell_type": "code",
   "execution_count": 260,
   "metadata": {},
   "outputs": [
    {
     "name": "stdout",
     "output_type": "stream",
     "text": [
      "Minimum value: 0\n",
      "Maximum value: 1\n"
     ]
    }
   ],
   "source": [
    "Q1 = 0.225000\n",
    "Q3 = 0.400000\n",
    "IQR = Q3 - Q1\n",
    "Min_value = Q1 - (IQR*1.5)\n",
    "Max_value = Q3 + (IQR*1.5)\n",
    "print(\"Minimum value: {}\".format(round(Min_value)))\n",
    "print(\"Maximum value: {}\".format(round(Max_value)))"
   ]
  },
  {
   "cell_type": "code",
   "execution_count": 261,
   "metadata": {},
   "outputs": [],
   "source": [
    "#Removing the outliers\n",
    "df_copy = df_copy.drop(df_copy[df_copy.age < 0].index | df_copy[df_copy.age > 1].index)"
   ]
  },
  {
   "cell_type": "code",
   "execution_count": 262,
   "metadata": {
    "scrolled": false
   },
   "outputs": [
    {
     "data": {
      "image/png": "[encoded data removed]",
      "text/plain": [
       "<Figure size 432x288 with 1 Axes>"
      ]
     },
     "metadata": {
      "needs_background": "light"
     },
     "output_type": "display_data"
    }
   ],
   "source": [
    "# Boxplot (After Treatment)\n",
    "plt.boxplot(df_copy['age'])\n",
    "plt.title('Boxplot of age (After Treatment)')\n",
    "\n",
    "plt.show()"
   ]
  },
  {
   "cell_type": "markdown",
   "metadata": {},
   "source": [
    "##### Removed outliers"
   ]
  },
  {
   "cell_type": "code",
   "execution_count": 263,
   "metadata": {},
   "outputs": [],
   "source": [
    "# Define Model Inputs (X) and Output (y)\n",
    "X = df_copy.drop('is_promoted',axis=1)\n",
    "y = df_copy[\"is_promoted\"]"
   ]
  },
  {
   "cell_type": "code",
   "execution_count": 264,
   "metadata": {},
   "outputs": [],
   "source": [
    "# Split both Inputs (X) and Ouput (y) into training set (70%) and testing set (30%)\n",
    "X_train, X_test, y_train, y_test = train_test_split(X, y, test_size=0.3, random_state=1)"
   ]
  },
  {
   "cell_type": "code",
   "execution_count": 265,
   "metadata": {
    "scrolled": true
   },
   "outputs": [
    {
     "data": {
      "text/plain": [
       "AdaBoostClassifier(algorithm='SAMME.R',\n",
       "                   base_estimator=DecisionTreeClassifier(class_weight=None,\n",
       "                                                         criterion='gini',\n",
       "                                                         max_depth=None,\n",
       "                                                         max_features=None,\n",
       "                                                         max_leaf_nodes=None,\n",
       "                                                         min_impurity_decrease=0.0,\n",
       "                                                         min_impurity_split=None,\n",
       "                                                         min_samples_leaf=1,\n",
       "                                                         min_samples_split=2,\n",
       "                                                         min_weight_fraction_leaf=0.0,\n",
       "                                                         presort=False,\n",
       "                                                         random_state=None,\n",
       "                                                         splitter='best'),\n",
       "                   learning_rate=1, n_estimators=45, random_state=None)"
      ]
     },
     "execution_count": 265,
     "metadata": {},
     "output_type": "execute_result"
    }
   ],
   "source": [
    "adb = AdaBoostClassifier(DecisionTreeClassifier(), n_estimators=45, learning_rate=1)\n",
    "adb.fit(X_test, y_test)"
   ]
  },
  {
   "cell_type": "code",
   "execution_count": 266,
   "metadata": {
    "scrolled": false
   },
   "outputs": [
    {
     "name": "stdout",
     "output_type": "stream",
     "text": [
      "training accuracy by k-folds cross-validation is:  0.9978514653997742\n",
      "testing accuracy by k-folds cross-validation is:  0.7072116932428746\n"
     ]
    }
   ],
   "source": [
    "# Evaluate the Model using K-folds Cross validation\n",
    "results  = cross_validate(adb, X, y, scoring='accuracy', cv=5, return_train_score = True)\n",
    "print('training accuracy by k-folds cross-validation is: ', np.mean(results['train_score']))\n",
    "print('testing accuracy by k-folds cross-validation is: ', np.mean(results['test_score']))"
   ]
  },
  {
   "cell_type": "markdown",
   "metadata": {},
   "source": [
    "##### Retain outliers"
   ]
  },
  {
   "cell_type": "code",
   "execution_count": 268,
   "metadata": {},
   "outputs": [],
   "source": [
    "# Define Model Inputs (X) and Output (y)\n",
    "X = df.drop('is_promoted',axis=1)\n",
    "y = df[\"is_promoted\"]"
   ]
  },
  {
   "cell_type": "code",
   "execution_count": 269,
   "metadata": {},
   "outputs": [],
   "source": [
    "# Split both Inputs (X) and Ouput (y) into training set (70%) and testing set (30%)\n",
    "X_train, X_test, y_train, y_test = train_test_split(X, y, test_size=0.3, random_state=1)"
   ]
  },
  {
   "cell_type": "markdown",
   "metadata": {},
   "source": [
    "#### 3. XGBoost - eXtreme Gradient Boosting  <a id='xgb' />\n",
    "XGBoost is an algorithm that has recently been dominating applied machine learning and Kaggle competitions for structured or tabular data. Please click [here](https://machinelearningmastery.com/gentle-introduction-xgboost-applied-machine-learning/) to gain a better understanding on XGBoost. This webpage is also helpful for you to the complete below excercise."
   ]
  },
  {
   "cell_type": "markdown",
   "metadata": {},
   "source": [
    "First, you need to install `xgboost` package. \n",
    "* For windows users you can type `conda install -c anaconda py-xgboost` in Anaconda terminal to install; \n",
    "* For other operating systems, please refer to Anaconda website for details (click [here](https://anaconda.org/search?q=xgboost))"
   ]
  },
  {
   "cell_type": "code",
   "execution_count": 80,
   "metadata": {},
   "outputs": [],
   "source": [
    "# import XGBClassifier from xgboost package\n",
    "from xgboost import XGBClassifier \n",
    "from sklearn.metrics import accuracy_score"
   ]
  },
  {
   "cell_type": "code",
   "execution_count": 86,
   "metadata": {},
   "outputs": [
    {
     "name": "stdout",
     "output_type": "stream",
     "text": [
      "XGBClassifier(base_score=0.5, booster='gbtree', colsample_bylevel=1,\n",
      "              colsample_bynode=1, colsample_bytree=1, gamma=0,\n",
      "              learning_rate=0.1, max_delta_step=0, max_depth=3,\n",
      "              min_child_weight=1, missing=None, n_estimators=100, n_jobs=1,\n",
      "              nthread=None, objective='binary:logistic', random_state=0,\n",
      "              reg_alpha=0, reg_lambda=1, scale_pos_weight=1, seed=None,\n",
      "              silent=None, subsample=1, verbosity=1)\n"
     ]
    },
    {
     "ename": "AttributeError",
     "evalue": "'XGBClassifier' object has no attribute 'best_estimator_'",
     "output_type": "error",
     "traceback": [
      "\u001b[1;31m---------------------------------------------------------------------------\u001b[0m",
      "\u001b[1;31mAttributeError\u001b[0m                            Traceback (most recent call last)",
      "\u001b[1;32m<ipython-input-86-aa50f9fde05a>\u001b[0m in \u001b[0;36m<module>\u001b[1;34m\u001b[0m\n\u001b[0;32m      6\u001b[0m \u001b[0mprint\u001b[0m\u001b[1;33m(\u001b[0m\u001b[0mmodel\u001b[0m\u001b[1;33m)\u001b[0m\u001b[1;33m\u001b[0m\u001b[1;33m\u001b[0m\u001b[0m\n\u001b[0;32m      7\u001b[0m \u001b[1;32mfrom\u001b[0m \u001b[0mxgboost\u001b[0m \u001b[1;32mimport\u001b[0m \u001b[0mplot_importance\u001b[0m\u001b[1;33m\u001b[0m\u001b[1;33m\u001b[0m\u001b[0m\n\u001b[1;32m----> 8\u001b[1;33m \u001b[0mplot_importance\u001b[0m\u001b[1;33m(\u001b[0m\u001b[0mmodel\u001b[0m\u001b[1;33m.\u001b[0m\u001b[0mbest_estimator_\u001b[0m\u001b[1;33m)\u001b[0m\u001b[1;33m\u001b[0m\u001b[1;33m\u001b[0m\u001b[0m\n\u001b[0m",
      "\u001b[1;31mAttributeError\u001b[0m: 'XGBClassifier' object has no attribute 'best_estimator_'"
     ]
    }
   ],
   "source": [
    "# Task 3: Build XGBoost Model and Evaluate both training and testing accuracy \n",
    "\n",
    "# fit model no training data\n",
    "model = XGBClassifier()\n",
    "model.fit(X_train, y_train)\n",
    "print(model)\n",
    "from xgboost import plot_importance\n",
    "plot_importance(model.best_estimator_)"
   ]
  },
  {
   "cell_type": "markdown",
   "metadata": {},
   "source": [
    "(i) Training Accuracy"
   ]
  },
  {
   "cell_type": "code",
   "execution_count": 15,
   "metadata": {},
   "outputs": [],
   "source": [
    "# make predictions for train data\n",
    "y_train_pred = model.predict(X_train)\n",
    "predictions = [round(value) for value in y_train_pred]"
   ]
  },
  {
   "cell_type": "code",
   "execution_count": 16,
   "metadata": {
    "scrolled": true
   },
   "outputs": [
    {
     "name": "stdout",
     "output_type": "stream",
     "text": [
      "training accuracy is:  0.7944912012241775\n"
     ]
    }
   ],
   "source": [
    "# evaluate predictions \n",
    "accuracy = accuracy_score(y_train, predictions)\n",
    "#print(\"training accuracy: %.2f%%\" % (accuracy * 100.0))\n",
    "print(\"training accuracy is: \", accuracy)"
   ]
  },
  {
   "cell_type": "markdown",
   "metadata": {},
   "source": [
    "(ii) Testing Accuracy"
   ]
  },
  {
   "cell_type": "code",
   "execution_count": 17,
   "metadata": {},
   "outputs": [],
   "source": [
    "# make predictions for test data\n",
    "y_pred = model.predict(X_test)\n",
    "predictions = [round(value) for value in y_pred]"
   ]
  },
  {
   "cell_type": "code",
   "execution_count": 18,
   "metadata": {
    "scrolled": true
   },
   "outputs": [
    {
     "name": "stdout",
     "output_type": "stream",
     "text": [
      "testing accuracy is:  0.7782934666190646\n"
     ]
    }
   ],
   "source": [
    "# evaluate predictions \n",
    "accuracy = accuracy_score(y_test, predictions)\n",
    "print(\"testing accuracy is: \", accuracy)\n",
    "#print(\"testing accuracy:{}%\".format((accuracy * 100.0)))"
   ]
  },
  {
   "cell_type": "markdown",
   "metadata": {},
   "source": [
    "#### 3.1 Attempt to improve model"
   ]
  },
  {
   "cell_type": "markdown",
   "metadata": {},
   "source": [
    "#### 3.1.1 By using early stopping rounds parameter"
   ]
  },
  {
   "cell_type": "markdown",
   "metadata": {},
   "source": [
    "**Before tuning:**\n",
    "* training accuracy is:  0.996\n",
    "* testing accuracy is:  0.718\n",
    "    \n",
    "**After tuning:**\n",
    "* No difference"
   ]
  },
  {
   "cell_type": "markdown",
   "metadata": {},
   "source": [
    "##### 3.1.1.1 Early stopping rounds of 10"
   ]
  },
  {
   "cell_type": "markdown",
   "metadata": {},
   "source": [
    "Two plots are created. The first shows the logarithmic loss of the XGBoost model for each epoch on the training and test datasets. On the other hand, the second plot shows the classification error of the XGBoost model for each epoch on the training and test datasets."
   ]
  },
  {
   "cell_type": "code",
   "execution_count": 49,
   "metadata": {
    "scrolled": true
   },
   "outputs": [
    {
     "name": "stdout",
     "output_type": "stream",
     "text": [
      "[0]\tvalidation_0-error:0.255394\tvalidation_0-logloss:0.664316\tvalidation_1-error:0.26919\tvalidation_1-logloss:0.665613\n",
      "Multiple eval metrics have been passed: 'validation_1-logloss' will be used for early stopping.\n",
      "\n",
      "Will train until validation_1-logloss hasn't improved in 10 rounds.\n",
      "[1]\tvalidation_0-error:0.255394\tvalidation_0-logloss:0.640751\tvalidation_1-error:0.26919\tvalidation_1-logloss:0.643304\n",
      "[2]\tvalidation_0-error:0.255394\tvalidation_0-logloss:0.621266\tvalidation_1-error:0.26919\tvalidation_1-logloss:0.624949\n",
      "[3]\tvalidation_0-error:0.255394\tvalidation_0-logloss:0.604875\tvalidation_1-error:0.26919\tvalidation_1-logloss:0.609667\n",
      "[4]\tvalidation_0-error:0.255088\tvalidation_0-logloss:0.590587\tvalidation_1-error:0.268476\tvalidation_1-logloss:0.595871\n",
      "[5]\tvalidation_0-error:0.255088\tvalidation_0-logloss:0.578604\tvalidation_1-error:0.268476\tvalidation_1-logloss:0.584875\n",
      "[6]\tvalidation_0-error:0.255088\tvalidation_0-logloss:0.567984\tvalidation_1-error:0.268476\tvalidation_1-logloss:0.574979\n",
      "[7]\tvalidation_0-error:0.247131\tvalidation_0-logloss:0.55858\tvalidation_1-error:0.263477\tvalidation_1-logloss:0.566885\n",
      "[8]\tvalidation_0-error:0.247131\tvalidation_0-logloss:0.55042\tvalidation_1-error:0.263477\tvalidation_1-logloss:0.55954\n",
      "[9]\tvalidation_0-error:0.247131\tvalidation_0-logloss:0.543115\tvalidation_1-error:0.263477\tvalidation_1-logloss:0.552658\n",
      "[10]\tvalidation_0-error:0.247131\tvalidation_0-logloss:0.536824\tvalidation_1-error:0.263477\tvalidation_1-logloss:0.547351\n",
      "[11]\tvalidation_0-error:0.242081\tvalidation_0-logloss:0.530921\tvalidation_1-error:0.259193\tvalidation_1-logloss:0.542251\n",
      "[12]\tvalidation_0-error:0.241469\tvalidation_0-logloss:0.526618\tvalidation_1-error:0.258836\tvalidation_1-logloss:0.538733\n",
      "[13]\tvalidation_0-error:0.238409\tvalidation_0-logloss:0.523008\tvalidation_1-error:0.254909\tvalidation_1-logloss:0.535824\n",
      "[14]\tvalidation_0-error:0.239633\tvalidation_0-logloss:0.518552\tvalidation_1-error:0.256337\tvalidation_1-logloss:0.53156\n",
      "[15]\tvalidation_0-error:0.238409\tvalidation_0-logloss:0.515765\tvalidation_1-error:0.254909\tvalidation_1-logloss:0.529391\n",
      "[16]\tvalidation_0-error:0.236878\tvalidation_0-logloss:0.509902\tvalidation_1-error:0.253124\tvalidation_1-logloss:0.5235\n",
      "[17]\tvalidation_0-error:0.23596\tvalidation_0-logloss:0.50758\tvalidation_1-error:0.251696\tvalidation_1-logloss:0.521608\n",
      "[18]\tvalidation_0-error:0.236725\tvalidation_0-logloss:0.504302\tvalidation_1-error:0.253481\tvalidation_1-logloss:0.518261\n",
      "[19]\tvalidation_0-error:0.223412\tvalidation_0-logloss:0.499457\tvalidation_1-error:0.238486\tvalidation_1-logloss:0.513599\n",
      "[20]\tvalidation_0-error:0.223412\tvalidation_0-logloss:0.497615\tvalidation_1-error:0.238486\tvalidation_1-logloss:0.51215\n",
      "[21]\tvalidation_0-error:0.223565\tvalidation_0-logloss:0.493989\tvalidation_1-error:0.238843\tvalidation_1-logloss:0.508693\n",
      "[22]\tvalidation_0-error:0.223412\tvalidation_0-logloss:0.489977\tvalidation_1-error:0.238129\tvalidation_1-logloss:0.504687\n",
      "[23]\tvalidation_0-error:0.223412\tvalidation_0-logloss:0.488387\tvalidation_1-error:0.238486\tvalidation_1-logloss:0.503284\n",
      "[24]\tvalidation_0-error:0.223412\tvalidation_0-logloss:0.485333\tvalidation_1-error:0.238129\tvalidation_1-logloss:0.500214\n",
      "[25]\tvalidation_0-error:0.223412\tvalidation_0-logloss:0.484049\tvalidation_1-error:0.238486\tvalidation_1-logloss:0.499209\n",
      "[26]\tvalidation_0-error:0.221882\tvalidation_0-logloss:0.480479\tvalidation_1-error:0.237058\tvalidation_1-logloss:0.496058\n",
      "[27]\tvalidation_0-error:0.221882\tvalidation_0-logloss:0.477399\tvalidation_1-error:0.237058\tvalidation_1-logloss:0.492971\n",
      "[28]\tvalidation_0-error:0.221576\tvalidation_0-logloss:0.475119\tvalidation_1-error:0.235987\tvalidation_1-logloss:0.490691\n",
      "[29]\tvalidation_0-error:0.221423\tvalidation_0-logloss:0.474006\tvalidation_1-error:0.235987\tvalidation_1-logloss:0.489947\n",
      "[30]\tvalidation_0-error:0.221423\tvalidation_0-logloss:0.472773\tvalidation_1-error:0.235987\tvalidation_1-logloss:0.488693\n",
      "[31]\tvalidation_0-error:0.221423\tvalidation_0-logloss:0.471899\tvalidation_1-error:0.235987\tvalidation_1-logloss:0.488039\n",
      "[32]\tvalidation_0-error:0.221423\tvalidation_0-logloss:0.469467\tvalidation_1-error:0.235987\tvalidation_1-logloss:0.485655\n",
      "[33]\tvalidation_0-error:0.221423\tvalidation_0-logloss:0.468716\tvalidation_1-error:0.23563\tvalidation_1-logloss:0.485071\n",
      "[34]\tvalidation_0-error:0.220352\tvalidation_0-logloss:0.465232\tvalidation_1-error:0.235273\tvalidation_1-logloss:0.481526\n",
      "[35]\tvalidation_0-error:0.21974\tvalidation_0-logloss:0.463521\tvalidation_1-error:0.234559\tvalidation_1-logloss:0.479978\n",
      "[36]\tvalidation_0-error:0.219434\tvalidation_0-logloss:0.460561\tvalidation_1-error:0.234202\tvalidation_1-logloss:0.477159\n",
      "[37]\tvalidation_0-error:0.219434\tvalidation_0-logloss:0.459779\tvalidation_1-error:0.234202\tvalidation_1-logloss:0.476601\n",
      "[38]\tvalidation_0-error:0.219434\tvalidation_0-logloss:0.459106\tvalidation_1-error:0.234559\tvalidation_1-logloss:0.476299\n",
      "[39]\tvalidation_0-error:0.219434\tvalidation_0-logloss:0.457634\tvalidation_1-error:0.234202\tvalidation_1-logloss:0.475094\n",
      "[40]\tvalidation_0-error:0.213313\tvalidation_0-logloss:0.455105\tvalidation_1-error:0.226705\tvalidation_1-logloss:0.472494\n",
      "[41]\tvalidation_0-error:0.213619\tvalidation_0-logloss:0.454533\tvalidation_1-error:0.226705\tvalidation_1-logloss:0.472025\n",
      "[42]\tvalidation_0-error:0.213466\tvalidation_0-logloss:0.453861\tvalidation_1-error:0.225991\tvalidation_1-logloss:0.471438\n",
      "[43]\tvalidation_0-error:0.213007\tvalidation_0-logloss:0.452514\tvalidation_1-error:0.225277\tvalidation_1-logloss:0.470129\n",
      "[44]\tvalidation_0-error:0.212701\tvalidation_0-logloss:0.450716\tvalidation_1-error:0.22492\tvalidation_1-logloss:0.468239\n",
      "[45]\tvalidation_0-error:0.212242\tvalidation_0-logloss:0.450198\tvalidation_1-error:0.225277\tvalidation_1-logloss:0.468072\n",
      "[46]\tvalidation_0-error:0.212089\tvalidation_0-logloss:0.449412\tvalidation_1-error:0.224563\tvalidation_1-logloss:0.467472\n",
      "[47]\tvalidation_0-error:0.212242\tvalidation_0-logloss:0.448253\tvalidation_1-error:0.225277\tvalidation_1-logloss:0.466306\n",
      "[48]\tvalidation_0-error:0.210712\tvalidation_0-logloss:0.446255\tvalidation_1-error:0.223135\tvalidation_1-logloss:0.464249\n",
      "[49]\tvalidation_0-error:0.210712\tvalidation_0-logloss:0.445621\tvalidation_1-error:0.223135\tvalidation_1-logloss:0.463818\n",
      "[50]\tvalidation_0-error:0.209946\tvalidation_0-logloss:0.444553\tvalidation_1-error:0.223135\tvalidation_1-logloss:0.46283\n",
      "[51]\tvalidation_0-error:0.210406\tvalidation_0-logloss:0.443191\tvalidation_1-error:0.223849\tvalidation_1-logloss:0.461396\n",
      "[52]\tvalidation_0-error:0.210406\tvalidation_0-logloss:0.442745\tvalidation_1-error:0.223849\tvalidation_1-logloss:0.461236\n",
      "[53]\tvalidation_0-error:0.210712\tvalidation_0-logloss:0.442298\tvalidation_1-error:0.223849\tvalidation_1-logloss:0.460974\n",
      "[54]\tvalidation_0-error:0.209487\tvalidation_0-logloss:0.441271\tvalidation_1-error:0.223135\tvalidation_1-logloss:0.459838\n",
      "[55]\tvalidation_0-error:0.20964\tvalidation_0-logloss:0.439977\tvalidation_1-error:0.223135\tvalidation_1-logloss:0.458832\n",
      "[56]\tvalidation_0-error:0.20964\tvalidation_0-logloss:0.439601\tvalidation_1-error:0.223135\tvalidation_1-logloss:0.458648\n",
      "[57]\tvalidation_0-error:0.209487\tvalidation_0-logloss:0.439236\tvalidation_1-error:0.223492\tvalidation_1-logloss:0.45839\n",
      "[58]\tvalidation_0-error:0.209946\tvalidation_0-logloss:0.438421\tvalidation_1-error:0.224563\tvalidation_1-logloss:0.457865\n",
      "[59]\tvalidation_0-error:0.209793\tvalidation_0-logloss:0.437971\tvalidation_1-error:0.222778\tvalidation_1-logloss:0.457698\n",
      "[60]\tvalidation_0-error:0.208722\tvalidation_0-logloss:0.437081\tvalidation_1-error:0.22135\tvalidation_1-logloss:0.456896\n",
      "[61]\tvalidation_0-error:0.20964\tvalidation_0-logloss:0.436725\tvalidation_1-error:0.222064\tvalidation_1-logloss:0.456831\n",
      "[62]\tvalidation_0-error:0.210252\tvalidation_0-logloss:0.435692\tvalidation_1-error:0.221707\tvalidation_1-logloss:0.456089\n",
      "[63]\tvalidation_0-error:0.209793\tvalidation_0-logloss:0.435227\tvalidation_1-error:0.223135\tvalidation_1-logloss:0.45576\n",
      "[64]\tvalidation_0-error:0.209793\tvalidation_0-logloss:0.434895\tvalidation_1-error:0.222421\tvalidation_1-logloss:0.455416\n",
      "[65]\tvalidation_0-error:0.209181\tvalidation_0-logloss:0.43461\tvalidation_1-error:0.222778\tvalidation_1-logloss:0.455521\n",
      "[66]\tvalidation_0-error:0.209028\tvalidation_0-logloss:0.433744\tvalidation_1-error:0.222421\tvalidation_1-logloss:0.454592\n"
     ]
    },
    {
     "name": "stdout",
     "output_type": "stream",
     "text": [
      "[67]\tvalidation_0-error:0.209028\tvalidation_0-logloss:0.433261\tvalidation_1-error:0.222778\tvalidation_1-logloss:0.454289\n",
      "[68]\tvalidation_0-error:0.207804\tvalidation_0-logloss:0.431765\tvalidation_1-error:0.223135\tvalidation_1-logloss:0.452886\n",
      "[69]\tvalidation_0-error:0.207345\tvalidation_0-logloss:0.431027\tvalidation_1-error:0.222421\tvalidation_1-logloss:0.45206\n",
      "[70]\tvalidation_0-error:0.207345\tvalidation_0-logloss:0.43059\tvalidation_1-error:0.222064\tvalidation_1-logloss:0.451828\n",
      "[71]\tvalidation_0-error:0.207804\tvalidation_0-logloss:0.429983\tvalidation_1-error:0.223135\tvalidation_1-logloss:0.451199\n",
      "[72]\tvalidation_0-error:0.207804\tvalidation_0-logloss:0.42962\tvalidation_1-error:0.223492\tvalidation_1-logloss:0.451196\n",
      "[73]\tvalidation_0-error:0.207345\tvalidation_0-logloss:0.429318\tvalidation_1-error:0.223492\tvalidation_1-logloss:0.451045\n",
      "[74]\tvalidation_0-error:0.207345\tvalidation_0-logloss:0.429044\tvalidation_1-error:0.222778\tvalidation_1-logloss:0.45081\n",
      "[75]\tvalidation_0-error:0.207192\tvalidation_0-logloss:0.428295\tvalidation_1-error:0.222064\tvalidation_1-logloss:0.450127\n",
      "[76]\tvalidation_0-error:0.207345\tvalidation_0-logloss:0.427869\tvalidation_1-error:0.222064\tvalidation_1-logloss:0.449959\n",
      "[77]\tvalidation_0-error:0.206886\tvalidation_0-logloss:0.427601\tvalidation_1-error:0.222778\tvalidation_1-logloss:0.449827\n",
      "[78]\tvalidation_0-error:0.206886\tvalidation_0-logloss:0.427406\tvalidation_1-error:0.223135\tvalidation_1-logloss:0.449869\n",
      "[79]\tvalidation_0-error:0.206886\tvalidation_0-logloss:0.426967\tvalidation_1-error:0.222778\tvalidation_1-logloss:0.449493\n",
      "[80]\tvalidation_0-error:0.206733\tvalidation_0-logloss:0.4263\tvalidation_1-error:0.223135\tvalidation_1-logloss:0.448917\n",
      "[81]\tvalidation_0-error:0.206733\tvalidation_0-logloss:0.425109\tvalidation_1-error:0.223849\tvalidation_1-logloss:0.447961\n",
      "[82]\tvalidation_0-error:0.206886\tvalidation_0-logloss:0.424783\tvalidation_1-error:0.222064\tvalidation_1-logloss:0.447595\n",
      "[83]\tvalidation_0-error:0.206886\tvalidation_0-logloss:0.424563\tvalidation_1-error:0.220278\tvalidation_1-logloss:0.44741\n",
      "[84]\tvalidation_0-error:0.206274\tvalidation_0-logloss:0.423964\tvalidation_1-error:0.22135\tvalidation_1-logloss:0.446898\n",
      "[85]\tvalidation_0-error:0.206733\tvalidation_0-logloss:0.422926\tvalidation_1-error:0.220993\tvalidation_1-logloss:0.446075\n",
      "[86]\tvalidation_0-error:0.206886\tvalidation_0-logloss:0.422362\tvalidation_1-error:0.220993\tvalidation_1-logloss:0.445464\n",
      "[87]\tvalidation_0-error:0.207192\tvalidation_0-logloss:0.421813\tvalidation_1-error:0.22135\tvalidation_1-logloss:0.444981\n",
      "[88]\tvalidation_0-error:0.207039\tvalidation_0-logloss:0.421564\tvalidation_1-error:0.220993\tvalidation_1-logloss:0.444853\n",
      "[89]\tvalidation_0-error:0.206886\tvalidation_0-logloss:0.421332\tvalidation_1-error:0.220635\tvalidation_1-logloss:0.444736\n",
      "[90]\tvalidation_0-error:0.20658\tvalidation_0-logloss:0.420965\tvalidation_1-error:0.220278\tvalidation_1-logloss:0.444399\n",
      "[91]\tvalidation_0-error:0.206427\tvalidation_0-logloss:0.420326\tvalidation_1-error:0.220278\tvalidation_1-logloss:0.443624\n",
      "[92]\tvalidation_0-error:0.20658\tvalidation_0-logloss:0.419839\tvalidation_1-error:0.220635\tvalidation_1-logloss:0.443238\n",
      "[93]\tvalidation_0-error:0.206427\tvalidation_0-logloss:0.419496\tvalidation_1-error:0.220278\tvalidation_1-logloss:0.443016\n",
      "[94]\tvalidation_0-error:0.206427\tvalidation_0-logloss:0.419019\tvalidation_1-error:0.219564\tvalidation_1-logloss:0.442743\n",
      "[95]\tvalidation_0-error:0.206274\tvalidation_0-logloss:0.418765\tvalidation_1-error:0.219564\tvalidation_1-logloss:0.442899\n",
      "[96]\tvalidation_0-error:0.205815\tvalidation_0-logloss:0.418474\tvalidation_1-error:0.220278\tvalidation_1-logloss:0.442866\n",
      "[97]\tvalidation_0-error:0.205509\tvalidation_0-logloss:0.418344\tvalidation_1-error:0.220635\tvalidation_1-logloss:0.4429\n",
      "[98]\tvalidation_0-error:0.205815\tvalidation_0-logloss:0.41793\tvalidation_1-error:0.220635\tvalidation_1-logloss:0.44251\n",
      "[99]\tvalidation_0-error:0.205509\tvalidation_0-logloss:0.417527\tvalidation_1-error:0.221707\tvalidation_1-logloss:0.442358\n",
      "Accuracy: 77.83%\n"
     ]
    },
    {
     "data": {
      "image/png": "[encoded data removed]",
      "text/plain": [
       "<Figure size 432x288 with 1 Axes>"
      ]
     },
     "metadata": {
      "needs_background": "light"
     },
     "output_type": "display_data"
    },
    {
     "data": {
      "image/png": "[encoded data removed]",
      "text/plain": [
       "<Figure size 432x288 with 1 Axes>"
      ]
     },
     "metadata": {
      "needs_background": "light"
     },
     "output_type": "display_data"
    }
   ],
   "source": [
    "# plot learning curve\n",
    "from numpy import loadtxt\n",
    "from xgboost import XGBClassifier\n",
    "from sklearn.model_selection import train_test_split\n",
    "from sklearn.metrics import accuracy_score\n",
    "from matplotlib import pyplot\n",
    "\n",
    "eval_set = [(X_train, y_train), (X_test, y_test)]\n",
    "model.fit(X_train, y_train, early_stopping_rounds=10, eval_metric=[\"error\", \"logloss\"], eval_set=eval_set, verbose=True)\n",
    "# make predictions for test data\n",
    "y_pred = model.predict(X_test)\n",
    "predictions = [round(value) for value in y_pred]\n",
    "# evaluate predictions\n",
    "accuracy = accuracy_score(y_test, predictions)\n",
    "print(\"Accuracy: %.2f%%\" % (accuracy * 100.0))\n",
    "# retrieve performance metrics\n",
    "results = model.evals_result()\n",
    "epochs = len(results['validation_0']['error'])\n",
    "x_axis = range(0, epochs)\n",
    "# plot log loss\n",
    "fig, ax = pyplot.subplots()\n",
    "ax.plot(x_axis, results['validation_0']['logloss'], label='Train')\n",
    "ax.plot(x_axis, results['validation_1']['logloss'], label='Test')\n",
    "ax.legend()\n",
    "pyplot.ylabel('Log Loss')\n",
    "pyplot.title('XGBoost Log Loss')\n",
    "pyplot.show()\n",
    "# plot classification error\n",
    "fig, ax = pyplot.subplots()\n",
    "ax.plot(x_axis, results['validation_0']['error'], label='Train')\n",
    "ax.plot(x_axis, results['validation_1']['error'], label='Test')\n",
    "ax.legend()\n",
    "pyplot.ylabel('Classification Error')\n",
    "pyplot.title('XGBoost Classification Error')\n",
    "pyplot.show()"
   ]
  },
  {
   "cell_type": "markdown",
   "metadata": {},
   "source": [
    "From reviewing the classification error, it looks like there is an opportunity to stop the learning early, perhaps somewhere around epoch 60 to epoch 80 where error appears to go back up at around epoch 60.\n",
    "\n",
    "We don't see the exact story for the logloss plot but it is observed that the disparity between training and testing accuracies tend to widen after 40 epoch."
   ]
  },
  {
   "cell_type": "markdown",
   "metadata": {},
   "source": [
    "From the above observations\n",
    "When model.fit is executed with verbose=True, we can see each training run evaluation quality printed out. At the end of the log, I observe that the best accuracy was derived from the last iteration as training accuracy = 1 - validation error. However, this might be because of insufficient number of training rounds adn hence, detecting the best iteration could not be done by the model. In this case, XGBoost has chosen the last iteration to build the model."
   ]
  },
  {
   "cell_type": "markdown",
   "metadata": {},
   "source": [
    "##### 3.1.1.2 Increasing Early stopping rounds to 20"
   ]
  },
  {
   "cell_type": "markdown",
   "metadata": {},
   "source": [
    "**Before tuning:**\n",
    "* training accuracy is:  0.996\n",
    "* testing accuracy is:  0.718\n",
    "    \n",
    "**After tuning:**\n",
    "* training accuracy is:  0.809\n",
    "* testing accuracy is:  0.780"
   ]
  },
  {
   "cell_type": "markdown",
   "metadata": {},
   "source": [
    "Increasing this parameter can provide the XGBoost model more chances to find a better result"
   ]
  },
  {
   "cell_type": "code",
   "execution_count": 20,
   "metadata": {},
   "outputs": [
    {
     "name": "stdout",
     "output_type": "stream",
     "text": [
      "[0]\tvalidation_0-error:0.255394\tvalidation_0-logloss:0.664316\tvalidation_1-error:0.26919\tvalidation_1-logloss:0.665613\n",
      "Multiple eval metrics have been passed: 'validation_1-logloss' will be used for early stopping.\n",
      "\n",
      "Will train until validation_1-logloss hasn't improved in 20 rounds.\n",
      "[1]\tvalidation_0-error:0.255394\tvalidation_0-logloss:0.640751\tvalidation_1-error:0.26919\tvalidation_1-logloss:0.643304\n",
      "[2]\tvalidation_0-error:0.255394\tvalidation_0-logloss:0.621266\tvalidation_1-error:0.26919\tvalidation_1-logloss:0.624949\n",
      "[3]\tvalidation_0-error:0.255394\tvalidation_0-logloss:0.604875\tvalidation_1-error:0.26919\tvalidation_1-logloss:0.609667\n",
      "[4]\tvalidation_0-error:0.255088\tvalidation_0-logloss:0.590587\tvalidation_1-error:0.268476\tvalidation_1-logloss:0.595871\n",
      "[5]\tvalidation_0-error:0.255088\tvalidation_0-logloss:0.578604\tvalidation_1-error:0.268476\tvalidation_1-logloss:0.584875\n",
      "[6]\tvalidation_0-error:0.255088\tvalidation_0-logloss:0.567984\tvalidation_1-error:0.268476\tvalidation_1-logloss:0.574979\n",
      "[7]\tvalidation_0-error:0.247131\tvalidation_0-logloss:0.55858\tvalidation_1-error:0.263477\tvalidation_1-logloss:0.566885\n",
      "[8]\tvalidation_0-error:0.247131\tvalidation_0-logloss:0.55042\tvalidation_1-error:0.263477\tvalidation_1-logloss:0.55954\n",
      "[9]\tvalidation_0-error:0.247131\tvalidation_0-logloss:0.543115\tvalidation_1-error:0.263477\tvalidation_1-logloss:0.552658\n",
      "[10]\tvalidation_0-error:0.247131\tvalidation_0-logloss:0.536824\tvalidation_1-error:0.263477\tvalidation_1-logloss:0.547351\n",
      "[11]\tvalidation_0-error:0.242081\tvalidation_0-logloss:0.530921\tvalidation_1-error:0.259193\tvalidation_1-logloss:0.542251\n",
      "[12]\tvalidation_0-error:0.241469\tvalidation_0-logloss:0.526618\tvalidation_1-error:0.258836\tvalidation_1-logloss:0.538733\n",
      "[13]\tvalidation_0-error:0.238409\tvalidation_0-logloss:0.523008\tvalidation_1-error:0.254909\tvalidation_1-logloss:0.535824\n",
      "[14]\tvalidation_0-error:0.239633\tvalidation_0-logloss:0.518552\tvalidation_1-error:0.256337\tvalidation_1-logloss:0.53156\n",
      "[15]\tvalidation_0-error:0.238409\tvalidation_0-logloss:0.515765\tvalidation_1-error:0.254909\tvalidation_1-logloss:0.529391\n",
      "[16]\tvalidation_0-error:0.236878\tvalidation_0-logloss:0.509902\tvalidation_1-error:0.253124\tvalidation_1-logloss:0.5235\n",
      "[17]\tvalidation_0-error:0.23596\tvalidation_0-logloss:0.50758\tvalidation_1-error:0.251696\tvalidation_1-logloss:0.521608\n",
      "[18]\tvalidation_0-error:0.236725\tvalidation_0-logloss:0.504302\tvalidation_1-error:0.253481\tvalidation_1-logloss:0.518261\n",
      "[19]\tvalidation_0-error:0.223412\tvalidation_0-logloss:0.499457\tvalidation_1-error:0.238486\tvalidation_1-logloss:0.513599\n",
      "[20]\tvalidation_0-error:0.223412\tvalidation_0-logloss:0.497615\tvalidation_1-error:0.238486\tvalidation_1-logloss:0.51215\n",
      "[21]\tvalidation_0-error:0.223565\tvalidation_0-logloss:0.493989\tvalidation_1-error:0.238843\tvalidation_1-logloss:0.508693\n",
      "[22]\tvalidation_0-error:0.223412\tvalidation_0-logloss:0.489977\tvalidation_1-error:0.238129\tvalidation_1-logloss:0.504687\n",
      "[23]\tvalidation_0-error:0.223412\tvalidation_0-logloss:0.488387\tvalidation_1-error:0.238486\tvalidation_1-logloss:0.503284\n",
      "[24]\tvalidation_0-error:0.223412\tvalidation_0-logloss:0.485333\tvalidation_1-error:0.238129\tvalidation_1-logloss:0.500214\n",
      "[25]\tvalidation_0-error:0.223412\tvalidation_0-logloss:0.484049\tvalidation_1-error:0.238486\tvalidation_1-logloss:0.499209\n",
      "[26]\tvalidation_0-error:0.221882\tvalidation_0-logloss:0.480479\tvalidation_1-error:0.237058\tvalidation_1-logloss:0.496058\n",
      "[27]\tvalidation_0-error:0.221882\tvalidation_0-logloss:0.477399\tvalidation_1-error:0.237058\tvalidation_1-logloss:0.492971\n",
      "[28]\tvalidation_0-error:0.221576\tvalidation_0-logloss:0.475119\tvalidation_1-error:0.235987\tvalidation_1-logloss:0.490691\n",
      "[29]\tvalidation_0-error:0.221423\tvalidation_0-logloss:0.474006\tvalidation_1-error:0.235987\tvalidation_1-logloss:0.489947\n",
      "[30]\tvalidation_0-error:0.221423\tvalidation_0-logloss:0.472773\tvalidation_1-error:0.235987\tvalidation_1-logloss:0.488693\n",
      "[31]\tvalidation_0-error:0.221423\tvalidation_0-logloss:0.471899\tvalidation_1-error:0.235987\tvalidation_1-logloss:0.488039\n",
      "[32]\tvalidation_0-error:0.221423\tvalidation_0-logloss:0.469467\tvalidation_1-error:0.235987\tvalidation_1-logloss:0.485655\n",
      "[33]\tvalidation_0-error:0.221423\tvalidation_0-logloss:0.468716\tvalidation_1-error:0.23563\tvalidation_1-logloss:0.485071\n",
      "[34]\tvalidation_0-error:0.220352\tvalidation_0-logloss:0.465232\tvalidation_1-error:0.235273\tvalidation_1-logloss:0.481526\n",
      "[35]\tvalidation_0-error:0.21974\tvalidation_0-logloss:0.463521\tvalidation_1-error:0.234559\tvalidation_1-logloss:0.479978\n",
      "[36]\tvalidation_0-error:0.219434\tvalidation_0-logloss:0.460561\tvalidation_1-error:0.234202\tvalidation_1-logloss:0.477159\n",
      "[37]\tvalidation_0-error:0.219434\tvalidation_0-logloss:0.459779\tvalidation_1-error:0.234202\tvalidation_1-logloss:0.476601\n",
      "[38]\tvalidation_0-error:0.219434\tvalidation_0-logloss:0.459106\tvalidation_1-error:0.234559\tvalidation_1-logloss:0.476299\n",
      "[39]\tvalidation_0-error:0.219434\tvalidation_0-logloss:0.457634\tvalidation_1-error:0.234202\tvalidation_1-logloss:0.475094\n",
      "[40]\tvalidation_0-error:0.213313\tvalidation_0-logloss:0.455105\tvalidation_1-error:0.226705\tvalidation_1-logloss:0.472494\n",
      "[41]\tvalidation_0-error:0.213619\tvalidation_0-logloss:0.454533\tvalidation_1-error:0.226705\tvalidation_1-logloss:0.472025\n",
      "[42]\tvalidation_0-error:0.213466\tvalidation_0-logloss:0.453861\tvalidation_1-error:0.225991\tvalidation_1-logloss:0.471438\n",
      "[43]\tvalidation_0-error:0.213007\tvalidation_0-logloss:0.452514\tvalidation_1-error:0.225277\tvalidation_1-logloss:0.470129\n",
      "[44]\tvalidation_0-error:0.212701\tvalidation_0-logloss:0.450716\tvalidation_1-error:0.22492\tvalidation_1-logloss:0.468239\n",
      "[45]\tvalidation_0-error:0.212242\tvalidation_0-logloss:0.450198\tvalidation_1-error:0.225277\tvalidation_1-logloss:0.468072\n",
      "[46]\tvalidation_0-error:0.212089\tvalidation_0-logloss:0.449412\tvalidation_1-error:0.224563\tvalidation_1-logloss:0.467472\n",
      "[47]\tvalidation_0-error:0.212242\tvalidation_0-logloss:0.448253\tvalidation_1-error:0.225277\tvalidation_1-logloss:0.466306\n",
      "[48]\tvalidation_0-error:0.210712\tvalidation_0-logloss:0.446255\tvalidation_1-error:0.223135\tvalidation_1-logloss:0.464249\n",
      "[49]\tvalidation_0-error:0.210712\tvalidation_0-logloss:0.445621\tvalidation_1-error:0.223135\tvalidation_1-logloss:0.463818\n",
      "[50]\tvalidation_0-error:0.209946\tvalidation_0-logloss:0.444553\tvalidation_1-error:0.223135\tvalidation_1-logloss:0.46283\n",
      "[51]\tvalidation_0-error:0.210406\tvalidation_0-logloss:0.443191\tvalidation_1-error:0.223849\tvalidation_1-logloss:0.461396\n",
      "[52]\tvalidation_0-error:0.210406\tvalidation_0-logloss:0.442745\tvalidation_1-error:0.223849\tvalidation_1-logloss:0.461236\n",
      "[53]\tvalidation_0-error:0.210712\tvalidation_0-logloss:0.442298\tvalidation_1-error:0.223849\tvalidation_1-logloss:0.460974\n",
      "[54]\tvalidation_0-error:0.209487\tvalidation_0-logloss:0.441271\tvalidation_1-error:0.223135\tvalidation_1-logloss:0.459838\n",
      "[55]\tvalidation_0-error:0.20964\tvalidation_0-logloss:0.439977\tvalidation_1-error:0.223135\tvalidation_1-logloss:0.458832\n",
      "[56]\tvalidation_0-error:0.20964\tvalidation_0-logloss:0.439601\tvalidation_1-error:0.223135\tvalidation_1-logloss:0.458648\n",
      "[57]\tvalidation_0-error:0.209487\tvalidation_0-logloss:0.439236\tvalidation_1-error:0.223492\tvalidation_1-logloss:0.45839\n",
      "[58]\tvalidation_0-error:0.209946\tvalidation_0-logloss:0.438421\tvalidation_1-error:0.224563\tvalidation_1-logloss:0.457865\n",
      "[59]\tvalidation_0-error:0.209793\tvalidation_0-logloss:0.437971\tvalidation_1-error:0.222778\tvalidation_1-logloss:0.457698\n",
      "[60]\tvalidation_0-error:0.208722\tvalidation_0-logloss:0.437081\tvalidation_1-error:0.22135\tvalidation_1-logloss:0.456896\n",
      "[61]\tvalidation_0-error:0.20964\tvalidation_0-logloss:0.436725\tvalidation_1-error:0.222064\tvalidation_1-logloss:0.456831\n",
      "[62]\tvalidation_0-error:0.210252\tvalidation_0-logloss:0.435692\tvalidation_1-error:0.221707\tvalidation_1-logloss:0.456089\n",
      "[63]\tvalidation_0-error:0.209793\tvalidation_0-logloss:0.435227\tvalidation_1-error:0.223135\tvalidation_1-logloss:0.45576\n",
      "[64]\tvalidation_0-error:0.209793\tvalidation_0-logloss:0.434895\tvalidation_1-error:0.222421\tvalidation_1-logloss:0.455416\n",
      "[65]\tvalidation_0-error:0.209181\tvalidation_0-logloss:0.43461\tvalidation_1-error:0.222778\tvalidation_1-logloss:0.455521\n",
      "[66]\tvalidation_0-error:0.209028\tvalidation_0-logloss:0.433744\tvalidation_1-error:0.222421\tvalidation_1-logloss:0.454592\n"
     ]
    },
    {
     "name": "stdout",
     "output_type": "stream",
     "text": [
      "[67]\tvalidation_0-error:0.209028\tvalidation_0-logloss:0.433261\tvalidation_1-error:0.222778\tvalidation_1-logloss:0.454289\n",
      "[68]\tvalidation_0-error:0.207804\tvalidation_0-logloss:0.431765\tvalidation_1-error:0.223135\tvalidation_1-logloss:0.452886\n",
      "[69]\tvalidation_0-error:0.207345\tvalidation_0-logloss:0.431027\tvalidation_1-error:0.222421\tvalidation_1-logloss:0.45206\n",
      "[70]\tvalidation_0-error:0.207345\tvalidation_0-logloss:0.43059\tvalidation_1-error:0.222064\tvalidation_1-logloss:0.451828\n",
      "[71]\tvalidation_0-error:0.207804\tvalidation_0-logloss:0.429983\tvalidation_1-error:0.223135\tvalidation_1-logloss:0.451199\n",
      "[72]\tvalidation_0-error:0.207804\tvalidation_0-logloss:0.42962\tvalidation_1-error:0.223492\tvalidation_1-logloss:0.451196\n",
      "[73]\tvalidation_0-error:0.207345\tvalidation_0-logloss:0.429318\tvalidation_1-error:0.223492\tvalidation_1-logloss:0.451045\n",
      "[74]\tvalidation_0-error:0.207345\tvalidation_0-logloss:0.429044\tvalidation_1-error:0.222778\tvalidation_1-logloss:0.45081\n",
      "[75]\tvalidation_0-error:0.207192\tvalidation_0-logloss:0.428295\tvalidation_1-error:0.222064\tvalidation_1-logloss:0.450127\n",
      "[76]\tvalidation_0-error:0.207345\tvalidation_0-logloss:0.427869\tvalidation_1-error:0.222064\tvalidation_1-logloss:0.449959\n",
      "[77]\tvalidation_0-error:0.206886\tvalidation_0-logloss:0.427601\tvalidation_1-error:0.222778\tvalidation_1-logloss:0.449827\n",
      "[78]\tvalidation_0-error:0.206886\tvalidation_0-logloss:0.427406\tvalidation_1-error:0.223135\tvalidation_1-logloss:0.449869\n",
      "[79]\tvalidation_0-error:0.206886\tvalidation_0-logloss:0.426967\tvalidation_1-error:0.222778\tvalidation_1-logloss:0.449493\n",
      "[80]\tvalidation_0-error:0.206733\tvalidation_0-logloss:0.4263\tvalidation_1-error:0.223135\tvalidation_1-logloss:0.448917\n",
      "[81]\tvalidation_0-error:0.206733\tvalidation_0-logloss:0.425109\tvalidation_1-error:0.223849\tvalidation_1-logloss:0.447961\n",
      "[82]\tvalidation_0-error:0.206886\tvalidation_0-logloss:0.424783\tvalidation_1-error:0.222064\tvalidation_1-logloss:0.447595\n",
      "[83]\tvalidation_0-error:0.206886\tvalidation_0-logloss:0.424563\tvalidation_1-error:0.220278\tvalidation_1-logloss:0.44741\n",
      "[84]\tvalidation_0-error:0.206274\tvalidation_0-logloss:0.423964\tvalidation_1-error:0.22135\tvalidation_1-logloss:0.446898\n",
      "[85]\tvalidation_0-error:0.206733\tvalidation_0-logloss:0.422926\tvalidation_1-error:0.220993\tvalidation_1-logloss:0.446075\n",
      "[86]\tvalidation_0-error:0.206886\tvalidation_0-logloss:0.422362\tvalidation_1-error:0.220993\tvalidation_1-logloss:0.445464\n",
      "[87]\tvalidation_0-error:0.207192\tvalidation_0-logloss:0.421813\tvalidation_1-error:0.22135\tvalidation_1-logloss:0.444981\n",
      "[88]\tvalidation_0-error:0.207039\tvalidation_0-logloss:0.421564\tvalidation_1-error:0.220993\tvalidation_1-logloss:0.444853\n",
      "[89]\tvalidation_0-error:0.206886\tvalidation_0-logloss:0.421332\tvalidation_1-error:0.220635\tvalidation_1-logloss:0.444736\n",
      "[90]\tvalidation_0-error:0.20658\tvalidation_0-logloss:0.420965\tvalidation_1-error:0.220278\tvalidation_1-logloss:0.444399\n",
      "[91]\tvalidation_0-error:0.206427\tvalidation_0-logloss:0.420326\tvalidation_1-error:0.220278\tvalidation_1-logloss:0.443624\n",
      "[92]\tvalidation_0-error:0.20658\tvalidation_0-logloss:0.419839\tvalidation_1-error:0.220635\tvalidation_1-logloss:0.443238\n",
      "[93]\tvalidation_0-error:0.206427\tvalidation_0-logloss:0.419496\tvalidation_1-error:0.220278\tvalidation_1-logloss:0.443016\n",
      "[94]\tvalidation_0-error:0.206427\tvalidation_0-logloss:0.419019\tvalidation_1-error:0.219564\tvalidation_1-logloss:0.442743\n",
      "[95]\tvalidation_0-error:0.206274\tvalidation_0-logloss:0.418765\tvalidation_1-error:0.219564\tvalidation_1-logloss:0.442899\n",
      "[96]\tvalidation_0-error:0.205815\tvalidation_0-logloss:0.418474\tvalidation_1-error:0.220278\tvalidation_1-logloss:0.442866\n",
      "[97]\tvalidation_0-error:0.205509\tvalidation_0-logloss:0.418344\tvalidation_1-error:0.220635\tvalidation_1-logloss:0.4429\n",
      "[98]\tvalidation_0-error:0.205815\tvalidation_0-logloss:0.41793\tvalidation_1-error:0.220635\tvalidation_1-logloss:0.44251\n",
      "[99]\tvalidation_0-error:0.205509\tvalidation_0-logloss:0.417527\tvalidation_1-error:0.221707\tvalidation_1-logloss:0.442358\n",
      "Accuracy: 77.83%\n"
     ]
    },
    {
     "data": {
      "image/png": "[encoded data removed]",
      "text/plain": [
       "<Figure size 432x288 with 1 Axes>"
      ]
     },
     "metadata": {
      "needs_background": "light"
     },
     "output_type": "display_data"
    },
    {
     "data": {
      "image/png": "[encoded data removed]",
      "text/plain": [
       "<Figure size 432x288 with 1 Axes>"
      ]
     },
     "metadata": {
      "needs_background": "light"
     },
     "output_type": "display_data"
    }
   ],
   "source": [
    "# plot learning curve\n",
    "from numpy import loadtxt\n",
    "from xgboost import XGBClassifier\n",
    "from sklearn.model_selection import train_test_split\n",
    "from sklearn.metrics import accuracy_score\n",
    "from matplotlib import pyplot\n",
    "\n",
    "eval_set = [(X_train, y_train), (X_test, y_test)]\n",
    "model.fit(X_train, y_train, early_stopping_rounds=20, eval_metric=[\"error\", \"logloss\"], eval_set=eval_set, verbose=True)\n",
    "# make predictions for test data\n",
    "y_pred = model.predict(X_test)\n",
    "predictions = [round(value) for value in y_pred]\n",
    "# evaluate predictions\n",
    "accuracy = accuracy_score(y_test, predictions)\n",
    "print(\"Accuracy: %.2f%%\" % (accuracy * 100.0))\n",
    "# retrieve performance metrics\n",
    "results = model.evals_result()\n",
    "epochs = len(results['validation_0']['error'])\n",
    "x_axis = range(0, epochs)\n",
    "# plot log loss\n",
    "fig, ax = pyplot.subplots()\n",
    "ax.plot(x_axis, results['validation_0']['logloss'], label='Train')\n",
    "ax.plot(x_axis, results['validation_1']['logloss'], label='Test')\n",
    "ax.legend()\n",
    "pyplot.ylabel('Log Loss')\n",
    "pyplot.title('XGBoost Log Loss')\n",
    "pyplot.show()\n",
    "# plot classification error\n",
    "fig, ax = pyplot.subplots()\n",
    "ax.plot(x_axis, results['validation_0']['error'], label='Train')\n",
    "ax.plot(x_axis, results['validation_1']['error'], label='Test')\n",
    "ax.legend()\n",
    "pyplot.ylabel('Classification Error')\n",
    "pyplot.title('XGBoost Classification Error')\n",
    "pyplot.show()"
   ]
  },
  {
   "cell_type": "markdown",
   "metadata": {},
   "source": [
    "After increasing the early stopping rounds, the best accuracy remains to be 77.83% and so we will try tuning other parameters instead."
   ]
  },
  {
   "cell_type": "markdown",
   "metadata": {},
   "source": [
    "#### 3.1.2 By tuning n_estimators and learning rate"
   ]
  },
  {
   "cell_type": "markdown",
   "metadata": {},
   "source": [
    "**Before tuning:**\n",
    "* training accuracy is:  0.996\n",
    "* testing accuracy is:  0.718\n",
    "    \n",
    "**After tuning:**\n",
    "* training accuracy is:  0.809\n",
    "* testing accuracy is:  0.780"
   ]
  },
  {
   "cell_type": "markdown",
   "metadata": {},
   "source": [
    "Smaller learning rates generally require more trees to be added to the model. I have provided 5 variations of n_estimators and 4 variations of learning_rate. Each combination will be evaluated using k-fold cross validation where k = 10, and this means there is a total of 200 XGBoost models that must be trained and evaluated.\n",
    "\n",
    "Credits: https://machinelearningmastery.com/avoid-overfitting-by-early-stopping-with-xgboost-in-python/ and https://machinelearningmastery.com/tune-learning-rate-for-gradient-boosting-with-xgboost-in-python/"
   ]
  },
  {
   "cell_type": "markdown",
   "metadata": {},
   "source": [
    "*Smaller log loss means smaller uncertainty and entropy (a measure of randomness of a prediction) of the model"
   ]
  },
  {
   "cell_type": "markdown",
   "metadata": {},
   "source": [
    "#### Identifying the best combination of n_estimators and learning rate"
   ]
  },
  {
   "cell_type": "code",
   "execution_count": 52,
   "metadata": {
    "scrolled": false
   },
   "outputs": [
    {
     "name": "stdout",
     "output_type": "stream",
     "text": [
      "Best: -0.417746 using {'learning_rate': 0.1, 'n_estimators': 400}\n",
      "-0.690208 (0.000115) with: {'learning_rate': 0.0001, 'n_estimators': 100}\n",
      "-0.687327 (0.000227) with: {'learning_rate': 0.0001, 'n_estimators': 200}\n",
      "-0.684503 (0.000338) with: {'learning_rate': 0.0001, 'n_estimators': 300}\n",
      "-0.681737 (0.000454) with: {'learning_rate': 0.0001, 'n_estimators': 400}\n",
      "-0.679025 (0.000570) with: {'learning_rate': 0.0001, 'n_estimators': 500}\n",
      "-0.666257 (0.001157) with: {'learning_rate': 0.001, 'n_estimators': 100}\n",
      "-0.644133 (0.002286) with: {'learning_rate': 0.001, 'n_estimators': 200}\n",
      "-0.625675 (0.003215) with: {'learning_rate': 0.001, 'n_estimators': 300}\n",
      "-0.609831 (0.003973) with: {'learning_rate': 0.001, 'n_estimators': 400}\n",
      "-0.596215 (0.004664) with: {'learning_rate': 0.001, 'n_estimators': 500}\n",
      "-0.550039 (0.006951) with: {'learning_rate': 0.01, 'n_estimators': 100}\n",
      "-0.508816 (0.009395) with: {'learning_rate': 0.01, 'n_estimators': 200}\n",
      "-0.485940 (0.009247) with: {'learning_rate': 0.01, 'n_estimators': 300}\n",
      "-0.472464 (0.008849) with: {'learning_rate': 0.01, 'n_estimators': 400}\n",
      "-0.462796 (0.008777) with: {'learning_rate': 0.01, 'n_estimators': 500}\n",
      "-0.434794 (0.010259) with: {'learning_rate': 0.1, 'n_estimators': 100}\n",
      "-0.420335 (0.012331) with: {'learning_rate': 0.1, 'n_estimators': 200}\n",
      "-0.417749 (0.012757) with: {'learning_rate': 0.1, 'n_estimators': 300}\n",
      "-0.417746 (0.013234) with: {'learning_rate': 0.1, 'n_estimators': 400}\n",
      "-0.419117 (0.013974) with: {'learning_rate': 0.1, 'n_estimators': 500}\n"
     ]
    },
    {
     "name": "stderr",
     "output_type": "stream",
     "text": [
      "C:\\Users\\sammi\\Anaconda3\\lib\\site-packages\\ipykernel_launcher.py:34: UserWarning: Matplotlib is currently using agg, which is a non-GUI backend, so cannot show the figure.\n"
     ]
    },
    {
     "data": {
      "image/png": "[encoded data removed]",
      "text/plain": [
       "<Figure size 432x288 with 1 Axes>"
      ]
     },
     "metadata": {
      "needs_background": "light"
     },
     "output_type": "display_data"
    }
   ],
   "source": [
    "# XGBoost on Otto dataset, Tune learning_rate and n_estimators\n",
    "from sklearn.model_selection import GridSearchCV\n",
    "from sklearn.model_selection import StratifiedKFold\n",
    "from sklearn.preprocessing import LabelEncoder\n",
    "import matplotlib\n",
    "matplotlib.use('Agg')\n",
    "from matplotlib import pyplot\n",
    "import numpy\n",
    "\n",
    "# encode string class values as integers\n",
    "label_encoded_y = LabelEncoder().fit_transform(y)\n",
    "# grid search\n",
    "model = XGBClassifier()\n",
    "n_estimators = [100, 200, 300, 400, 500]\n",
    "learning_rate = [0.0001, 0.001, 0.01, 0.1]\n",
    "param_grid = dict(learning_rate=learning_rate, n_estimators=n_estimators)\n",
    "kfold = StratifiedKFold(n_splits=10, shuffle=True, random_state=7)\n",
    "grid_search = GridSearchCV(model, param_grid, scoring=\"neg_log_loss\", n_jobs=-1, cv=kfold)\n",
    "grid_result = grid_search.fit(X, label_encoded_y)\n",
    "# summarize results\n",
    "print(\"Best: %f using %s\" % (grid_result.best_score_, grid_result.best_params_))\n",
    "means = grid_result.cv_results_['mean_test_score']\n",
    "stds = grid_result.cv_results_['std_test_score']\n",
    "params = grid_result.cv_results_['params']\n",
    "for mean, stdev, param in zip(means, stds, params):\n",
    "    print(\"%f (%f) with: %r\" % (mean, stdev, param))\n",
    "# plot results\n",
    "scores = numpy.array(means).reshape(len(learning_rate), len(n_estimators))\n",
    "for i, value in enumerate(learning_rate):\n",
    "    pyplot.plot(n_estimators, scores[i], label='learning_rate: ' + str(value))\n",
    "pyplot.legend()\n",
    "pyplot.xlabel('n_estimators')\n",
    "pyplot.ylabel('Log Loss')\n",
    "pyplot.show()"
   ]
  },
  {
   "cell_type": "markdown",
   "metadata": {},
   "source": [
    "The graph proves that indeed, as the number of trees increase, the better the performance of the inverted log loss. As shown from the log loss against n_estimators graph, the learning rate of 0.0001 has showed a log loss furthest from 0 with lowest value of about -0.69 and that means that there is more uncertainty. On the other hand, a learning rate of 0.1 shows the best log loss value with lowest of -0.45."
   ]
  },
  {
   "cell_type": "markdown",
   "metadata": {},
   "source": [
    "#### Understanding the correlation between log loss and n_estimators"
   ]
  },
  {
   "cell_type": "markdown",
   "metadata": {},
   "source": [
    "Running this code has shown that increasing the number of trees has increased the performance of the model (closer to 0). However, it is important to note that a plateau is reached from n_estimators of 300 to 400. It decreases from 400 which may mean that the optimal n_estimator value is 400."
   ]
  },
  {
   "cell_type": "code",
   "execution_count": 59,
   "metadata": {
    "scrolled": true
   },
   "outputs": [
    {
     "name": "stderr",
     "output_type": "stream",
     "text": [
      "C:\\Users\\sammi\\Anaconda3\\lib\\site-packages\\ipykernel_launcher.py:9: UserWarning: Matplotlib is currently using agg, which is a non-GUI backend, so cannot show the figure.\n",
      "  if __name__ == '__main__':\n"
     ]
    },
    {
     "data": {
      "image/png": "[encoded data removed]",
      "text/plain": [
       "<Figure size 432x288 with 1 Axes>"
      ]
     },
     "metadata": {
      "needs_background": "light"
     },
     "output_type": "display_data"
    }
   ],
   "source": [
    "# Plot performance for learning_rate=0.1\n",
    "from matplotlib import pyplot\n",
    "n_estimators = [100, 200, 300, 400, 500]\n",
    "loss = [-0.434794, -0.420335, -0.417749, -0.417746, -0.419117]\n",
    "pyplot.plot(n_estimators, loss)\n",
    "pyplot.xlabel('n_estimators')\n",
    "pyplot.ylabel('Log Loss')\n",
    "pyplot.title('XGBoost learning_rate=0.1 n_estimators vs Log Loss')\n",
    "pyplot.show()"
   ]
  },
  {
   "cell_type": "code",
   "execution_count": 65,
   "metadata": {
    "scrolled": false
   },
   "outputs": [
    {
     "data": {
      "text/plain": [
       "XGBClassifier(base_score=0.5, booster='gbtree', colsample_bylevel=1,\n",
       "              colsample_bynode=1, colsample_bytree=1, gamma=0,\n",
       "              learning_rate=0.1, max_delta_step=0, max_depth=3,\n",
       "              min_child_weight=1, missing=None, n_estimators=400, n_jobs=1,\n",
       "              nthread=None, objective='binary:logistic', random_state=0,\n",
       "              reg_alpha=0, reg_lambda=1, scale_pos_weight=1, seed=None,\n",
       "              silent=None, subsample=1, verbosity=1)"
      ]
     },
     "execution_count": 65,
     "metadata": {},
     "output_type": "execute_result"
    }
   ],
   "source": [
    "model = XGBClassifier(objective='binary:logistic',\n",
    "                        n_estimators=400,\n",
    "                        learning_rate = 0.1)\n",
    "\n",
    "eval_set = [(X_test, y_test)]\n",
    "model.fit(X_train, y_train, early_stopping_rounds=10, eval_metric=\"logloss\", eval_set=eval_set, verbose=False)"
   ]
  },
  {
   "cell_type": "markdown",
   "metadata": {},
   "source": [
    "(i) Training Accuracy"
   ]
  },
  {
   "cell_type": "code",
   "execution_count": 66,
   "metadata": {},
   "outputs": [],
   "source": [
    "# make predictions for train data\n",
    "y_train_pred = model.predict(X_train)\n",
    "predictions = [round(value) for value in y_train_pred]"
   ]
  },
  {
   "cell_type": "code",
   "execution_count": 67,
   "metadata": {
    "scrolled": true
   },
   "outputs": [
    {
     "name": "stdout",
     "output_type": "stream",
     "text": [
      "training accuracy is:  0.8087222647283856\n"
     ]
    }
   ],
   "source": [
    "# evaluate predictions \n",
    "accuracy = accuracy_score(y_train, predictions)\n",
    "#print(\"training accuracy: %.2f%%\" % (accuracy * 100.0))\n",
    "print(\"training accuracy is: \", accuracy)"
   ]
  },
  {
   "cell_type": "markdown",
   "metadata": {},
   "source": [
    "(ii) Testing Accuracy"
   ]
  },
  {
   "cell_type": "code",
   "execution_count": 68,
   "metadata": {},
   "outputs": [],
   "source": [
    "# make predictions for test data\n",
    "y_pred = model.predict(X_test)\n",
    "predictions = [round(value) for value in y_pred]"
   ]
  },
  {
   "cell_type": "code",
   "execution_count": 69,
   "metadata": {
    "scrolled": true
   },
   "outputs": [
    {
     "name": "stdout",
     "output_type": "stream",
     "text": [
      "testing accuracy is:  0.7804355587290254\n"
     ]
    }
   ],
   "source": [
    "# evaluate predictions \n",
    "from sklearn.metrics import accuracy_score\n",
    "accuracy = accuracy_score(y_test, predictions)\n",
    "print(\"testing accuracy is: \", accuracy)\n",
    "#print(\"testing accuracy:{}%\".format((accuracy * 100.0)))"
   ]
  },
  {
   "cell_type": "markdown",
   "metadata": {},
   "source": [
    "#### 3.1.3 By tuning max_depth"
   ]
  },
  {
   "cell_type": "markdown",
   "metadata": {},
   "source": [
    "**No need for tuning since max_depth was already set at an optimal value**\n",
    "* training accuracy is:  0.809\n",
    "* testing accuracy is:  0.780"
   ]
  },
  {
   "cell_type": "markdown",
   "metadata": {},
   "source": [
    "#### Finding the best max_depth"
   ]
  },
  {
   "cell_type": "code",
   "execution_count": 77,
   "metadata": {
    "scrolled": false
   },
   "outputs": [
    {
     "name": "stdout",
     "output_type": "stream",
     "text": [
      "range(1, 11, 2)\n",
      "Fitting 10 folds for each of 5 candidates, totalling 50 fits\n"
     ]
    },
    {
     "name": "stderr",
     "output_type": "stream",
     "text": [
      "[Parallel(n_jobs=-1)]: Using backend LokyBackend with 8 concurrent workers.\n",
      "[Parallel(n_jobs=-1)]: Done  34 tasks      | elapsed:   16.1s\n",
      "[Parallel(n_jobs=-1)]: Done  50 out of  50 | elapsed:   30.7s finished\n"
     ]
    },
    {
     "name": "stdout",
     "output_type": "stream",
     "text": [
      "Best: -0.417746 using {'max_depth': 3}\n",
      "-0.506086 (0.006759) with: {'max_depth': 1}\n",
      "-0.417746 (0.013234) with: {'max_depth': 3}\n",
      "-0.435232 (0.016135) with: {'max_depth': 5}\n",
      "-0.475463 (0.021398) with: {'max_depth': 7}\n",
      "-0.528313 (0.024300) with: {'max_depth': 9}\n"
     ]
    },
    {
     "data": {
      "text/plain": [
       "Text(0, 0.5, 'Log Loss')"
      ]
     },
     "execution_count": 77,
     "metadata": {},
     "output_type": "execute_result"
    },
    {
     "data": {
      "image/png": "[encoded data removed]",
      "text/plain": [
       "<Figure size 432x288 with 1 Axes>"
      ]
     },
     "metadata": {
      "needs_background": "light"
     },
     "output_type": "display_data"
    }
   ],
   "source": [
    "# XGBoost on Otto dataset, Tune max_depth\n",
    "from pandas import read_csv\n",
    "from xgboost import XGBClassifier\n",
    "from sklearn.model_selection import GridSearchCV\n",
    "from sklearn.model_selection import StratifiedKFold\n",
    "from sklearn.preprocessing import LabelEncoder\n",
    "import matplotlib\n",
    "matplotlib.use('Agg')\n",
    "from matplotlib import pyplot\n",
    "\n",
    "max_depth = range(1, 11, 2)\n",
    "print(max_depth)\n",
    "param_grid = dict(max_depth=max_depth)\n",
    "kfold = StratifiedKFold(n_splits=10, shuffle=True, random_state=7)\n",
    "grid_search = GridSearchCV(model, param_grid, scoring=\"neg_log_loss\", n_jobs=-1, cv=kfold, verbose=1)\n",
    "grid_result = grid_search.fit(X, label_encoded_y)\n",
    "# summarize results\n",
    "print(\"Best: %f using %s\" % (grid_result.best_score_, grid_result.best_params_))\n",
    "means = grid_result.cv_results_['mean_test_score']\n",
    "stds = grid_result.cv_results_['std_test_score']\n",
    "params = grid_result.cv_results_['params']\n",
    "for mean, stdev, param in zip(means, stds, params):\n",
    "    print(\"%f (%f) with: %r\" % (mean, stdev, param))\n",
    "# plot\n",
    "pyplot.errorbar(max_depth, means, yerr=stds)\n",
    "pyplot.title(\"XGBoost max_depth vs Log Loss\")\n",
    "pyplot.xlabel('max_depth')\n",
    "pyplot.ylabel('Log Loss')"
   ]
  },
  {
   "cell_type": "markdown",
   "metadata": {},
   "source": [
    "Running the codes displays the log loss for each max_depth value that I have inputted into the GridSearch. According to the graph, the best max_depth is at 3 as we get returned the lowest log loss of -0.417746 "
   ]
  },
  {
   "cell_type": "code",
   "execution_count": 82,
   "metadata": {
    "scrolled": false
   },
   "outputs": [
    {
     "data": {
      "text/plain": [
       "XGBClassifier(base_score=0.5, booster='gbtree', colsample_bylevel=1,\n",
       "              colsample_bynode=1, colsample_bytree=1, gamma=0,\n",
       "              learning_rate=0.1, max_delta_step=0, max_depth=3,\n",
       "              min_child_weight=1, missing=None, n_estimators=400, n_jobs=1,\n",
       "              nax_depth=3, nthread=None, objective='binary:logistic',\n",
       "              random_state=0, reg_alpha=0, reg_lambda=1, scale_pos_weight=1,\n",
       "              seed=None, silent=None, subsample=1, verbosity=1)"
      ]
     },
     "execution_count": 82,
     "metadata": {},
     "output_type": "execute_result"
    }
   ],
   "source": [
    "model = XGBClassifier(objective='binary:logistic',\n",
    "                        n_estimators=400,\n",
    "                        learning_rate = 0.1,\n",
    "                        nax_depth = 3)\n",
    "\n",
    "eval_set = [(X_test, y_test)]\n",
    "model.fit(X_train, y_train, early_stopping_rounds=10, eval_metric=\"logloss\", eval_set=eval_set, verbose=False)"
   ]
  },
  {
   "cell_type": "markdown",
   "metadata": {},
   "source": [
    "(i) Training Accuracy"
   ]
  },
  {
   "cell_type": "code",
   "execution_count": 72,
   "metadata": {},
   "outputs": [],
   "source": [
    "# make predictions for train data\n",
    "y_train_pred = model.predict(X_train)\n",
    "predictions = [round(value) for value in y_train_pred]"
   ]
  },
  {
   "cell_type": "code",
   "execution_count": 73,
   "metadata": {
    "scrolled": true
   },
   "outputs": [
    {
     "name": "stdout",
     "output_type": "stream",
     "text": [
      "training accuracy is:  0.8087222647283856\n"
     ]
    }
   ],
   "source": [
    "# evaluate predictions \n",
    "accuracy = accuracy_score(y_train, predictions)\n",
    "#print(\"training accuracy: %.2f%%\" % (accuracy * 100.0))\n",
    "print(\"training accuracy is: \", accuracy)"
   ]
  },
  {
   "cell_type": "markdown",
   "metadata": {},
   "source": [
    "(ii) Testing Accuracy"
   ]
  },
  {
   "cell_type": "code",
   "execution_count": 74,
   "metadata": {},
   "outputs": [],
   "source": [
    "# make predictions for test data\n",
    "y_pred = model.predict(X_test)\n",
    "predictions = [round(value) for value in y_pred]"
   ]
  },
  {
   "cell_type": "code",
   "execution_count": 75,
   "metadata": {
    "scrolled": true
   },
   "outputs": [
    {
     "name": "stdout",
     "output_type": "stream",
     "text": [
      "testing accuracy is:  0.7804355587290254\n"
     ]
    }
   ],
   "source": [
    "# evaluate predictions \n",
    "from sklearn.metrics import accuracy_score\n",
    "accuracy = accuracy_score(y_test, predictions)\n",
    "print(\"testing accuracy is: \", accuracy)\n",
    "#print(\"testing accuracy:{}%\".format((accuracy * 100.0)))"
   ]
  },
  {
   "cell_type": "markdown",
   "metadata": {},
   "source": [
    "#### Finding the best combination between max_depth and n_estimators (worsen from 0.7804 to 0.7797)"
   ]
  },
  {
   "cell_type": "markdown",
   "metadata": {},
   "source": [
    "We can investigate the relationship between max_depth and n_estimators by evaluating a grid of n_estimators and max_depth configuration values. To avoid the evaluation taking too long, we will limit the total number of configuration values evaluated. Parameters were chosen to tease out the relationship rather than optimize the model.\n",
    "\n",
    "We will create a grid of 4 different n_estimators values (50, 100, 150, 200) and 4 different max_depth values (2, 4, 6, 8) and each combination will be evaluated using 10-fold cross validation. A total of 4*4*10 or 160 models will be trained and evaluated.\n",
    "\n",
    "Credits: https://machinelearningmastery.com/tune-number-size-decision-trees-xgboost-python/"
   ]
  },
  {
   "cell_type": "code",
   "execution_count": 78,
   "metadata": {},
   "outputs": [
    {
     "name": "stdout",
     "output_type": "stream",
     "text": [
      "[2, 4, 6, 8]\n",
      "Fitting 10 folds for each of 16 candidates, totalling 160 fits\n"
     ]
    },
    {
     "name": "stderr",
     "output_type": "stream",
     "text": [
      "[Parallel(n_jobs=-1)]: Using backend LokyBackend with 8 concurrent workers.\n",
      "[Parallel(n_jobs=-1)]: Done  34 tasks      | elapsed:    2.3s\n",
      "[Parallel(n_jobs=-1)]: Done 160 out of 160 | elapsed:   28.5s finished\n"
     ]
    },
    {
     "name": "stdout",
     "output_type": "stream",
     "text": [
      "Best: -0.416056 using {'max_depth': 4, 'n_estimators': 200}\n",
      "-0.495610 (0.009780) with: {'max_depth': 2, 'n_estimators': 50}\n",
      "-0.469314 (0.009278) with: {'max_depth': 2, 'n_estimators': 100}\n",
      "-0.458061 (0.009190) with: {'max_depth': 2, 'n_estimators': 150}\n",
      "-0.450285 (0.009586) with: {'max_depth': 2, 'n_estimators': 200}\n",
      "-0.436060 (0.012192) with: {'max_depth': 4, 'n_estimators': 50}\n",
      "-0.419415 (0.013034) with: {'max_depth': 4, 'n_estimators': 100}\n",
      "-0.416121 (0.013978) with: {'max_depth': 4, 'n_estimators': 150}\n",
      "-0.416056 (0.014173) with: {'max_depth': 4, 'n_estimators': 200}\n",
      "-0.422809 (0.012997) with: {'max_depth': 6, 'n_estimators': 50}\n",
      "-0.420509 (0.014576) with: {'max_depth': 6, 'n_estimators': 100}\n",
      "-0.424541 (0.014440) with: {'max_depth': 6, 'n_estimators': 150}\n",
      "-0.429624 (0.015149) with: {'max_depth': 6, 'n_estimators': 200}\n",
      "-0.423182 (0.013577) with: {'max_depth': 8, 'n_estimators': 50}\n",
      "-0.431193 (0.015591) with: {'max_depth': 8, 'n_estimators': 100}\n",
      "-0.442473 (0.016823) with: {'max_depth': 8, 'n_estimators': 150}\n",
      "-0.453422 (0.019034) with: {'max_depth': 8, 'n_estimators': 200}\n"
     ]
    },
    {
     "data": {
      "image/png": "[encoded data removed]",
      "text/plain": [
       "<Figure size 432x288 with 1 Axes>"
      ]
     },
     "metadata": {
      "needs_background": "light"
     },
     "output_type": "display_data"
    }
   ],
   "source": [
    "# XGBoost on Otto dataset, Tune n_estimators and max_depth\n",
    "from pandas import read_csv\n",
    "from xgboost import XGBClassifier\n",
    "from sklearn.model_selection import GridSearchCV\n",
    "from sklearn.model_selection import StratifiedKFold\n",
    "from sklearn.preprocessing import LabelEncoder\n",
    "import matplotlib\n",
    "matplotlib.use('Agg')\n",
    "from matplotlib import pyplot\n",
    "import numpy\n",
    "\n",
    "# grid search\n",
    "model = XGBClassifier()\n",
    "n_estimators = [50, 100, 150, 200]\n",
    "max_depth = [2, 4, 6, 8]\n",
    "print(max_depth)\n",
    "param_grid = dict(max_depth=max_depth, n_estimators=n_estimators)\n",
    "kfold = StratifiedKFold(n_splits=10, shuffle=True, random_state=7)\n",
    "grid_search = GridSearchCV(model, param_grid, scoring=\"neg_log_loss\", n_jobs=-1, cv=kfold, verbose=1)\n",
    "grid_result = grid_search.fit(X, label_encoded_y)\n",
    "# summarize results\n",
    "print(\"Best: %f using %s\" % (grid_result.best_score_, grid_result.best_params_))\n",
    "means = grid_result.cv_results_['mean_test_score']\n",
    "stds = grid_result.cv_results_['std_test_score']\n",
    "params = grid_result.cv_results_['params']\n",
    "for mean, stdev, param in zip(means, stds, params):\n",
    "\tprint(\"%f (%f) with: %r\" % (mean, stdev, param))\n",
    "# plot results\n",
    "scores = numpy.array(means).reshape(len(max_depth), len(n_estimators))\n",
    "for i, value in enumerate(max_depth):\n",
    "    pyplot.plot(n_estimators, scores[i], label='depth: ' + str(value))\n",
    "pyplot.legend()\n",
    "pyplot.xlabel('n_estimators')\n",
    "pyplot.ylabel('Log Loss')\n",
    "pyplot.savefig('n_estimators_vs_max_depth.png')"
   ]
  },
  {
   "cell_type": "code",
   "execution_count": 21,
   "metadata": {
    "scrolled": false
   },
   "outputs": [
    {
     "data": {
      "text/plain": [
       "XGBClassifier(base_score=0.5, booster='gbtree', colsample_bylevel=1,\n",
       "              colsample_bynode=1, colsample_bytree=1, gamma=0,\n",
       "              learning_rate=0.1, max_delta_step=0, max_depth=4,\n",
       "              min_child_weight=1, missing=None, n_estimators=200, n_jobs=1,\n",
       "              nthread=None, objective='binary:logistic', random_state=0,\n",
       "              reg_alpha=0, reg_lambda=1, scale_pos_weight=1, seed=None,\n",
       "              silent=None, subsample=1, verbosity=1)"
      ]
     },
     "execution_count": 21,
     "metadata": {},
     "output_type": "execute_result"
    }
   ],
   "source": [
    "model = XGBClassifier(objective='binary:logistic',\n",
    "                        n_estimators=200,\n",
    "                        learning_rate = 0.1,\n",
    "                        max_depth = 4)\n",
    "\n",
    "eval_set = [(X_test, y_test)]\n",
    "model.fit(X_train, y_train, early_stopping_rounds=10, eval_metric=\"logloss\", eval_set=eval_set, verbose=False)"
   ]
  },
  {
   "cell_type": "markdown",
   "metadata": {},
   "source": [
    "(i) Training Accuracy"
   ]
  },
  {
   "cell_type": "code",
   "execution_count": 22,
   "metadata": {},
   "outputs": [],
   "source": [
    "# make predictions for train data\n",
    "y_train_pred = model.predict(X_train)\n",
    "predictions = [round(value) for value in y_train_pred]"
   ]
  },
  {
   "cell_type": "code",
   "execution_count": 23,
   "metadata": {
    "scrolled": true
   },
   "outputs": [
    {
     "name": "stdout",
     "output_type": "stream",
     "text": [
      "training accuracy is:  0.8188217291507268\n"
     ]
    }
   ],
   "source": [
    "# evaluate predictions \n",
    "accuracy = accuracy_score(y_train, predictions)\n",
    "#print(\"training accuracy: %.2f%%\" % (accuracy * 100.0))\n",
    "print(\"training accuracy is: \", accuracy)"
   ]
  },
  {
   "cell_type": "markdown",
   "metadata": {},
   "source": [
    "(ii) Testing Accuracy"
   ]
  },
  {
   "cell_type": "code",
   "execution_count": 24,
   "metadata": {},
   "outputs": [],
   "source": [
    "# make predictions for test data\n",
    "y_pred = model.predict(X_test)\n",
    "predictions = [round(value) for value in y_pred]"
   ]
  },
  {
   "cell_type": "code",
   "execution_count": 25,
   "metadata": {
    "scrolled": true
   },
   "outputs": [
    {
     "name": "stdout",
     "output_type": "stream",
     "text": [
      "testing accuracy is:  0.7797215280257052\n"
     ]
    }
   ],
   "source": [
    "# evaluate predictions \n",
    "from sklearn.metrics import accuracy_score\n",
    "accuracy = accuracy_score(y_test, predictions)\n",
    "print(\"testing accuracy is: \", accuracy)\n",
    "#print(\"testing accuracy:{}%\".format((accuracy * 100.0)))"
   ]
  },
  {
   "cell_type": "markdown",
   "metadata": {},
   "source": [
    "### 1.2.5 SVM - Support Vector Machine"
   ]
  },
  {
   "cell_type": "code",
   "execution_count": 37,
   "metadata": {
    "scrolled": true
   },
   "outputs": [
    {
     "data": {
      "text/plain": [
       "SVC(C=1.0, cache_size=200, class_weight=None, coef0=0.0,\n",
       "    decision_function_shape='ovr', degree=3, gamma='auto_deprecated',\n",
       "    kernel='rbf', max_iter=-1, probability=False, random_state=None,\n",
       "    shrinking=True, tol=0.001, verbose=False)"
      ]
     },
     "execution_count": 37,
     "metadata": {},
     "output_type": "execute_result"
    }
   ],
   "source": [
    "# Task 4: Build SVM Model and Evaluate both training and testing accuracy \n",
    "from sklearn.svm import SVC\n",
    "SVC()"
   ]
  },
  {
   "cell_type": "code",
   "execution_count": 43,
   "metadata": {
    "scrolled": true
   },
   "outputs": [
    {
     "data": {
      "text/plain": [
       "['__abstractmethods__',\n",
       " '__class__',\n",
       " '__delattr__',\n",
       " '__dict__',\n",
       " '__dir__',\n",
       " '__doc__',\n",
       " '__eq__',\n",
       " '__format__',\n",
       " '__ge__',\n",
       " '__getattribute__',\n",
       " '__getstate__',\n",
       " '__gt__',\n",
       " '__hash__',\n",
       " '__init__',\n",
       " '__init_subclass__',\n",
       " '__le__',\n",
       " '__lt__',\n",
       " '__module__',\n",
       " '__ne__',\n",
       " '__new__',\n",
       " '__reduce__',\n",
       " '__reduce_ex__',\n",
       " '__repr__',\n",
       " '__setattr__',\n",
       " '__setstate__',\n",
       " '__sizeof__',\n",
       " '__str__',\n",
       " '__subclasshook__',\n",
       " '__weakref__',\n",
       " '_abc_impl',\n",
       " '_check_proba',\n",
       " '_compute_kernel',\n",
       " '_decision_function',\n",
       " '_dense_decision_function',\n",
       " '_dense_fit',\n",
       " '_dense_predict',\n",
       " '_dense_predict_proba',\n",
       " '_estimator_type',\n",
       " '_get_coef',\n",
       " '_get_param_names',\n",
       " '_get_tags',\n",
       " '_impl',\n",
       " '_pairwise',\n",
       " '_predict_log_proba',\n",
       " '_predict_proba',\n",
       " '_sparse_decision_function',\n",
       " '_sparse_fit',\n",
       " '_sparse_kernels',\n",
       " '_sparse_predict',\n",
       " '_sparse_predict_proba',\n",
       " '_validate_for_predict',\n",
       " '_validate_targets',\n",
       " '_warn_from_fit_status',\n",
       " 'coef_',\n",
       " 'decision_function',\n",
       " 'fit',\n",
       " 'get_params',\n",
       " 'predict',\n",
       " 'predict_log_proba',\n",
       " 'predict_proba',\n",
       " 'score',\n",
       " 'set_params']"
      ]
     },
     "execution_count": 43,
     "metadata": {},
     "output_type": "execute_result"
    }
   ],
   "source": [
    "dir(SVC)"
   ]
  },
  {
   "cell_type": "code",
   "execution_count": 44,
   "metadata": {
    "scrolled": true
   },
   "outputs": [
    {
     "name": "stderr",
     "output_type": "stream",
     "text": [
      "C:\\Users\\sammi\\Anaconda3\\lib\\site-packages\\sklearn\\svm\\base.py:193: FutureWarning: The default value of gamma will change from 'auto' to 'scale' in version 0.22 to account better for unscaled features. Set gamma explicitly to 'auto' or 'scale' to avoid this warning.\n",
      "  \"avoid this warning.\", FutureWarning)\n"
     ]
    },
    {
     "data": {
      "text/plain": [
       "SVC(C=0.8, cache_size=200, class_weight=None, coef0=0.0,\n",
       "    decision_function_shape='ovr', degree=3, gamma='auto_deprecated',\n",
       "    kernel='rbf', max_iter=-1, probability=False, random_state=None,\n",
       "    shrinking=True, tol=0.001, verbose=False)"
      ]
     },
     "execution_count": 44,
     "metadata": {},
     "output_type": "execute_result"
    }
   ],
   "source": [
    "svc = SVC(C=0.8, kernel='rbf')\n",
    "svc.fit(X_train,y_train)"
   ]
  },
  {
   "cell_type": "code",
   "execution_count": 29,
   "metadata": {},
   "outputs": [
    {
     "data": {
      "text/plain": [
       "6535"
      ]
     },
     "execution_count": 29,
     "metadata": {},
     "output_type": "execute_result"
    }
   ],
   "source": [
    "len(svc.predict(X_train))"
   ]
  },
  {
   "cell_type": "code",
   "execution_count": 30,
   "metadata": {},
   "outputs": [
    {
     "data": {
      "text/plain": [
       "6535"
      ]
     },
     "execution_count": 30,
     "metadata": {},
     "output_type": "execute_result"
    }
   ],
   "source": [
    "len(X_train)"
   ]
  },
  {
   "cell_type": "code",
   "execution_count": 10,
   "metadata": {
    "scrolled": false
   },
   "outputs": [
    {
     "name": "stdout",
     "output_type": "stream",
     "text": [
      "training accuracy is:  0.786381025248661\n",
      "testing accuracy is:  0.7443770082113531\n"
     ]
    }
   ],
   "source": [
    "print('training accuracy is: ', svc.score(X_train,y_train))\n",
    "print('testing accuracy is: ', svc.score(X_test, y_test))"
   ]
  },
  {
   "cell_type": "markdown",
   "metadata": {},
   "source": [
    "#### Attempt to improve performance with GridSearch"
   ]
  },
  {
   "cell_type": "markdown",
   "metadata": {},
   "source": [
    "C value is how closely the model fits to the training data, which is essentially a regularisation parameter as it controls the complexity of the parameter. Hence, a higher C value means low regularisation as data will try to fit the data very well to prevent the large penalty. On the other hand, a lower C value will tend to capture overall pattern of data and hence, it may lead to underfitting. Hence, it is important that we balance this well."
   ]
  },
  {
   "cell_type": "code",
   "execution_count": 28,
   "metadata": {},
   "outputs": [],
   "source": [
    "import warnings\n",
    "warnings.filterwarnings('ignore', category = FutureWarning)"
   ]
  },
  {
   "cell_type": "code",
   "execution_count": 38,
   "metadata": {},
   "outputs": [],
   "source": [
    "def print_results(results):\n",
    "    print(\"BEST PARAM: {}\\n\".format(results.best_params_))\n",
    "    means = results.cv_results_['mean_test_score']\n",
    "    stds = results.cv_results_['std_test_score']\n",
    "    for mean, std, params in zip(means, stds, results.cv_results_['params']):\n",
    "        print(\"{} (+/1 {}) for {}\".format(round(mean, 3), round(std*2,3), params))"
   ]
  },
  {
   "cell_type": "code",
   "execution_count": 63,
   "metadata": {
    "scrolled": true
   },
   "outputs": [
    {
     "name": "stderr",
     "output_type": "stream",
     "text": [
      "C:\\Users\\sammi\\Anaconda3\\lib\\site-packages\\sklearn\\svm\\base.py:193: FutureWarning: The default value of gamma will change from 'auto' to 'scale' in version 0.22 to account better for unscaled features. Set gamma explicitly to 'auto' or 'scale' to avoid this warning.\n",
      "  \"avoid this warning.\", FutureWarning)\n",
      "C:\\Users\\sammi\\Anaconda3\\lib\\site-packages\\sklearn\\svm\\base.py:193: FutureWarning: The default value of gamma will change from 'auto' to 'scale' in version 0.22 to account better for unscaled features. Set gamma explicitly to 'auto' or 'scale' to avoid this warning.\n",
      "  \"avoid this warning.\", FutureWarning)\n",
      "C:\\Users\\sammi\\Anaconda3\\lib\\site-packages\\sklearn\\svm\\base.py:193: FutureWarning: The default value of gamma will change from 'auto' to 'scale' in version 0.22 to account better for unscaled features. Set gamma explicitly to 'auto' or 'scale' to avoid this warning.\n",
      "  \"avoid this warning.\", FutureWarning)\n",
      "C:\\Users\\sammi\\Anaconda3\\lib\\site-packages\\sklearn\\svm\\base.py:193: FutureWarning: The default value of gamma will change from 'auto' to 'scale' in version 0.22 to account better for unscaled features. Set gamma explicitly to 'auto' or 'scale' to avoid this warning.\n",
      "  \"avoid this warning.\", FutureWarning)\n",
      "C:\\Users\\sammi\\Anaconda3\\lib\\site-packages\\sklearn\\svm\\base.py:193: FutureWarning: The default value of gamma will change from 'auto' to 'scale' in version 0.22 to account better for unscaled features. Set gamma explicitly to 'auto' or 'scale' to avoid this warning.\n",
      "  \"avoid this warning.\", FutureWarning)\n",
      "C:\\Users\\sammi\\Anaconda3\\lib\\site-packages\\sklearn\\svm\\base.py:193: FutureWarning: The default value of gamma will change from 'auto' to 'scale' in version 0.22 to account better for unscaled features. Set gamma explicitly to 'auto' or 'scale' to avoid this warning.\n",
      "  \"avoid this warning.\", FutureWarning)\n",
      "C:\\Users\\sammi\\Anaconda3\\lib\\site-packages\\sklearn\\svm\\base.py:193: FutureWarning: The default value of gamma will change from 'auto' to 'scale' in version 0.22 to account better for unscaled features. Set gamma explicitly to 'auto' or 'scale' to avoid this warning.\n",
      "  \"avoid this warning.\", FutureWarning)\n",
      "C:\\Users\\sammi\\Anaconda3\\lib\\site-packages\\sklearn\\svm\\base.py:193: FutureWarning: The default value of gamma will change from 'auto' to 'scale' in version 0.22 to account better for unscaled features. Set gamma explicitly to 'auto' or 'scale' to avoid this warning.\n",
      "  \"avoid this warning.\", FutureWarning)\n",
      "C:\\Users\\sammi\\Anaconda3\\lib\\site-packages\\sklearn\\svm\\base.py:193: FutureWarning: The default value of gamma will change from 'auto' to 'scale' in version 0.22 to account better for unscaled features. Set gamma explicitly to 'auto' or 'scale' to avoid this warning.\n",
      "  \"avoid this warning.\", FutureWarning)\n",
      "C:\\Users\\sammi\\Anaconda3\\lib\\site-packages\\sklearn\\svm\\base.py:193: FutureWarning: The default value of gamma will change from 'auto' to 'scale' in version 0.22 to account better for unscaled features. Set gamma explicitly to 'auto' or 'scale' to avoid this warning.\n",
      "  \"avoid this warning.\", FutureWarning)\n",
      "C:\\Users\\sammi\\Anaconda3\\lib\\site-packages\\sklearn\\svm\\base.py:193: FutureWarning: The default value of gamma will change from 'auto' to 'scale' in version 0.22 to account better for unscaled features. Set gamma explicitly to 'auto' or 'scale' to avoid this warning.\n",
      "  \"avoid this warning.\", FutureWarning)\n",
      "C:\\Users\\sammi\\Anaconda3\\lib\\site-packages\\sklearn\\svm\\base.py:193: FutureWarning: The default value of gamma will change from 'auto' to 'scale' in version 0.22 to account better for unscaled features. Set gamma explicitly to 'auto' or 'scale' to avoid this warning.\n",
      "  \"avoid this warning.\", FutureWarning)\n",
      "C:\\Users\\sammi\\Anaconda3\\lib\\site-packages\\sklearn\\svm\\base.py:193: FutureWarning: The default value of gamma will change from 'auto' to 'scale' in version 0.22 to account better for unscaled features. Set gamma explicitly to 'auto' or 'scale' to avoid this warning.\n",
      "  \"avoid this warning.\", FutureWarning)\n",
      "C:\\Users\\sammi\\Anaconda3\\lib\\site-packages\\sklearn\\svm\\base.py:193: FutureWarning: The default value of gamma will change from 'auto' to 'scale' in version 0.22 to account better for unscaled features. Set gamma explicitly to 'auto' or 'scale' to avoid this warning.\n",
      "  \"avoid this warning.\", FutureWarning)\n",
      "C:\\Users\\sammi\\Anaconda3\\lib\\site-packages\\sklearn\\svm\\base.py:193: FutureWarning: The default value of gamma will change from 'auto' to 'scale' in version 0.22 to account better for unscaled features. Set gamma explicitly to 'auto' or 'scale' to avoid this warning.\n",
      "  \"avoid this warning.\", FutureWarning)\n",
      "C:\\Users\\sammi\\Anaconda3\\lib\\site-packages\\sklearn\\svm\\base.py:193: FutureWarning: The default value of gamma will change from 'auto' to 'scale' in version 0.22 to account better for unscaled features. Set gamma explicitly to 'auto' or 'scale' to avoid this warning.\n",
      "  \"avoid this warning.\", FutureWarning)\n"
     ]
    },
    {
     "name": "stdout",
     "output_type": "stream",
     "text": [
      "BEST PARAM: {'C': 0.5}\n",
      "\n",
      "0.528 (+/1 0.112) for {'C': 0.001}\n",
      "0.716 (+/1 0.03) for {'C': 0.1}\n",
      "0.75 (+/1 0.026) for {'C': 0.5}\n",
      "training accuracy is:  0.7768936495791889\n",
      "testing accuracy is:  0.744019992859693\n"
     ]
    }
   ],
   "source": [
    "svc = SVC()\n",
    "parameters = {\n",
    "        'C': [0.001, 0.1, 0.5]\n",
    "}\n",
    "\n",
    "cv = GridSearchCV(svc, parameters, cv = 5)\n",
    "cv.fit(X_train,y_train)\n",
    "print_results(cv)\n",
    "print('training accuracy is: ', cv.score(X_train,y_train))\n",
    "print('testing accuracy is: ', cv.score(X_test, y_test))"
   ]
  },
  {
   "cell_type": "code",
   "execution_count": 65,
   "metadata": {
    "scrolled": true
   },
   "outputs": [
    {
     "name": "stderr",
     "output_type": "stream",
     "text": [
      "C:\\Users\\sammi\\Anaconda3\\lib\\site-packages\\sklearn\\svm\\base.py:193: FutureWarning: The default value of gamma will change from 'auto' to 'scale' in version 0.22 to account better for unscaled features. Set gamma explicitly to 'auto' or 'scale' to avoid this warning.\n",
      "  \"avoid this warning.\", FutureWarning)\n",
      "C:\\Users\\sammi\\Anaconda3\\lib\\site-packages\\sklearn\\svm\\base.py:193: FutureWarning: The default value of gamma will change from 'auto' to 'scale' in version 0.22 to account better for unscaled features. Set gamma explicitly to 'auto' or 'scale' to avoid this warning.\n",
      "  \"avoid this warning.\", FutureWarning)\n",
      "C:\\Users\\sammi\\Anaconda3\\lib\\site-packages\\sklearn\\svm\\base.py:193: FutureWarning: The default value of gamma will change from 'auto' to 'scale' in version 0.22 to account better for unscaled features. Set gamma explicitly to 'auto' or 'scale' to avoid this warning.\n",
      "  \"avoid this warning.\", FutureWarning)\n",
      "C:\\Users\\sammi\\Anaconda3\\lib\\site-packages\\sklearn\\svm\\base.py:193: FutureWarning: The default value of gamma will change from 'auto' to 'scale' in version 0.22 to account better for unscaled features. Set gamma explicitly to 'auto' or 'scale' to avoid this warning.\n",
      "  \"avoid this warning.\", FutureWarning)\n",
      "C:\\Users\\sammi\\Anaconda3\\lib\\site-packages\\sklearn\\svm\\base.py:193: FutureWarning: The default value of gamma will change from 'auto' to 'scale' in version 0.22 to account better for unscaled features. Set gamma explicitly to 'auto' or 'scale' to avoid this warning.\n",
      "  \"avoid this warning.\", FutureWarning)\n",
      "C:\\Users\\sammi\\Anaconda3\\lib\\site-packages\\sklearn\\svm\\base.py:193: FutureWarning: The default value of gamma will change from 'auto' to 'scale' in version 0.22 to account better for unscaled features. Set gamma explicitly to 'auto' or 'scale' to avoid this warning.\n",
      "  \"avoid this warning.\", FutureWarning)\n",
      "C:\\Users\\sammi\\Anaconda3\\lib\\site-packages\\sklearn\\svm\\base.py:193: FutureWarning: The default value of gamma will change from 'auto' to 'scale' in version 0.22 to account better for unscaled features. Set gamma explicitly to 'auto' or 'scale' to avoid this warning.\n",
      "  \"avoid this warning.\", FutureWarning)\n",
      "C:\\Users\\sammi\\Anaconda3\\lib\\site-packages\\sklearn\\svm\\base.py:193: FutureWarning: The default value of gamma will change from 'auto' to 'scale' in version 0.22 to account better for unscaled features. Set gamma explicitly to 'auto' or 'scale' to avoid this warning.\n",
      "  \"avoid this warning.\", FutureWarning)\n",
      "C:\\Users\\sammi\\Anaconda3\\lib\\site-packages\\sklearn\\svm\\base.py:193: FutureWarning: The default value of gamma will change from 'auto' to 'scale' in version 0.22 to account better for unscaled features. Set gamma explicitly to 'auto' or 'scale' to avoid this warning.\n",
      "  \"avoid this warning.\", FutureWarning)\n",
      "C:\\Users\\sammi\\Anaconda3\\lib\\site-packages\\sklearn\\svm\\base.py:193: FutureWarning: The default value of gamma will change from 'auto' to 'scale' in version 0.22 to account better for unscaled features. Set gamma explicitly to 'auto' or 'scale' to avoid this warning.\n",
      "  \"avoid this warning.\", FutureWarning)\n",
      "C:\\Users\\sammi\\Anaconda3\\lib\\site-packages\\sklearn\\svm\\base.py:193: FutureWarning: The default value of gamma will change from 'auto' to 'scale' in version 0.22 to account better for unscaled features. Set gamma explicitly to 'auto' or 'scale' to avoid this warning.\n",
      "  \"avoid this warning.\", FutureWarning)\n",
      "C:\\Users\\sammi\\Anaconda3\\lib\\site-packages\\sklearn\\svm\\base.py:193: FutureWarning: The default value of gamma will change from 'auto' to 'scale' in version 0.22 to account better for unscaled features. Set gamma explicitly to 'auto' or 'scale' to avoid this warning.\n",
      "  \"avoid this warning.\", FutureWarning)\n",
      "C:\\Users\\sammi\\Anaconda3\\lib\\site-packages\\sklearn\\svm\\base.py:193: FutureWarning: The default value of gamma will change from 'auto' to 'scale' in version 0.22 to account better for unscaled features. Set gamma explicitly to 'auto' or 'scale' to avoid this warning.\n",
      "  \"avoid this warning.\", FutureWarning)\n",
      "C:\\Users\\sammi\\Anaconda3\\lib\\site-packages\\sklearn\\svm\\base.py:193: FutureWarning: The default value of gamma will change from 'auto' to 'scale' in version 0.22 to account better for unscaled features. Set gamma explicitly to 'auto' or 'scale' to avoid this warning.\n",
      "  \"avoid this warning.\", FutureWarning)\n",
      "C:\\Users\\sammi\\Anaconda3\\lib\\site-packages\\sklearn\\svm\\base.py:193: FutureWarning: The default value of gamma will change from 'auto' to 'scale' in version 0.22 to account better for unscaled features. Set gamma explicitly to 'auto' or 'scale' to avoid this warning.\n",
      "  \"avoid this warning.\", FutureWarning)\n",
      "C:\\Users\\sammi\\Anaconda3\\lib\\site-packages\\sklearn\\svm\\base.py:193: FutureWarning: The default value of gamma will change from 'auto' to 'scale' in version 0.22 to account better for unscaled features. Set gamma explicitly to 'auto' or 'scale' to avoid this warning.\n",
      "  \"avoid this warning.\", FutureWarning)\n"
     ]
    },
    {
     "name": "stdout",
     "output_type": "stream",
     "text": [
      "BEST PARAM: {'C': 4}\n",
      "\n",
      "0.716 (+/1 0.03) for {'C': 0.1}\n",
      "0.757 (+/1 0.019) for {'C': 1}\n",
      "0.765 (+/1 0.027) for {'C': 4}\n",
      "training accuracy is:  0.8208110175975516\n",
      "testing accuracy is:  0.746876115672974\n"
     ]
    }
   ],
   "source": [
    "svc = SVC()\n",
    "parameters = {\n",
    "        'C': [0.1, 1,4]\n",
    "}\n",
    "\n",
    "cv = GridSearchCV(svc, parameters, cv = 5)\n",
    "cv.fit(X_train,y_train)\n",
    "print_results(cv)\n",
    "print('training accuracy is: ', cv.score(X_train,y_train))\n",
    "print('testing accuracy is: ', cv.score(X_test, y_test))"
   ]
  },
  {
   "cell_type": "code",
   "execution_count": 58,
   "metadata": {
    "scrolled": true
   },
   "outputs": [
    {
     "name": "stderr",
     "output_type": "stream",
     "text": [
      "C:\\Users\\sammi\\Anaconda3\\lib\\site-packages\\sklearn\\svm\\base.py:193: FutureWarning: The default value of gamma will change from 'auto' to 'scale' in version 0.22 to account better for unscaled features. Set gamma explicitly to 'auto' or 'scale' to avoid this warning.\n",
      "  \"avoid this warning.\", FutureWarning)\n",
      "C:\\Users\\sammi\\Anaconda3\\lib\\site-packages\\sklearn\\svm\\base.py:193: FutureWarning: The default value of gamma will change from 'auto' to 'scale' in version 0.22 to account better for unscaled features. Set gamma explicitly to 'auto' or 'scale' to avoid this warning.\n",
      "  \"avoid this warning.\", FutureWarning)\n",
      "C:\\Users\\sammi\\Anaconda3\\lib\\site-packages\\sklearn\\svm\\base.py:193: FutureWarning: The default value of gamma will change from 'auto' to 'scale' in version 0.22 to account better for unscaled features. Set gamma explicitly to 'auto' or 'scale' to avoid this warning.\n",
      "  \"avoid this warning.\", FutureWarning)\n",
      "C:\\Users\\sammi\\Anaconda3\\lib\\site-packages\\sklearn\\svm\\base.py:193: FutureWarning: The default value of gamma will change from 'auto' to 'scale' in version 0.22 to account better for unscaled features. Set gamma explicitly to 'auto' or 'scale' to avoid this warning.\n",
      "  \"avoid this warning.\", FutureWarning)\n",
      "C:\\Users\\sammi\\Anaconda3\\lib\\site-packages\\sklearn\\svm\\base.py:193: FutureWarning: The default value of gamma will change from 'auto' to 'scale' in version 0.22 to account better for unscaled features. Set gamma explicitly to 'auto' or 'scale' to avoid this warning.\n",
      "  \"avoid this warning.\", FutureWarning)\n",
      "C:\\Users\\sammi\\Anaconda3\\lib\\site-packages\\sklearn\\svm\\base.py:193: FutureWarning: The default value of gamma will change from 'auto' to 'scale' in version 0.22 to account better for unscaled features. Set gamma explicitly to 'auto' or 'scale' to avoid this warning.\n",
      "  \"avoid this warning.\", FutureWarning)\n",
      "C:\\Users\\sammi\\Anaconda3\\lib\\site-packages\\sklearn\\svm\\base.py:193: FutureWarning: The default value of gamma will change from 'auto' to 'scale' in version 0.22 to account better for unscaled features. Set gamma explicitly to 'auto' or 'scale' to avoid this warning.\n",
      "  \"avoid this warning.\", FutureWarning)\n",
      "C:\\Users\\sammi\\Anaconda3\\lib\\site-packages\\sklearn\\svm\\base.py:193: FutureWarning: The default value of gamma will change from 'auto' to 'scale' in version 0.22 to account better for unscaled features. Set gamma explicitly to 'auto' or 'scale' to avoid this warning.\n",
      "  \"avoid this warning.\", FutureWarning)\n",
      "C:\\Users\\sammi\\Anaconda3\\lib\\site-packages\\sklearn\\svm\\base.py:193: FutureWarning: The default value of gamma will change from 'auto' to 'scale' in version 0.22 to account better for unscaled features. Set gamma explicitly to 'auto' or 'scale' to avoid this warning.\n",
      "  \"avoid this warning.\", FutureWarning)\n",
      "C:\\Users\\sammi\\Anaconda3\\lib\\site-packages\\sklearn\\svm\\base.py:193: FutureWarning: The default value of gamma will change from 'auto' to 'scale' in version 0.22 to account better for unscaled features. Set gamma explicitly to 'auto' or 'scale' to avoid this warning.\n",
      "  \"avoid this warning.\", FutureWarning)\n",
      "C:\\Users\\sammi\\Anaconda3\\lib\\site-packages\\sklearn\\svm\\base.py:193: FutureWarning: The default value of gamma will change from 'auto' to 'scale' in version 0.22 to account better for unscaled features. Set gamma explicitly to 'auto' or 'scale' to avoid this warning.\n",
      "  \"avoid this warning.\", FutureWarning)\n",
      "C:\\Users\\sammi\\Anaconda3\\lib\\site-packages\\sklearn\\svm\\base.py:193: FutureWarning: The default value of gamma will change from 'auto' to 'scale' in version 0.22 to account better for unscaled features. Set gamma explicitly to 'auto' or 'scale' to avoid this warning.\n",
      "  \"avoid this warning.\", FutureWarning)\n",
      "C:\\Users\\sammi\\Anaconda3\\lib\\site-packages\\sklearn\\svm\\base.py:193: FutureWarning: The default value of gamma will change from 'auto' to 'scale' in version 0.22 to account better for unscaled features. Set gamma explicitly to 'auto' or 'scale' to avoid this warning.\n",
      "  \"avoid this warning.\", FutureWarning)\n",
      "C:\\Users\\sammi\\Anaconda3\\lib\\site-packages\\sklearn\\svm\\base.py:193: FutureWarning: The default value of gamma will change from 'auto' to 'scale' in version 0.22 to account better for unscaled features. Set gamma explicitly to 'auto' or 'scale' to avoid this warning.\n",
      "  \"avoid this warning.\", FutureWarning)\n",
      "C:\\Users\\sammi\\Anaconda3\\lib\\site-packages\\sklearn\\svm\\base.py:193: FutureWarning: The default value of gamma will change from 'auto' to 'scale' in version 0.22 to account better for unscaled features. Set gamma explicitly to 'auto' or 'scale' to avoid this warning.\n",
      "  \"avoid this warning.\", FutureWarning)\n",
      "C:\\Users\\sammi\\Anaconda3\\lib\\site-packages\\sklearn\\svm\\base.py:193: FutureWarning: The default value of gamma will change from 'auto' to 'scale' in version 0.22 to account better for unscaled features. Set gamma explicitly to 'auto' or 'scale' to avoid this warning.\n",
      "  \"avoid this warning.\", FutureWarning)\n"
     ]
    },
    {
     "name": "stdout",
     "output_type": "stream",
     "text": [
      "BEST PARAM: {'C': 2}\n",
      "\n",
      "0.716 (+/1 0.03) for {'C': 0.1}\n",
      "0.757 (+/1 0.019) for {'C': 1}\n",
      "0.761 (+/1 0.025) for {'C': 2}\n",
      "training accuracy is:  0.8024483550114767\n",
      "testing accuracy is:  0.7486611924312745\n"
     ]
    }
   ],
   "source": [
    "svc = SVC()\n",
    "parameters = {\n",
    "        'C': [0.1, 1, 2]\n",
    "}\n",
    "\n",
    "cv = GridSearchCV(svc, parameters, cv = 5)\n",
    "cv.fit(X_train,y_train)\n",
    "print_results(cv)\n",
    "print('training accuracy is: ', cv.score(X_train,y_train))\n",
    "print('testing accuracy is: ', cv.score(X_test, y_test))"
   ]
  },
  {
   "cell_type": "markdown",
   "metadata": {},
   "source": [
    "#### Attempt to improve wth Kernel"
   ]
  },
  {
   "cell_type": "code",
   "execution_count": 9,
   "metadata": {},
   "outputs": [],
   "source": [
    "from sklearn.metrics import classification_report, confusion_matrix"
   ]
  },
  {
   "cell_type": "code",
   "execution_count": 55,
   "metadata": {},
   "outputs": [
    {
     "name": "stdout",
     "output_type": "stream",
     "text": [
      "[[ 931  469]\n",
      " [ 355 1046]]\n",
      "Kernel = linear\n",
      "              precision    recall  f1-score   support\n",
      "\n",
      "           0       0.72      0.67      0.69      1400\n",
      "           1       0.69      0.75      0.72      1401\n",
      "\n",
      "    accuracy                           0.71      2801\n",
      "   macro avg       0.71      0.71      0.71      2801\n",
      "weighted avg       0.71      0.71      0.71      2801\n",
      "\n"
     ]
    },
    {
     "name": "stderr",
     "output_type": "stream",
     "text": [
      "C:\\Users\\sammi\\Anaconda3\\lib\\site-packages\\sklearn\\svm\\base.py:193: FutureWarning: The default value of gamma will change from 'auto' to 'scale' in version 0.22 to account better for unscaled features. Set gamma explicitly to 'auto' or 'scale' to avoid this warning.\n",
      "  \"avoid this warning.\", FutureWarning)\n"
     ]
    },
    {
     "name": "stdout",
     "output_type": "stream",
     "text": [
      "[[ 912  488]\n",
      " [ 216 1185]]\n",
      "Kernel = rbf\n",
      "              precision    recall  f1-score   support\n",
      "\n",
      "           0       0.81      0.65      0.72      1400\n",
      "           1       0.71      0.85      0.77      1401\n",
      "\n",
      "    accuracy                           0.75      2801\n",
      "   macro avg       0.76      0.75      0.75      2801\n",
      "weighted avg       0.76      0.75      0.75      2801\n",
      "\n"
     ]
    },
    {
     "name": "stderr",
     "output_type": "stream",
     "text": [
      "C:\\Users\\sammi\\Anaconda3\\lib\\site-packages\\sklearn\\svm\\base.py:193: FutureWarning: The default value of gamma will change from 'auto' to 'scale' in version 0.22 to account better for unscaled features. Set gamma explicitly to 'auto' or 'scale' to avoid this warning.\n",
      "  \"avoid this warning.\", FutureWarning)\n"
     ]
    },
    {
     "name": "stdout",
     "output_type": "stream",
     "text": [
      "[[703 697]\n",
      " [836 565]]\n",
      "Kernel = sigmoid\n",
      "              precision    recall  f1-score   support\n",
      "\n",
      "           0       0.46      0.50      0.48      1400\n",
      "           1       0.45      0.40      0.42      1401\n",
      "\n",
      "    accuracy                           0.45      2801\n",
      "   macro avg       0.45      0.45      0.45      2801\n",
      "weighted avg       0.45      0.45      0.45      2801\n",
      "\n"
     ]
    }
   ],
   "source": [
    "kernels = ['linear','rbf','sigmoid']\n",
    "for k in kernels:\n",
    "    svc = SVC(C=2, kernel=k)\n",
    "    svc.fit(X_train, y_train)\n",
    "    y_pred = svc.predict(X_test)\n",
    "    print(confusion_matrix(y_test,y_pred))\n",
    "    print(\"Kernel = \"+str(k))\n",
    "    print(classification_report(y_test,y_pred))"
   ]
  },
  {
   "cell_type": "code",
   "execution_count": 10,
   "metadata": {},
   "outputs": [
    {
     "name": "stdout",
     "output_type": "stream",
     "text": [
      "[[ 931  469]\n",
      " [ 355 1046]]\n",
      "              precision    recall  f1-score   support\n",
      "\n",
      "           0       0.72      0.67      0.69      1400\n",
      "           1       0.69      0.75      0.72      1401\n",
      "\n",
      "    accuracy                           0.71      2801\n",
      "   macro avg       0.71      0.71      0.71      2801\n",
      "weighted avg       0.71      0.71      0.71      2801\n",
      "\n"
     ]
    }
   ],
   "source": [
    "svc = SVC(C=2, kernel='linear')\n",
    "svc.fit(X_train, y_train)\n",
    "y_pred = svc.predict(X_test)\n",
    "print(confusion_matrix(y_test,y_pred))\n",
    "print(classification_report(y_test,y_pred))"
   ]
  },
  {
   "cell_type": "code",
   "execution_count": 11,
   "metadata": {},
   "outputs": [
    {
     "name": "stderr",
     "output_type": "stream",
     "text": [
      "C:\\Users\\sammi\\Anaconda3\\lib\\site-packages\\sklearn\\svm\\base.py:193: FutureWarning: The default value of gamma will change from 'auto' to 'scale' in version 0.22 to account better for unscaled features. Set gamma explicitly to 'auto' or 'scale' to avoid this warning.\n",
      "  \"avoid this warning.\", FutureWarning)\n"
     ]
    },
    {
     "name": "stdout",
     "output_type": "stream",
     "text": [
      "[[ 912  488]\n",
      " [ 216 1185]]\n",
      "              precision    recall  f1-score   support\n",
      "\n",
      "           0       0.81      0.65      0.72      1400\n",
      "           1       0.71      0.85      0.77      1401\n",
      "\n",
      "    accuracy                           0.75      2801\n",
      "   macro avg       0.76      0.75      0.75      2801\n",
      "weighted avg       0.76      0.75      0.75      2801\n",
      "\n"
     ]
    }
   ],
   "source": [
    "svc = SVC(C=2, kernel='rbf')\n",
    "svc.fit(X_train, y_train)\n",
    "y_pred = svc.predict(X_test)\n",
    "print(confusion_matrix(y_test,y_pred))\n",
    "print(classification_report(y_test,y_pred))"
   ]
  },
  {
   "cell_type": "code",
   "execution_count": 10,
   "metadata": {},
   "outputs": [
    {
     "name": "stderr",
     "output_type": "stream",
     "text": [
      "C:\\Users\\sammi\\Anaconda3\\lib\\site-packages\\sklearn\\svm\\base.py:193: FutureWarning: The default value of gamma will change from 'auto' to 'scale' in version 0.22 to account better for unscaled features. Set gamma explicitly to 'auto' or 'scale' to avoid this warning.\n",
      "  \"avoid this warning.\", FutureWarning)\n"
     ]
    },
    {
     "name": "stdout",
     "output_type": "stream",
     "text": [
      "[[703 697]\n",
      " [836 565]]\n",
      "              precision    recall  f1-score   support\n",
      "\n",
      "           0       0.46      0.50      0.48      1400\n",
      "           1       0.45      0.40      0.42      1401\n",
      "\n",
      "    accuracy                           0.45      2801\n",
      "   macro avg       0.45      0.45      0.45      2801\n",
      "weighted avg       0.45      0.45      0.45      2801\n",
      "\n"
     ]
    }
   ],
   "source": [
    "svc = SVC(C=2, kernel='sigmoid')\n",
    "svc.fit(X_train, y_train)\n",
    "y_pred = svc.predict(X_test)\n",
    "print(confusion_matrix(y_test,y_pred))\n",
    "print(classification_report(y_test,y_pred))"
   ]
  },
  {
   "cell_type": "code",
   "execution_count": 57,
   "metadata": {},
   "outputs": [
    {
     "name": "stderr",
     "output_type": "stream",
     "text": [
      "C:\\Users\\sammi\\Anaconda3\\lib\\site-packages\\sklearn\\svm\\base.py:193: FutureWarning: The default value of gamma will change from 'auto' to 'scale' in version 0.22 to account better for unscaled features. Set gamma explicitly to 'auto' or 'scale' to avoid this warning.\n",
      "  \"avoid this warning.\", FutureWarning)\n"
     ]
    },
    {
     "name": "stdout",
     "output_type": "stream",
     "text": [
      "training accuracy is:  0.8024483550114767\n",
      "testing accuracy is:  0.7486611924312745\n"
     ]
    }
   ],
   "source": [
    "# Using RBF\n",
    "svc = SVC(C=2, kernel='rbf')\n",
    "svc.fit(X_train, y_train)\n",
    "print('training accuracy is: ', svc.score(X_train,y_train))\n",
    "print('testing accuracy is: ', svc.score(X_test, y_test))"
   ]
  },
  {
   "cell_type": "code",
   "execution_count": 73,
   "metadata": {},
   "outputs": [
    {
     "name": "stderr",
     "output_type": "stream",
     "text": [
      "C:\\Users\\sammi\\Anaconda3\\lib\\site-packages\\sklearn\\svm\\base.py:193: FutureWarning: The default value of gamma will change from 'auto' to 'scale' in version 0.22 to account better for unscaled features. Set gamma explicitly to 'auto' or 'scale' to avoid this warning.\n",
      "  \"avoid this warning.\", FutureWarning)\n"
     ]
    },
    {
     "data": {
      "text/plain": [
       "SVC(C=2, cache_size=200, class_weight=None, coef0=0.0,\n",
       "    decision_function_shape='ovr', degree=3, gamma='auto_deprecated',\n",
       "    kernel='rbf', max_iter=-1, probability=False, random_state=None,\n",
       "    shrinking=True, tol=0.001, verbose=False)"
      ]
     },
     "execution_count": 73,
     "metadata": {},
     "output_type": "execute_result"
    }
   ],
   "source": [
    "svc = SVC(C=2, kernel='rbf')\n",
    "svc.fit(X_train,y_train)"
   ]
  },
  {
   "cell_type": "markdown",
   "metadata": {},
   "source": [
    "#### How to improve Gamma"
   ]
  },
  {
   "cell_type": "code",
   "execution_count": 54,
   "metadata": {},
   "outputs": [
    {
     "name": "stdout",
     "output_type": "stream",
     "text": [
      "Gamma = 0.1\n",
      "              precision    recall  f1-score   support\n",
      "\n",
      "           0       0.81      0.65      0.72      1400\n",
      "           1       0.71      0.84      0.77      1401\n",
      "\n",
      "    accuracy                           0.75      2801\n",
      "   macro avg       0.76      0.75      0.75      2801\n",
      "weighted avg       0.76      0.75      0.75      2801\n",
      "\n",
      "Gamma = 1\n",
      "              precision    recall  f1-score   support\n",
      "\n",
      "           0       0.69      0.69      0.69      1400\n",
      "           1       0.69      0.69      0.69      1401\n",
      "\n",
      "    accuracy                           0.69      2801\n",
      "   macro avg       0.69      0.69      0.69      2801\n",
      "weighted avg       0.69      0.69      0.69      2801\n",
      "\n",
      "Gamma = 10\n",
      "              precision    recall  f1-score   support\n",
      "\n",
      "           0       0.52      0.95      0.67      1400\n",
      "           1       0.70      0.12      0.20      1401\n",
      "\n",
      "    accuracy                           0.53      2801\n",
      "   macro avg       0.61      0.53      0.44      2801\n",
      "weighted avg       0.61      0.53      0.44      2801\n",
      "\n",
      "Gamma = 100\n",
      "              precision    recall  f1-score   support\n",
      "\n",
      "           0       0.52      0.96      0.67      1400\n",
      "           1       0.72      0.10      0.18      1401\n",
      "\n",
      "    accuracy                           0.53      2801\n",
      "   macro avg       0.62      0.53      0.43      2801\n",
      "weighted avg       0.62      0.53      0.43      2801\n",
      "\n"
     ]
    }
   ],
   "source": [
    "gammas = [0.1, 1, 10, 100]\n",
    "for g in gammas:\n",
    "    svc = SVC(kernel='rbf', C=2, gamma=g)\n",
    "    svc.fit(X_train, y_train)\n",
    "    y_pred = svc.predict(X_test)\n",
    "    print(\"Gamma = \"+ str(g))\n",
    "    print(classification_report(y_test,y_pred))"
   ]
  },
  {
   "cell_type": "code",
   "execution_count": 74,
   "metadata": {},
   "outputs": [
    {
     "name": "stdout",
     "output_type": "stream",
     "text": [
      "Gamma   Training Accuracy   Testing Accuracy   \n",
      "0.001   0.749               0.739              \n",
      "0.01    0.754               0.733              \n",
      "0.05    0.784               0.748              \n",
      "0.1     0.812               0.748              \n",
      "1       0.973               0.691              \n",
      "10      0.991               0.534              \n"
     ]
    }
   ],
   "source": [
    "gammas = [0.001, 0.01, 0.05, 0.1, 1, 10]\n",
    "print(\"{0:<7} {1:<19} {2:<19}\".format(\"Gamma\", \"Training Accuracy\", \"Testing Accuracy\"))\n",
    "for g in gammas:\n",
    "    svc = SVC(kernel='rbf', C=2, gamma=g)\n",
    "    svc.fit(X_train, y_train)\n",
    "    print(\"{0:<7} {1:<19.3f} {2:<19.3f}\".format(g, svc.score(X_train,y_train), svc.score(X_test, y_test)))"
   ]
  },
  {
   "cell_type": "code",
   "execution_count": 79,
   "metadata": {},
   "outputs": [
    {
     "name": "stdout",
     "output_type": "stream",
     "text": [
      "Execution time: 3.87 seconds.\n"
     ]
    }
   ],
   "source": [
    "start = time.time()\n",
    "svc = SVC(kernel='rbf', C=2, gamma=g)\n",
    "svc.fit(X_train, y_train)\n",
    "print('Execution time: {0:.2f} seconds.'.format(time.time() - start))"
   ]
  }
 ],
 "metadata": {
  "kernelspec": {
   "display_name": "Python-3.6",
   "language": "python",
   "name": "python-3.6"
  },
  "language_info": {
   "codemirror_mode": {
    "name": "ipython",
    "version": 3
   },
   "file_extension": ".py",
   "mimetype": "text/x-python",
   "name": "python",
   "nbconvert_exporter": "python",
   "pygments_lexer": "ipython3",
   "version": "3.6.9"
  }
 },
 "nbformat": 4,
 "nbformat_minor": 2
}
